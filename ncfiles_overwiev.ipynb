{
 "cells": [
  {
   "cell_type": "markdown",
   "metadata": {},
   "source": [
    "## Project Overwiev of the data: measuremnts "
   ]
  },
  {
   "cell_type": "markdown",
   "metadata": {},
   "source": [
    "## 1. Overwiev of the ncfile of  choice "
   ]
  },
  {
   "cell_type": "code",
   "execution_count": null,
   "metadata": {},
   "outputs": [],
   "source": [
    "#Import all needed libraries: \n",
    "import os\n",
    "import numpy as np\n",
    "import pandas as pd\n",
    "import netCDF4 as nc\n",
    "from netCDF4 import Dataset\n",
    "import matplotlib.pyplot as plt\n",
    "import cartopy.crs as ccrs"
   ]
  },
  {
   "cell_type": "code",
   "execution_count": null,
   "metadata": {},
   "outputs": [],
   "source": [
    "bouy6_path = 'data/measurements/2023-11-06_Buoy6_BSH_N-9.nc'\n",
    "bouy2_path = 'data/measurements/2023-11-09_Buoy2_BSH_N-9.nc'\n",
    "bouy2_file = Dataset(bouy2_path)\n",
    "bouy6_file = Dataset(bouy6_path)"
   ]
  },
  {
   "cell_type": "code",
   "execution_count": null,
   "metadata": {},
   "outputs": [],
   "source": [
    "#Define a few functions to explore the structure and variables inside the ncfiles \n",
    "def overwiev_ncfile(current_ncfile):\n",
    "    \n",
    "    # Print all the head groups first with enumeration\n",
    "    for group_count, group_name in enumerate(current_ncfile.groups):\n",
    "        group = current_ncfile.groups[group_name]\n",
    "        print(f\"TopGroup Nr. {group_count + 1}: {group_name}\")\n",
    "    print(f\"---------------------------------------------------------\")\n",
    "    print(f\"---------------------------------------------------------\")\n",
    "\n",
    "    # Iterate over all the groups\n",
    "    for group_name in current_ncfile.groups:\n",
    "        group = current_ncfile.groups[group_name]\n",
    "        print(f\"TopGroup: {group_name}\")\n",
    "\n",
    "        for variable_group in group.variables: #over all variables\n",
    "            group_variable = group.variables[variable_group]\n",
    "            print(f\"    Groupvariable: {variable_group}\")\n",
    "        \n",
    "        for subgroup_name in group.groups: #subgroups\n",
    "            subgroup = group.groups[subgroup_name]\n",
    "            print(f\"        Subgroup: {subgroup_name}\")\n",
    "                \n",
    "            for variable_name in subgroup.variables: #variables in a subgroup \n",
    "                variable = subgroup.variables[variable_name]\n",
    "                print(f\"            SubGroupVariable: {variable_name}\")\n",
    "    print(f\"---------------------------------------------------------\")\n",
    "    print(f\"---------------------------------------------------------\")\n",
    "\n",
    "def explore_topgroup_variables(current_ncfile, topgroup_name):\n",
    "\n",
    "    for variable_name in current_ncfile.groups[topgroup_name].variables:\n",
    "        variable = current_ncfile.groups[topgroup_name].variables[variable_name]\n",
    "        print(f\"Variable Name: {variable_name}\")\n",
    "        print(f\"Variable Attributes:\")\n",
    "        print(f\"    Units: {variable.units}\")\n",
    "        print(f\"    Long Name: {variable.long_name}\")\n",
    "        print(f\"    Shape: {variable.shape}\")\n",
    "        print(f\"---------------------------------------------------------\")\n",
    "\n",
    "def explore_sub_groups(current_ncfile, top_group_name):\n",
    "    top_group_name = current_ncfile.groups[top_group_name] \n",
    "\n",
    "    for subgroup_name in top_group_name.groups:\n",
    "        subgroup = top_group_name.groups[subgroup_name]\n",
    "        print(f\"SUBGROUP: {subgroup_name}\")\n",
    "    \n",
    "         # Iterate over the variables in the subgroup and print their attributes\n",
    "        for variable_name in subgroup.variables:\n",
    "            variable = subgroup.variables[variable_name]\n",
    "            print(f\"Variable Name: {variable_name}\")\n",
    "            print(f\"Variable Attributes:\")\n",
    "            print(f\"    Units: {variable.units}\")\n",
    "            print(f\"    Long Name: {variable.long_name}\")\n",
    "            print(f\"    Shape: {variable.shape}\")\n",
    "            print(f\"---------------------------------------------------------\")"
   ]
  },
  {
   "cell_type": "markdown",
   "metadata": {},
   "source": [
    "## 1.1 Overwiev for the bouy2"
   ]
  },
  {
   "cell_type": "code",
   "execution_count": null,
   "metadata": {},
   "outputs": [],
   "source": [
    "overwiev_ncfile(bouy2_file)"
   ]
  },
  {
   "cell_type": "code",
   "execution_count": null,
   "metadata": {},
   "outputs": [],
   "source": [
    "explore_topgroup_variables(bouy2_file,'ZX_LIDAR_WLBZ_2')\n",
    "print(f\"---------------------------------------------------------\")\n",
    "print(f\"---------------------------------------------------------\")\n",
    "explore_topgroup_variables(bouy2_file, 'ZX_LIDAR_WLBZ_6_MCP')"
   ]
  },
  {
   "cell_type": "code",
   "execution_count": null,
   "metadata": {},
   "outputs": [],
   "source": [
    "explore_sub_groups(bouy2_file, 'METEO_WLBZ_2')\n",
    "print(f\"---------------------------------------------------------\")\n",
    "print('------------NEXT TOP GROUP EXPLORED-----------------------')\n",
    "print(f\"---------------------------------------------------------\")\n",
    "explore_sub_groups(bouy2_file, 'METEO_WLBZ_6_MCP')"
   ]
  },
  {
   "cell_type": "code",
   "execution_count": null,
   "metadata": {},
   "outputs": [],
   "source": []
  }
 ],
 "metadata": {
  "kernelspec": {
   "display_name": "Python 3",
   "language": "python",
   "name": "python3"
  },
  "language_info": {
   "codemirror_mode": {
    "name": "ipython",
    "version": 3
   },
   "file_extension": ".py",
   "mimetype": "text/x-python",
   "name": "python",
   "nbconvert_exporter": "python",
   "pygments_lexer": "ipython3",
   "version": "3.11.9"
  }
 },
 "nbformat": 4,
 "nbformat_minor": 2
}
