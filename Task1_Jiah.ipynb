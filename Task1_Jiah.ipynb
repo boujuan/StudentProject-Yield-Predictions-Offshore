{
 "cells": [
  {
   "cell_type": "code",
   "execution_count": null,
   "metadata": {},
   "outputs": [],
   "source": [
    "## opening measurement with xarray\n",
    "import xarray as xr\n",
    "\n",
    "lidar1 = xr.open_dataset('data/measurements/2023-11-06_Buoy6_BSH_N-9.nc')\n",
    "lidar2 = xr.open_dataset('data/measurements/2023-11-09_Buoy2_BSH_N-9.nc')\n",
    "\n",
    "lidar1.keys()\n",
    "#lidar2.keys()\n"
   ]
  },
  {
   "cell_type": "code",
   "execution_count": null,
   "metadata": {},
   "outputs": [],
   "source": [
    "import netCDF4 as nc\n",
    "\n",
    "lidar1 = nc.Dataset('data/measurements/2023-11-06_Buoy6_BSH_N-9.nc')"
   ]
  },
  {
   "cell_type": "code",
   "execution_count": null,
   "metadata": {},
   "outputs": [],
   "source": [
    "import geopandas as gpd"
   ]
  },
  {
   "cell_type": "code",
   "execution_count": null,
   "metadata": {},
   "outputs": [],
   "source": [
    "DEU_shp = gpd.read_file('data/shapefiles/DEU/DEU_adm1.shp')\n",
    "DNK_shp = gpd.read_file('data/shapefiles/DNK/gadm36_DNK_1.shp')\n",
    "NLD_shp = gpd.read_file('data/shapefiles/NLD/gadm36_NLD_1.shp')\n",
    "\n",
    "area_shp = gpd.read_file('data/shapefiles/FEP2024_PreDraft/area.shp')\n",
    "expansion_area_consideration_shp = gpd.read_file('data/shapefiles/FEP2024_PreDraft/expansion_area_under_consideration.shp')\n",
    "other_energy_generation_shp = gpd.read_file('data/shapefiles/FEP2024_PreDraft/otherenergygeneration.shp')\n",
    "possible_expansion_shp = gpd.read_file('data/shapefiles/FEP2024_PreDraft/possible_expansion_area.shp')\n",
    "site_shp = gpd.read_file('data/shapefiles/FEP2024_PreDraft/site.shp')\n",
    "\n",
    "\n",
    "#DEU_shp = gpd.read_file('data/shapefiles/DEU/DEU_adm1.shp')"
   ]
  },
  {
   "cell_type": "code",
   "execution_count": null,
   "metadata": {},
   "outputs": [],
   "source": [
    "site_shp"
   ]
  },
  {
   "cell_type": "code",
   "execution_count": null,
   "metadata": {},
   "outputs": [],
   "source": [
    "site_shp[site_shp['name_fep']=='N-9.1']\n",
    "#site_shp[site_shp['name_fep']=='N-9.2']\n",
    "#site_shp[site_shp['name_fep']=='N-9.3']"
   ]
  },
  {
   "cell_type": "code",
   "execution_count": null,
   "metadata": {},
   "outputs": [],
   "source": [
    "site_shp[site_shp['name_fep']=='N-9.1'].to_crs(\"EPSG:25832\")"
   ]
  },
  {
   "cell_type": "code",
   "execution_count": null,
   "metadata": {},
   "outputs": [],
   "source": [
    "N_9_1_center = site_shp[site_shp['name_fep']=='N-9.1'].centroid"
   ]
  },
  {
   "cell_type": "code",
   "execution_count": null,
   "metadata": {},
   "outputs": [],
   "source": [
    "import cartopy.crs as ccrs\n",
    "import cartopy.feature as cfeature\n",
    "import matplotlib.pyplot as plt\n",
    "\n",
    "\n",
    "#DEU_shp[DEU_shp[\"NAME_1\"]==\"Niedersachsen\"].plot(ax=ax, legend=True, transform=ccrs.PlateCarree(),edgecolor='grey', facecolor='grey',aspect=None)\n",
    "site_shp[site_shp['name_fep']=='N-9.1'].plot(ax=ax, legend=True, transform=ccrs.PlateCarree(),edgecolor='red', facecolor='red',aspect=None)\n"
   ]
  },
  {
   "cell_type": "code",
   "execution_count": null,
   "metadata": {},
   "outputs": [],
   "source": [
    "import cartopy.crs as ccrs\n",
    "import cartopy.feature as cfeature\n",
    "import matplotlib.pyplot as plt\n",
    "\n",
    "proj1=ccrs.LambertConformal(central_longitude=10.0, central_latitude=51, standard_parallels=(48, 54)) # neet to specify a central longitude/latitude \n",
    "\n",
    "fig = plt.figure()\n",
    "ax = fig.add_subplot(1, 1, 1, projection=proj1)\n",
    "ax.set_extent([3.5, 16, 47, 56])\n",
    "ax.add_feature(cfeature.LAND)\n",
    "ax.add_feature(cfeature.OCEAN)\n",
    "ax.add_feature(cfeature.COASTLINE)\n",
    "ax.add_feature(cfeature.BORDERS, linestyle=':')\n",
    "ax.add_feature(cfeature.LAKES, alpha=0.5)\n",
    "ax.add_feature(cfeature.RIVERS)\n",
    "ax.text(8,53,\"Oldenburg\",transform=ccrs.PlateCarree())\n",
    "ax.plot(8.21,53.14,\"ro\",ms=10,transform=ccrs.PlateCarree())\n",
    "plt.show()"
   ]
  },
  {
   "cell_type": "markdown",
   "metadata": {},
   "source": [
    "---------------------------------------------------------------------------------"
   ]
  },
  {
   "cell_type": "code",
   "execution_count": null,
   "metadata": {},
   "outputs": [],
   "source": [
    "## ERA 5 data\n",
    "import pandas as pd\n",
    "import numpy as np\n",
    "import matplotlib.pyplot as plt\n",
    "import os\n",
    "\n",
    "# Directory where your CSV files are stored\n",
    "era5_path = 'data/reanalysis'\n",
    "\n",
    "# List all CSV files in the directory\n",
    "csv_files = [f for f in os.listdir(era5_path) if f.endswith('.csv')]\n",
    "\n",
    "# Sort files with year\n",
    "csv_files.sort()\n",
    "\n",
    "# Full path to the files\n",
    "full_paths = [os.path.join(era5_path, file) for file in csv_files]\n",
    "\n",
    "# Read each CSV file and concatenate them into one DataFrame\n",
    "era5_data = pd.concat((pd.read_csv(fp) for fp in full_paths), ignore_index=True)\n",
    "\n",
    "era5_data['WS100'] = np.sqrt(era5_data['u100']**2 + era5_data['v100']**2)\n",
    "era5_data['WS10'] = np.sqrt(era5_data['u10']**2 + era5_data['v10']**2)\n",
    "\n",
    "print(era5_data)\n",
    "\n",
    "## Plotting\n",
    "\n",
    "# Convert 'Time [UTC]' to datetime if it's not already\n",
    "era5_data['Time [UTC]'] = pd.to_datetime(era5_data['Time [UTC]'])\n",
    "\n",
    "# Set the datetime as the index of the DataFrame\n",
    "era5_data.set_index('Time [UTC]', inplace=True)\n",
    "\n",
    "# Plotting\n",
    "plt.figure(figsize=(14, 7))  # Adjust the size as needed\n",
    "plt.plot(era5_data.index, era5_data['WS100'], label='Wind Speed at 100m (WS100)', linewidth=0.5)\n",
    "plt.plot(era5_data.index, era5_data['WS10'], label='Wind Speed at 10m (WS10)', linewidth=0.5)\n",
    "\n",
    "plt.title('Wind Speed Time Series')\n",
    "plt.xlabel('Time')\n",
    "plt.ylabel('Wind Speed (m/s)')\n",
    "plt.legend()\n",
    "plt.grid(True)\n",
    "plt.show()"
   ]
  },
  {
   "cell_type": "code",
   "execution_count": null,
   "metadata": {},
   "outputs": [],
   "source": [
    "# Filter ERA5 data for a specific year range\n",
    "era5_filtered = era5_data[(era5_data['Year'] >= 1990) & (era5_data['Year'] <= 2023)]"
   ]
  }
 ],
 "metadata": {
  "kernelspec": {
   "display_name": "base",
   "language": "python",
   "name": "python3"
  },
  "language_info": {
   "codemirror_mode": {
    "name": "ipython",
    "version": 3
   },
   "file_extension": ".py",
   "mimetype": "text/x-python",
   "name": "python",
   "nbconvert_exporter": "python",
   "pygments_lexer": "ipython3",
   "version": "3.12.3"
  }
 },
 "nbformat": 4,
 "nbformat_minor": 2
}
