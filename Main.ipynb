{
 "cells": [
  {
   "cell_type": "markdown",
   "metadata": {},
   "source": [
    "## Yield Predictions for German Offshore Tenders 2024 Project Overview\n",
    "### Python Programming in Energy Science II - Group 5\n",
    "---\n",
    "- [PDF Instructions](./data/PPES-SoSe2024_StudentProject.pdf)\n",
    "- [Github Repository](https://github.com/boujuan/StudentProject-Yield-Predictions-Offshore)\n",
    "\n",
    "**AUTHORS:**\n",
    "- [Jiah Ryu](mailto:jiah.ryu@uni-oldenburg.de)\n",
    "- [Julia Guimaraes Zimmer](mailto:julia.guimaraes.zimmer@uni-oldenburg.de)\n",
    "- [Pascal Pflüger](mailto:pascal.pflueger@uni-oldenburg.de)\n",
    "- [Juan Manuel Boullosa Novo](mailto:juan.manuel.boullosa.novo@uni-oldenburg.de)\n",
    "\n",
    "**DATA:**\n",
    "- Floating Lidar Measurements from two positions = `'data/measurements/*.nc'`\n",
    "- Long-term reference model data (ERA5): 1990-2023 = `'data/reanalysis/*.csv'`\n",
    "- Turbine coordinates of existing wind farms = `'data/turbine-info/coordinates/existing/*.csv'`\n",
    "- Turbine coordinates of planned wind farms = `'data/turbine-info/coordinates/planned_future/*.csv'`\n",
    "- Turbine coordinates in operation before 2023 = `'data/turbine-info/coordinates/planned_in_operation_before_2030/*.csv'`\n",
    "- Turbine coordinates planned in Netherlands = `'data/turbine-info/coordinates/planned_netherlands/*.csv'`\n",
    "- Geometric turbine coordinates for the areas of interest N-9.1/N-9.2/N-9.3 (not optimized – see Task 12) = `'data/turbine-info/coordinates/area_of_interest/*.csv'`\n",
    "- Shapefiles of wind farm areas, the countries Denmark, Germany and the Netherlands = `'data/shapefiles/.../*'`\n",
    "- Thrust and power curves of wind turbines = `'data/turbine-info/power_curves/*.csv'`\n",
    "\n",
    "---\n",
    "\n",
    "**TASKS:**\n",
    "To estimate the short-term wind climate of the three areas of interest, we first look at the planned area. Furthermore, we explore the structure given in the NC files and choose the data we need for further analytics:\n",
    "\n",
    "1. Import libraries, set up file paths, and open datasets\n",
    "2. Set turbine design:\n",
    "   - Hub height\n",
    "   - Rotor diameter\n",
    "   - Model, etc.\n",
    "3. Plot the field of interest together with the lidar measurement buoy positions\n",
    "4. Explore the structure and variables inside the NC files\n",
    "5. Decide which data to use for further analytics\n",
    "6. Select variables of interest\n",
    "7. Create a dataframe out of them\n",
    "8. Check for data gaps, NaN values, and duplicated data\n",
    "9. Filter incorrect data points\n",
    "10. Select data for only one year, so that buoy 2 and buoy 6 have the same length\n",
    "11. Interpolate both buoy datasets, with the 140 m and 200 m to hub height of 150 m\n",
    "12. Create a new dataframe for the interpolated data\n",
    "13. Export it to a CSV file for further use\n",
    "14. Compare Buoy 2 and 6 to ensure that the data processing didn’t go wrong\n",
    "15. Plot time series of the wind speed for both met masts\n",
    "16. Calculate the monthly and annual wind statistics for the windspeed and the winddirection for both met masts \n",
    "17. Group the data into hours of the day and calculate the mean windspeed and winddirection of every day \n",
    "18. Plot the diurnal windspeed and winddirection for both buoys \n",
    "19. Perform some checks about the grouping \n",
    "20. Plot windroses for both buoys \n",
    "21. Plot a Weibull distribution of the windspeed \n",
    "22. Calculate the annual Power Production of one Turbine, one field and the entire farm \n",
    "23. Plot a power curve \n",
    "\n",
    "The correlation should be really good, since buoy 2 consists of data corrected with data from buoy 6. So this is also a test if the steps before are done well. If the correlation is not high (r^2 ~ 0.9), then this is a sign that something went wrong in the steps before. \n",
    "\n",
    "**REMARK:** From the 01_Data_and_Windfield_Overview.ipynb we decided to work with: buoy_6_measured and buoy_2_correlated_with_6 because buoy 2 had a lot of data gaps (not a complete year measured).\n",
    "\n",
    "---"
   ]
  },
  {
   "cell_type": "markdown",
   "metadata": {},
   "source": [
    "#### Booleans to decide what to plot/compute:"
   ]
  },
  {
   "cell_type": "code",
   "execution_count": null,
   "metadata": {},
   "outputs": [],
   "source": [
    "check_environment = 0\n",
    "plot_wind_farm_data = 0\n",
    "plot_wind_farm_data_zoomed = 0\n",
    "netcdf_explore = 0\n",
    "era5_analyze = 1\n",
    "foxes_analyze = 1"
   ]
  },
  {
   "cell_type": "markdown",
   "metadata": {},
   "source": [
    "#### Libraries Import:"
   ]
  },
  {
   "cell_type": "code",
   "execution_count": null,
   "metadata": {},
   "outputs": [],
   "source": [
    "if check_environment:\n",
    "    from checkenv_requirements import check_and_install_packages\n",
    "    packages_to_check = ['numpy', 'pandas', 'netCDF4', 'matplotlib', 'cartopy']"
   ]
  },
  {
   "cell_type": "code",
   "execution_count": null,
   "metadata": {},
   "outputs": [],
   "source": [
    "# import cartopy.crs as ccrs\n",
    "# import cartopy.feature as cfeature\n",
    "# import matplotlib.pyplot as plt\n",
    "# import netCDF4 as nc\n",
    "# import numpy as np\n",
    "# import os\n",
    "# import pandas as pd\n",
    "# import xarray as xr\n",
    "import glob\n",
    "# from cartopy.io.shapereader import Reader\n",
    "# from matplotlib.projections.polar import PolarAxes\n",
    "# from scipy.interpolate import interp1d\n",
    "# from scipy.integrate import quad\n",
    "# from scipy.stats import linregress, weibull_min\n",
    "# from sklearn.linear_model import LinearRegression\n",
    "# from sklearn.metrics import mean_absolute_error, mean_squared_error\n",
    "# from sklearn.model_selection import train_test_split\n",
    "# from sklearn.preprocessing import StandardScaler\n",
    "# from windrose import WindroseAxes\n",
    "\n",
    "# Custom libraries\n",
    "import data_loading\n",
    "import plotting\n",
    "import netcdf_exploration\n",
    "import data_analysis\n",
    "import era5_analysis\n",
    "import foxes_analysis"
   ]
  },
  {
   "cell_type": "markdown",
   "metadata": {},
   "source": [
    "#### File Paths:"
   ]
  },
  {
   "cell_type": "code",
   "execution_count": null,
   "metadata": {},
   "outputs": [],
   "source": [
    "# Base paths\n",
    "measurements_path = 'data/measurements/'\n",
    "turbine_info_path = 'data/turbine-info/coordinates/'\n",
    "turbine_power_curves_path = 'data/turbine-info/power_curves/'\n",
    "shapefiles_path = 'data/shapefiles/'\n",
    "era5_path = 'data/reanalysis/'\n",
    "\n",
    "# Buoy NetCDF files\n",
    "bouy6_path = f'{measurements_path}2023-11-06_Buoy6_BSH_N-9.nc'\n",
    "bouy2_path = f'{measurements_path}2023-11-09_Buoy2_BSH_N-9.nc'\n",
    "# Windfarm layout base paths\n",
    "turbines_existing_path = f'{turbine_info_path}existing/'\n",
    "turbines_planned_future_path = f'{turbine_info_path}planned_future/'\n",
    "turbines_planned_in_operation_before_2030_path = f'{turbine_info_path}planned_in_operation_before_2030/'\n",
    "turbines_planned_netherlands_path = f'{turbine_info_path}planned_netherlands/'\n",
    "turbines_area_of_interest_path = f'{turbine_info_path}area_of_interest/'\n",
    "# Countries Shapefiles paths\n",
    "shapefiles_DEU_path = f'{shapefiles_path}DEU/DEU_adm1.shp'\n",
    "shapefiles_DNK_path = f'{shapefiles_path}DNK/gadm36_DNK_1.shp'\n",
    "shapefiles_NLD_path = f'{shapefiles_path}NLD/gadm36_NLD_1.shp'\n",
    "\n",
    "# Wind field layout files\n",
    "file_N9_1 = f'{turbines_area_of_interest_path}layout-N-9.1.geom.csv'\n",
    "file_N9_2 = f'{turbines_area_of_interest_path}layout-N-9.2.geom.csv'\n",
    "file_N9_3 = f'{turbines_area_of_interest_path}layout-N-9.3.geom.csv'\n",
    "\n",
    "# Existing turbines\n",
    "existing_files = glob.glob(f'{turbines_existing_path}*.csv')\n",
    "# Planned future turbines\n",
    "planned_future_files = glob.glob(f'{turbines_planned_future_path}*.csv')\n",
    "# Turbines planned to be in operation before 2030\n",
    "planned_before_2030_files = glob.glob(f'{turbines_planned_in_operation_before_2030_path}*.csv')\n",
    "# Planned turbines in the Netherlands\n",
    "planned_netherlands_files = glob.glob(f'{turbines_planned_netherlands_path}*.csv')\n"
   ]
  },
  {
   "cell_type": "markdown",
   "metadata": {},
   "source": [
    "#### 0. Data Loading:"
   ]
  },
  {
   "cell_type": "code",
   "execution_count": null,
   "metadata": {},
   "outputs": [],
   "source": [
    "# Load NetCDF buoy datasets\n",
    "xrbuoy6, xrbuoy2, buoy2_file, buoy6_file = data_loading.datasets(bouy6_path, bouy2_path)\n",
    "\n",
    "# Load Wind field layout CSV data\n",
    "data_N9_1, data_N9_2, data_N9_3 = data_loading.csv_files(file_N9_1, file_N9_2, file_N9_3)\n",
    "\n",
    "# Load other windfarm data\n",
    "existing_data = data_loading.other_windfarm_data(existing_files)\n",
    "planned_future_data = data_loading.other_windfarm_data(planned_future_files)\n",
    "planned_before_2030_data = data_loading.other_windfarm_data(planned_before_2030_files)\n",
    "planned_netherlands_data = data_loading.other_windfarm_data(planned_netherlands_files)\n",
    "\n",
    "other_wind_farm_data = existing_data + planned_future_data + planned_before_2030_data + planned_netherlands_data"
   ]
  },
  {
   "cell_type": "markdown",
   "metadata": {},
   "source": [
    "#### 1. Set the Turbine Design: \n",
    "- International Energy Agency (IEA) for a 15 MW offshore wind turbine\n",
    "- Turbine name: IEA-15MW-D240-H150\n",
    "-rotor diameter:  240 meters\n",
    "- hub height: 150 meters\n",
    "\n",
    "With that we say the height of interest is the one, nearest on the hub height: 140 m \n"
   ]
  },
  {
   "cell_type": "markdown",
   "metadata": {},
   "source": [
    "#### 2. Plot the field of interest together with the lidar measurement buoy positions:"
   ]
  },
  {
   "cell_type": "code",
   "execution_count": null,
   "metadata": {},
   "outputs": [],
   "source": [
    "if plot_wind_farm_data:\n",
    "    plotting.plot_wind_farms_and_buoys(shapefiles_path, data_N9_1, data_N9_2, data_N9_3, other_wind_farm_data)"
   ]
  },
  {
   "cell_type": "code",
   "execution_count": null,
   "metadata": {},
   "outputs": [],
   "source": [
    "if plot_wind_farm_data_zoomed:\n",
    "    plotting.plot_wind_farms_and_buoys_zoomed(data_N9_1, data_N9_2, data_N9_3)"
   ]
  },
  {
   "cell_type": "markdown",
   "metadata": {},
   "source": [
    "#### 3. Explore the structure and variables inside the  2 netcdf files:"
   ]
  },
  {
   "cell_type": "code",
   "execution_count": null,
   "metadata": {},
   "outputs": [],
   "source": [
    "if netcdf_explore:\n",
    "    netcdf_exploration.overview(buoy2_file)"
   ]
  },
  {
   "cell_type": "code",
   "execution_count": null,
   "metadata": {},
   "outputs": [],
   "source": [
    "if netcdf_explore:\n",
    "    netcdf_exploration.topgroup_variables(buoy2_file,'ZX_LIDAR_WLBZ_2')"
   ]
  },
  {
   "cell_type": "code",
   "execution_count": null,
   "metadata": {},
   "outputs": [],
   "source": [
    "if netcdf_explore:\n",
    "    netcdf_exploration.topgroup_variables(buoy2_file, 'ZX_LIDAR_WLBZ_6_MCP')"
   ]
  },
  {
   "cell_type": "code",
   "execution_count": null,
   "metadata": {},
   "outputs": [],
   "source": [
    "if netcdf_explore:\n",
    "    netcdf_exploration.sub_groups(buoy2_file, 'METEO_WLBZ_2')"
   ]
  },
  {
   "cell_type": "markdown",
   "metadata": {},
   "source": [
    "#### 4. Decide which Data we use for further analytics:"
   ]
  },
  {
   "cell_type": "code",
   "execution_count": null,
   "metadata": {},
   "outputs": [],
   "source": [
    "# Set variables from netcdf files\n",
    "time2 = xrbuoy2.variables['time'][:]\n",
    "windspeed_mcp_buoy2 = buoy2_file.groups['ZX_LIDAR_WLBZ_6_MCP'].variables['wind_speed'][:]\n",
    "windspeed2 = buoy2_file.groups['ZX_LIDAR_WLBZ_2'].variables['wind_speed'][:]\n",
    "\n",
    "time6 = xrbuoy6.variables['time'][:]\n",
    "windspeed_mcp_buoy6 = buoy6_file.groups['ZX_LIDAR_WLBZ_2_MCP'].variables['wind_speed'][:]\n",
    "windspeed6 = buoy6_file.groups['ZX_LIDAR_WLBZ_6'].variables['wind_speed'][:]"
   ]
  },
  {
   "cell_type": "code",
   "execution_count": null,
   "metadata": {},
   "outputs": [],
   "source": [
    "plotting.plot_buoy_data(time2, windspeed2, time6, windspeed6, windspeed_mcp_buoy2, windspeed_mcp_buoy6)"
   ]
  },
  {
   "cell_type": "markdown",
   "metadata": {},
   "source": [
    "#### 6. Select variables of interest\n",
    "- heights for buoy 6: 14 42 94 140 200 250\n",
    "- indices for the heights: 0 1 2 3 4 5 \n",
    "\n",
    "In future we gonna work only with the height measurements of 140 and 200 meters to interpolate \n",
    "these two heights to the hub height of 150 meter.\n",
    "This is why we only convert windspeeds[:, 0, 0, 3] and winddirection_buoy_2[:, 0, 0, 3] for example.\n",
    "Because these indicies stand for the two heights of interest."
   ]
  },
  {
   "cell_type": "markdown",
   "metadata": {},
   "source": [
    "#### 7. Create a dataframe out of the variables of interest"
   ]
  },
  {
   "cell_type": "code",
   "execution_count": null,
   "metadata": {},
   "outputs": [],
   "source": [
    "def create_buoy_dataframes(time, windspeed_140, winddirection_140, windspeed_200, winddirection_200):\n",
    "    # Convert time variables to pandas datetime (though it's already in datetime64[ns] format)\n",
    "    time = pd.to_datetime(time, unit='ns', origin='unix')\n",
    "    \n",
    "    # Create a single DataFrame for the buoy with measurements at 140m and 200m heights\n",
    "    df_buoy = pd.DataFrame({\n",
    "        'time': time,\n",
    "        'wind_speed_140m': windspeed_140,\n",
    "        'wind_direction_140m': winddirection_140,\n",
    "        'wind_speed_200m': windspeed_200,\n",
    "        'wind_direction_200m': winddirection_200\n",
    "    }).set_index('time')\n",
    "    \n",
    "    return df_buoy\n",
    "\n",
    "df_buoy_2 = create_buoy_dataframes(\n",
    "    time2,\n",
    "    windspeed2[:, 0, 0, 3],\n",
    "    winddirection_buoy_2[:, 0, 0, 3],\n",
    "    windspeed2[:, 0, 0, 4],\n",
    "    winddirection_buoy_2[:, 0, 0, 4]\n",
    ")\n",
    "\n",
    "df_buoy_6 = create_buoy_dataframes(\n",
    "    time6,\n",
    "    windspeed6[:, 0, 0, 3],\n",
    "    winddirection_buoy_6[:, 0, 0, 3],\n",
    "    windspeed6[:, 0, 0, 4],\n",
    "    winddirection_buoy_6[:, 0, 0, 4]\n",
    ")\n",
    "\n",
    "#close the files! \n",
    "buoy6_file.close()\n",
    "buoy2_file.close() \n"
   ]
  },
  {
   "cell_type": "markdown",
   "metadata": {},
   "source": [
    "#### 8. Check for data gaps, NaN values, and duplicated data"
   ]
  },
  {
   "cell_type": "code",
   "execution_count": null,
   "metadata": {},
   "outputs": [],
   "source": [
    "def check_data_gaps(dataframe):\n",
    "    \n",
    "    dataframe.index = dataframe.index.floor('s')  # Truncate microseconds\n",
    "\n",
    "    # Round timestamps to the nearest 10 minutes\n",
    "    dataframe.index = dataframe.index.round('10min')\n",
    "    \n",
    "    # Generate a complete time range based on the data frequency\n",
    "    full_time_range = pd.date_range(start=dataframe.index.min(), end=dataframe.index.max(), freq='10min')\n",
    "    dataframe = dataframe.reindex(full_time_range)\n",
    "    \n",
    "    missing_data = dataframe[dataframe.isnull().any(axis=1)]\n",
    "    \n",
    "    total_expected = len(full_time_range)\n",
    "    total_actual = len(dataframe.dropna())\n",
    "    availability = (total_actual / total_expected) * 100\n",
    "    \n",
    "    print(f\"Data Availability is {availability:.2f}%\")\n",
    "    \n",
    "    if not missing_data.empty:\n",
    "        print(\"Missing time periods are:\")\n",
    "        print(missing_data.index)\n",
    "    else:\n",
    "        print(\"No data gaps are found.\")\n",
    "    \n",
    "    return missing_data\n",
    "\n",
    "#This looks for duplicates and NaN values at the same time!\n",
    "def drop_duplicates(dataframe):\n",
    "    # Identify duplicate rows\n",
    "    duplicates = dataframe[dataframe.duplicated(keep=False)]\n",
    "    \n",
    "    # Drop duplicates\n",
    "    no_duplicate_data = dataframe.drop_duplicates()\n",
    "    \n",
    "    # Calculate data availability\n",
    "    total_expected = len(dataframe)\n",
    "    total_actual = len(no_duplicate_data)\n",
    "    availability = (total_actual / total_expected) * 100\n",
    "    \n",
    "    print(f\"Data Availability is {availability:.2f}%\")\n",
    "    \n",
    "    if not duplicates.empty:\n",
    "        # Set display options to show the entire DataFrame\n",
    "        #with pd.option_context('display.max_rows', None, 'display.max_columns', None):\n",
    "        print(duplicates)\n",
    "    else:\n",
    "        print(\"No duplicates are found.\")\n",
    "    \n",
    "    return duplicates\n",
    "\n",
    "def explore_and_prefilter_df(dataframe):\n",
    "   check_data_gaps(dataframe)\n",
    "   drop_duplicates(dataframe)\n",
    "\n",
    "explore_and_prefilter_df(df_buoy_2)"
   ]
  },
  {
   "cell_type": "markdown",
   "metadata": {},
   "source": [
    "#### 9. Filter incorrect data points\n",
    "#### 10. Select data for only one year, so that buoy 2 and buoy 6 have the same length"
   ]
  },
  {
   "cell_type": "code",
   "execution_count": null,
   "metadata": {},
   "outputs": [],
   "source": [
    "def replace_nan_and_select_1yr(dataframe):\n",
    "    #dataframe = dataframe.fillna(dataframe.mean())\n",
    "    dataframe = dataframe.ffill()\n",
    "    dataframe = dataframe.iloc[:52560]\n",
    "    return dataframe\n",
    "\n",
    "filtered_buoy2 = replace_nan_and_select_1yr(df_buoy_2)\n",
    "#filtered_buoy2"
   ]
  },
  {
   "cell_type": "code",
   "execution_count": null,
   "metadata": {},
   "outputs": [],
   "source": [
    "explore_and_prefilter_df(df_buoy_6)\n",
    "filtered_buoy6 = replace_nan_and_select_1yr(df_buoy_6)\n",
    "#filtered_buoy6"
   ]
  },
  {
   "cell_type": "markdown",
   "metadata": {},
   "source": [
    "#### 11. Interpolate\n",
    "\n",
    "We use the filtered data to do a linear interpolation to the selected hub height of 150 m. We choose linear interpolation bcs. the wind climate normally behaves exponential with the height. At our interpolation height (140 m - 200 m) we are pretty high, so we assume a linear relationship btw these points, with a high  gradient. \n",
    "\n",
    "#### 12. Create a new dataframe for the interpolated data"
   ]
  },
  {
   "cell_type": "code",
   "execution_count": null,
   "metadata": {},
   "outputs": [],
   "source": [
    "def interpolate_arrays(array1, array2, height1, height2, target_height):\n",
    "\n",
    "    # Calculate the interpolation factor\n",
    "    factor = (target_height - height1) / (height2 - height1) #factor = (x-x1)/(x2-x1)\n",
    "    # Perform the interpolation\n",
    "    interpolated_array = array1 + factor * (array2 - array1) #formular: y1 + factor *(y2 - y1)\n",
    "\n",
    "    return interpolated_array\n",
    "\n",
    "ws6_150m = interpolate_arrays(filtered_buoy6['wind_speed_140m'], filtered_buoy6['wind_speed_200m'], 140, 200, 150)\n",
    "wd6_150m = interpolate_arrays(filtered_buoy6['wind_direction_140m'], filtered_buoy6['wind_direction_200m'], 140, 200, 150)\n",
    "ws2_150m = interpolate_arrays(filtered_buoy2['wind_speed_140m'], filtered_buoy2['wind_speed_200m'], 140, 200, 150)\n",
    "wd2_150m = interpolate_arrays(filtered_buoy2['wind_direction_140m'], filtered_buoy2['wind_direction_200m'], 140, 200, 150)\n",
    "\n",
    "# Create a new dataframe with the interpolated arrays\n",
    "df_interpol_height = pd.DataFrame({\n",
    "    'ws6_150m': ws6_150m,\n",
    "    'wd6_150m': wd6_150m,\n",
    "    'ws2_150m': ws2_150m,\n",
    "    'wd2_150m': wd2_150m\n",
    "})"
   ]
  },
  {
   "cell_type": "markdown",
   "metadata": {},
   "source": [
    "### 13. Export, print the new dataframe and save it for the: 03_Short_Term_Wind_Climate"
   ]
  },
  {
   "cell_type": "code",
   "execution_count": null,
   "metadata": {},
   "outputs": [],
   "source": [
    "df_interpol_height.to_csv('interpolated_ws_and_wd_for_150_m.csv', index=True)\n",
    "df_interpol_height\n"
   ]
  },
  {
   "cell_type": "markdown",
   "metadata": {},
   "source": [
    "#### 14. Compare Buoy 2 and 6 to ensure that the data processing didn’t go wrong\n",
    "- R2=1: This indicates a perfect fit, meaning that the regression line explains 100% of the variance in the dependent variable.\n",
    "- 0.9≤R^2<1: Indicates an excellent fit, suggesting that the model explains a very high proportion of the variance.\n",
    "- 0.7≤R^2<0.9: Indicates a good fit, suggesting that the model explains a substantial proportion of the variance.\n",
    "- 0.5≤R^2<0.7: Indicates a moderate fit, meaning the model explains a reasonable amount of the variance, but there is still significant unexplained variance.\n",
    "- R^2<0.5: Indicates a poor fit, suggesting that the model does not explain much of the variance in the dependent variable."
   ]
  },
  {
   "cell_type": "code",
   "execution_count": null,
   "metadata": {},
   "outputs": [],
   "source": [
    "def plot_scatter_with_regression(x, y, xlabel, ylabel, title):\n",
    "    # Perform linear regression\n",
    "    slope, intercept, r_value, p_value, std_err = linregress(x, y)\n",
    "\n",
    "    # Create scatter plot\n",
    "    plt.figure(figsize=(10, 6))\n",
    "    plt.scatter(x, y, label='Data points') #s=1 change scatter point size \n",
    "\n",
    "    # Plot regression line\n",
    "    plt.plot(x, slope * x + intercept, color='red', label=f'Regression line (R^2 = {r_value**2:.2f})')\n",
    "\n",
    "    plt.xlabel(xlabel)\n",
    "    plt.ylabel(ylabel)\n",
    "    plt.title(title)\n",
    "    plt.legend()\n",
    "    plt.show()\n",
    "\n",
    "# Scatter plot for wind speed for 52560 intervall points = one year \n",
    "plot_scatter_with_regression(df_interpol_height['ws6_150m'], df_interpol_height['ws2_150m'], 'ws6_150m', 'ws2_150m', 'Wind Speed Comparison at 150m') \n",
    "# Scatter plot for wind direction\n",
    "plot_scatter_with_regression(df_interpol_height['wd6_150m'], df_interpol_height['wd2_150m'], 'wd6_150m', 'wd2_150m', 'Wind Direction Comparison at 150m')\n"
   ]
  },
  {
   "cell_type": "markdown",
   "metadata": {},
   "source": [
    "#### 15. Plot time series of the wind speed for both met masts"
   ]
  },
  {
   "cell_type": "code",
   "execution_count": null,
   "metadata": {},
   "outputs": [],
   "source": [
    "fig, axes = plt.subplots(1, 2, figsize=(10, 3), sharey=True, sharex=True)\n",
    "\n",
    "axes[0].plot(filtered_buoy6.index, ws6_150m)\n",
    "axes[0].set_title('Wind Speed for interpolated 150 m at Buoy 6')\n",
    "axes[0].set_xlabel('Time')\n",
    "axes[0].set_ylabel('Wind Speed (m/s)')\n",
    "\n",
    "axes[1].plot(filtered_buoy2.index, ws2_150m)\n",
    "axes[1].set_title('Wind Speed for interpolated 150 m at Buoy 2')\n",
    "axes[1].set_xlabel('Time')\n",
    "axes[1].set_ylabel('Wind Speed (m/s)')\n",
    "\n",
    "\n",
    "# Adjust layout to prevent overlap\n",
    "plt.tight_layout()\n",
    "\n",
    "# Display the plots\n",
    "plt.show()"
   ]
  },
  {
   "cell_type": "code",
   "execution_count": null,
   "metadata": {},
   "outputs": [],
   "source": [
    "fig, axes = plt.subplots(1, 2, figsize=(10, 3), sharey=True, sharex=True)\n",
    "\n",
    "axes[0].plot(filtered_buoy6.index[300:600], ws6_150m[300:600])\n",
    "axes[0].set_title('Wind Speed for interpolated 150 m at Buoy 6')\n",
    "axes[0].set_xlabel('Time')\n",
    "axes[0].set_ylabel('Wind Speed (m/s)')\n",
    "axes[0].tick_params(axis='x', rotation=45)  \n",
    "\n",
    "axes[1].plot(filtered_buoy2.index[300:600], ws2_150m[300:600])\n",
    "axes[1].set_title('Wind Speed for interpolated 150 m at Buoy 2')\n",
    "axes[1].set_xlabel('Time')\n",
    "axes[1].set_ylabel('Wind Speed (m/s)')\n",
    "axes[1].tick_params(axis='x', rotation=45)  \n",
    "\n",
    "\n",
    "# Adjust layout to prevent overlap\n",
    "plt.tight_layout()\n",
    "\n",
    "# Display the plots\n",
    "plt.show()"
   ]
  },
  {
   "cell_type": "code",
   "execution_count": null,
   "metadata": {},
   "outputs": [],
   "source": [
    "fig, axes = plt.subplots(1, 2, figsize=(10, 3), sharey=True, sharex=True)\n",
    "\n",
    "# Plotting with dots using scatter\n",
    "axes[0].scatter(filtered_buoy6.index[300:600], ws6_150m[300:600], marker='+')\n",
    "axes[0].set_title('Wind Speed for interpolated 150 m at Buoy 6')\n",
    "axes[0].set_xlabel('Time')\n",
    "axes[0].set_ylabel('Wind Speed (m/s)')\n",
    "axes[0].tick_params(axis='x', rotation=45)  \n",
    "\n",
    "axes[1].scatter(filtered_buoy2.index[300:600], ws2_150m[300:600], marker='+')\n",
    "axes[1].set_title('Wind Speed for interpolated 150 m at Buoy 2')\n",
    "axes[1].set_xlabel('Time')\n",
    "axes[1].set_ylabel('Wind Speed (m/s)')\n",
    "axes[1].tick_params(axis='x', rotation=45)  \n",
    "\n",
    "# Adjust layout to prevent overlap\n",
    "plt.tight_layout()\n",
    "\n",
    "# Display the plots\n",
    "plt.show()"
   ]
  },
  {
   "cell_type": "code",
   "execution_count": null,
   "metadata": {},
   "outputs": [],
   "source": [
    "# Close all datasets again! \n",
    "\n",
    "xrbuoy6.close()\n",
    "xrbuoy2.close()\n",
    "\n",
    "buoy2_file.close()\n",
    "buoy6_file.close()"
   ]
  }
 ],
 "metadata": {
  "kernelspec": {
   "display_name": "pyproject",
   "language": "python",
   "name": "python3"
  },
  "language_info": {
   "codemirror_mode": {
    "name": "ipython",
    "version": 3
   },
   "file_extension": ".py",
   "mimetype": "text/x-python",
   "name": "python",
   "nbconvert_exporter": "python",
   "pygments_lexer": "ipython3",
   "version": "3.12.3"
  }
 },
 "nbformat": 4,
 "nbformat_minor": 2
}
