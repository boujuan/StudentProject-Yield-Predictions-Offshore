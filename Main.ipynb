{
 "cells": [
  {
   "cell_type": "code",
   "execution_count": null,
   "metadata": {},
   "outputs": [],
   "source": [
    "import cartopy.crs as ccrs\n",
    "import cartopy.feature as cfeature\n",
    "import matplotlib.pyplot as plt\n",
    "import netCDF4 as nc\n",
    "import numpy as np\n",
    "import os\n",
    "import pandas as pd\n",
    "import xarray as xr\n",
    "from matplotlib.projections.polar import PolarAxes\n",
    "from scipy.interpolate import interp1d\n",
    "from scipy.integrate import quad\n",
    "from scipy.stats import linregress, weibull_min\n",
    "from sklearn.linear_model import LinearRegression\n",
    "from sklearn.metrics import mean_absolute_error, mean_squared_error\n",
    "from sklearn.model_selection import train_test_split\n",
    "from sklearn.preprocessing as StandardScaler\n",
    "from windrose import WindroseAxes\n",
    "# Custom libraries\n",
    "import data_loading\n",
    "import plotting\n",
    "import netcdf_exploration\n",
    "import data_analysis"
   ]
  },
  {
   "cell_type": "code",
   "execution_count": null,
   "metadata": {},
   "outputs": [],
   "source": [
    "# Base paths for different categories\n",
    "measurements_path = 'data/measurements/'\n",
    "turbine_info_path = 'data/turbine-info/coordinates/'\n",
    "turbine_power_curves_path = 'data/turbine-info/power_curves/'\n",
    "shapefiles_path = 'data/shapefiles/'\n",
    "reanalysis_path = 'data/reanalysis/'\n",
    "\n",
    "# Buyoy NetCDF files\n",
    "bouy6_path = f'{measurements_path}2023-11-06_Buoy6_BSH_N-9.nc'\n",
    "bouy2_path = f'{measurements_path}2023-11-09_Buoy2_BSH_N-9.nc'\n",
    "# ERA5 D\n",
    "era5_path = reanalysis_path\n",
    "# Layouts base paths\n",
    "turbines_existing_path = f'{turbine_info_path}existing/'\n",
    "turbines_planned_future_path = f'{turbine_info_path}planned_future/'\n",
    "turbines_planned_in_operation_before_2030_path = f'{turbine_info_path}planned_in_operation_before_2030/'\n",
    "turbines_planned_netherlands_path = f'{turbine_info_path}planned_netherlands/'\n",
    "turbines_area_of_interest_path = f'{turbine_info_path}area_of_interest/'\n",
    "# Shapefiles paths\n",
    "shapefiles_DEU_path = f'{shapefiles_path}DEU/*'\n",
    "shapefiles_DNK_path = f'{shapefiles_path}DNK/*'\n",
    "shapefiles_NLD_path = f'{shapefiles_path}NLD/*'\n",
    "\n",
    "# Wind field layout files\n",
    "file_N9_1 = f'{turbines_area_of_interest_path}layout-N-9.1.geom.csv'\n",
    "file_N9_2 = f'{turbines_area_of_interest_path}layout-N-9.2.geom.csv'\n",
    "file_N9_3 = f'{turbines_area_of_interest_path}layout-N-9.3.geom.csv'"
   ]
  }
 ],
 "metadata": {
  "kernelspec": {
   "display_name": "pyproject",
   "language": "python",
   "name": "python3"
  },
  "language_info": {
   "name": "python",
   "version": "3.12.3"
  }
 },
 "nbformat": 4,
 "nbformat_minor": 2
}
