{
 "cells": [
  {
   "cell_type": "markdown",
   "metadata": {
    "editable": true,
    "slideshow": {
     "slide_type": ""
    },
    "tags": []
   },
   "source": [
    "## Yield Predictions for German Offshore Tenders 2024 Project Overview\n",
    "### Python Programming in Energy Science II - Group 5\n",
    "---\n",
    "- [PDF Instructions](./data/PPES-SoSe2024_StudentProject.pdf)\n",
    "- [Github Repository](https://github.com/boujuan/StudentProject-Yield-Predictions-Offshore)\n",
    "\n",
    "**AUTHORS:**\n",
    "- [Jiah Ryu](mailto:jiah.ryu@uni-oldenburg.de)\n",
    "- [Julia Guimaraes Zimmer](mailto:julia.guimaraes.zimmer@uni-oldenburg.de)\n",
    "- [Pascal Pflüger](mailto:pascal.pflueger@uni-oldenburg.de)\n",
    "- [Juan Manuel Boullosa Novo](mailto:juan.manuel.boullosa.novo@uni-oldenburg.de)\n",
    "\n",
    "**DATA:**\n",
    "- Floating Lidar Measurements from two positions = `'data/measurements/*.nc'`\n",
    "- Long-term reference model data (ERA5): 1990-2023 = `'data/reanalysis/*.csv'`\n",
    "- Turbine coordinates of existing wind farms = `'data/turbine-info/coordinates/existing/*.csv'`\n",
    "- Turbine coordinates of planned wind farms = `'data/turbine-info/coordinates/planned_future/*.csv'`\n",
    "- Turbine coordinates in operation before 2023 = `'data/turbine-info/coordinates/planned_in_operation_before_2030/*.csv'`\n",
    "- Turbine coordinates planned in Netherlands = `'data/turbine-info/coordinates/planned_netherlands/*.csv'`\n",
    "- Geometric turbine coordinates for the areas of interest N-9.1/N-9.2/N-9.3 (not optimized – see Task 12) = `'data/turbine-info/coordinates/area_of_interest/*.csv'`\n",
    "- Shapefiles of wind farm areas, the countries Denmark, Germany and the Netherlands = `'data/shapefiles/.../*'`\n",
    "- Thrust and power curves of wind turbines = `'data/turbine-info/power_curves/*.csv'`\n",
    "\n",
    "---\n",
    "\n",
    "**TASKS:**\n",
    "To estimate the short-term wind climate of the three areas of interest, we first look at the planned area. Furthermore, we explore the structure given in the NC files and choose the data we need for further analytics:\n",
    "\n",
    "1. Import libraries, set up file paths, and open datasets\n",
    "2. Set turbine design:\n",
    "   - Hub height\n",
    "   - Rotor diameter\n",
    "   - Model, etc.\n",
    "3. Plot the field of interest together with the lidar measurement buoy positions\n",
    "4. Explore the structure and variables inside the NC files\n",
    "5. Decide which data to use for further analytics\n",
    "6. Select variables of interest\n",
    "7. Create a dataframe out of them\n",
    "8. Check for data gaps, NaN values, and duplicated data\n",
    "9. Filter incorrect data points\n",
    "10. Select data for only one year, so that buoy 2 and buoy 6 have the same length\n",
    "11. Interpolate both buoy datasets, with the 140 m and 200 m to hub height of 150 m\n",
    "12. Create a new dataframe for the interpolated data\n",
    "13. Export it to a CSV file for further use\n",
    "14. Compare Buoy 2 and 6 to ensure that the data processing didn’t go wrong\n",
    "15. Plot time series of the wind speed for both met masts\n",
    "16. Calculate the monthly and annual wind statistics for the windspeed and the wind direction for both met masts \n",
    "17. Calculate the monthly and annual wind statistics for the wind speed and the wind direction for both buoys\n",
    "18. Plot the monthly mean wind speed and wind direction for both buoys\n",
    "19. Plot the diurnal wind speed and wind direction for both buoys\n",
    "20. Plot wind roses for both buoys \n",
    "21. Plot a Weibull distribution of the windspeed \n",
    "22. Calculate the annual Power Production of one Turbine, one field and the entire farm \n",
    "23. Plot a power curve\n",
    "24. Explore ERA5 Data\n",
    "25. Comparison of measurement data with ERA5 data\n",
    "26. Long-term correction of the measurement data - MCP using Linear Regression\n",
    "27. Long Term Wind Climate - Data Loading\n",
    "28. Calculate the monthly and annual wind statistics for the wind speed and the wind direction for both buoys\n",
    "29. Plot the monthly mean wind speed and wind direction for B6\n",
    "30. Group the data into hours of the day and calculate the mean wind speed and wind direction for each hour of the day\n",
    "31. Plot the diurnal wind speed and wind direction for both buoys\n",
    "32. Plot wind roses for both buoys\n",
    "33. Plot a Weibull distribution of the wind speed\n",
    "34. Calculate the annual power production of one turbine, one field, and the entire farm\n",
    "35. Plot a power curve\n",
    "\n",
    "The correlation should be really good, since buoy 2 consists of data corrected with data from buoy 6. So this is also a test if the steps before are done well. If the correlation is not high (r^2 ~ 0.9), then this is a sign that something went wrong in the steps before. \n",
    "\n",
    "**REMARK:** From the 01_Data_and_Windfield_Overview.ipynb we decided to work with: buoy_6_measured and buoy_2_correlated_with_6 because buoy 2 had a lot of data gaps (not a complete year measured).\n",
    "\n",
    "---"
   ]
  },
  {
   "cell_type": "markdown",
   "metadata": {
    "editable": true,
    "slideshow": {
     "slide_type": ""
    },
    "tags": []
   },
   "source": [
    "#### Booleans to decide what to plot/compute:"
   ]
  },
  {
   "cell_type": "code",
   "execution_count": null,
   "metadata": {},
   "outputs": [],
   "source": [
    "do_all = 0 # set TRUE to calculate and plot every function\n",
    "\n",
    "booleans = {\n",
    "    'check_environment': 0,\n",
    "    'plot_wind_farm_data': 0,\n",
    "    'plot_wind_farm_data_zoomed': 0,\n",
    "    'netcdf_explore': 0,\n",
    "    'plot_buoy_data': 1,\n",
    "    'data_analysis': 1,\n",
    "    'interpolate': 1,\n",
    "    'plot_regression': 1,\n",
    "    'plot_interpolation': 1,\n",
    "    'short_term_analysis': 1,\n",
    "    'plot_short_term': 1,\n",
    "    'plot_windrose': 1,\n",
    "    'calculate_AEP': 1,\n",
    "    'plot_weibull': 1,\n",
    "    'plot_power_curve': 1,\n",
    "    'era5_analyze': 1,\n",
    "    'longterm_correct': 1,\n",
    "    'foxes_analyze': 1\n",
    "}\n",
    "\n",
    "globals().update({b: 1 if do_all else v for b, v in booleans.items()})"
   ]
  },
  {
   "cell_type": "markdown",
   "metadata": {},
   "source": [
    "#### Libraries Import:"
   ]
  },
  {
   "cell_type": "code",
   "execution_count": null,
   "metadata": {},
   "outputs": [],
   "source": [
    "if check_environment:\n",
    "    from checkenv_requirements import check_and_install_packages\n",
    "    packages_to_check = ['numpy', 'pandas', 'netCDF4', 'matplotlib', 'cartopy']"
   ]
  },
  {
   "cell_type": "code",
   "execution_count": null,
   "metadata": {},
   "outputs": [],
   "source": [
    "# Custom libraries\n",
    "import data_loading\n",
    "import plotting\n",
    "import netcdf_exploration\n",
    "import data_analysis\n",
    "import interpolation\n",
    "import era5_analysis\n",
    "import longterm\n",
    "import foxes_analysis\n",
    "\n",
    "import glob\n",
    "import pandas as pd\n",
    "import numpy as np"
   ]
  },
  {
   "cell_type": "markdown",
   "metadata": {},
   "source": [
    "#### File Paths:"
   ]
  },
  {
   "cell_type": "code",
   "execution_count": null,
   "metadata": {},
   "outputs": [],
   "source": [
    "# Base paths\n",
    "measurements_path = 'data/measurements/'\n",
    "turbine_info_path = 'data/turbine-info/coordinates/'\n",
    "turbine_power_curves_path = 'data/turbine-info/power_curves/'\n",
    "shapefiles_path = 'data/shapefiles/'\n",
    "era5_path = 'data/reanalysis/'\n",
    "\n",
    "# Buoy NetCDF files\n",
    "bouy6_path = f'{measurements_path}2023-11-06_Buoy6_BSH_N-9.nc'\n",
    "bouy2_path = f'{measurements_path}2023-11-09_Buoy2_BSH_N-9.nc'\n",
    "# Windfarm layout base paths\n",
    "turbines_existing_path = f'{turbine_info_path}existing/'\n",
    "turbines_planned_future_path = f'{turbine_info_path}planned_future/'\n",
    "turbines_planned_in_operation_before_2030_path = f'{turbine_info_path}planned_in_operation_before_2030/'\n",
    "turbines_planned_netherlands_path = f'{turbine_info_path}planned_netherlands/'\n",
    "turbines_area_of_interest_path = f'{turbine_info_path}area_of_interest/'\n",
    "# Countries Shapefiles paths\n",
    "shapefiles_DEU_path = f'{shapefiles_path}DEU/DEU_adm1.shp'\n",
    "shapefiles_DNK_path = f'{shapefiles_path}DNK/gadm36_DNK_1.shp'\n",
    "shapefiles_NLD_path = f'{shapefiles_path}NLD/gadm36_NLD_1.shp'\n",
    "\n",
    "# Wind field layout files\n",
    "file_N9_1 = f'{turbines_area_of_interest_path}layout-N-9.1.geom.csv'\n",
    "file_N9_2 = f'{turbines_area_of_interest_path}layout-N-9.2.geom.csv'\n",
    "file_N9_3 = f'{turbines_area_of_interest_path}layout-N-9.3.geom.csv'\n",
    "\n",
    "# Existing turbines\n",
    "existing_files = glob.glob(f'{turbines_existing_path}*.csv')\n",
    "# Planned future turbines\n",
    "planned_future_files = glob.glob(f'{turbines_planned_future_path}*.csv')\n",
    "# Turbines planned to be in operation before 2030\n",
    "planned_before_2030_files = glob.glob(f'{turbines_planned_in_operation_before_2030_path}*.csv')\n",
    "# Planned turbines in the Netherlands\n",
    "planned_netherlands_files = glob.glob(f'{turbines_planned_netherlands_path}*.csv')\n",
    "\n",
    "turbine_power_curve_path = f'{turbine_power_curves_path}IEA-15MW-D240-H150.csv'\n"
   ]
  },
  {
   "cell_type": "markdown",
   "metadata": {
    "editable": true,
    "slideshow": {
     "slide_type": ""
    },
    "tags": [
     "1"
    ]
   },
   "source": [
    "#### 1. Data Loading:"
   ]
  },
  {
   "cell_type": "code",
   "execution_count": null,
   "metadata": {
    "editable": true,
    "slideshow": {
     "slide_type": ""
    },
    "tags": []
   },
   "outputs": [],
   "source": [
    "# Load NetCDF buoy datasets\n",
    "xrbuoy6, xrbuoy2, buoy2_file, buoy6_file = data_loading.datasets(bouy6_path, bouy2_path)\n",
    "\n",
    "# Load Wind field layout CSV data\n",
    "data_N9_1, data_N9_2, data_N9_3 = data_loading.csv_files(file_N9_1, file_N9_2, file_N9_3)\n",
    "\n",
    "# Load other windfarm data\n",
    "existing_data = data_loading.other_windfarm_data(existing_files)\n",
    "planned_future_data = data_loading.other_windfarm_data(planned_future_files)\n",
    "planned_before_2030_data = data_loading.other_windfarm_data(planned_before_2030_files)\n",
    "planned_netherlands_data = data_loading.other_windfarm_data(planned_netherlands_files)\n",
    "\n",
    "other_wind_farm_data = existing_data + planned_future_data + planned_before_2030_data + planned_netherlands_data"
   ]
  },
  {
   "cell_type": "markdown",
   "metadata": {
    "editable": true,
    "slideshow": {
     "slide_type": ""
    },
    "tags": [
     "2"
    ]
   },
   "source": [
    "#### 2. Set the Turbine Design: \n",
    "- International Energy Agency (IEA) for a 15 MW offshore wind turbine\n",
    "- Turbine name: IEA-15MW-D240-H150\n",
    "-rotor diameter:  240 meters\n",
    "- hub height: 150 meters\n",
    "\n",
    "With that we say the height of interest is the one, nearest on the hub height: 140 m \n"
   ]
  },
  {
   "cell_type": "markdown",
   "metadata": {
    "editable": true,
    "slideshow": {
     "slide_type": ""
    },
    "tags": [
     "3"
    ]
   },
   "source": [
    "#### 3. Plot the field of interest together with the lidar measurement buoy positions:"
   ]
  },
  {
   "cell_type": "code",
   "execution_count": null,
   "metadata": {},
   "outputs": [],
   "source": [
    "if plot_wind_farm_data:\n",
    "    plotting.plot_wind_farms_and_buoys(shapefiles_path, data_N9_1, data_N9_2, data_N9_3, other_wind_farm_data)"
   ]
  },
  {
   "cell_type": "code",
   "execution_count": null,
   "metadata": {},
   "outputs": [],
   "source": [
    "if plot_wind_farm_data_zoomed:\n",
    "    plotting.plot_wind_farms_and_buoys_zoomed(data_N9_1, data_N9_2, data_N9_3)"
   ]
  },
  {
   "cell_type": "markdown",
   "metadata": {
    "editable": true,
    "slideshow": {
     "slide_type": ""
    },
    "tags": [
     "4"
    ]
   },
   "source": [
    "#### 4. Explore the structure and variables inside the  2 netcdf files:"
   ]
  },
  {
   "cell_type": "code",
   "execution_count": null,
   "metadata": {},
   "outputs": [],
   "source": [
    "if netcdf_explore:\n",
    "    netcdf_exploration.overview(buoy2_file)"
   ]
  },
  {
   "cell_type": "code",
   "execution_count": null,
   "metadata": {},
   "outputs": [],
   "source": [
    "if netcdf_explore:\n",
    "    netcdf_exploration.topgroup_variables(buoy2_file,'ZX_LIDAR_WLBZ_2')"
   ]
  },
  {
   "cell_type": "code",
   "execution_count": null,
   "metadata": {},
   "outputs": [],
   "source": [
    "if netcdf_explore:\n",
    "    netcdf_exploration.topgroup_variables(buoy2_file, 'ZX_LIDAR_WLBZ_6_MCP')"
   ]
  },
  {
   "cell_type": "code",
   "execution_count": null,
   "metadata": {},
   "outputs": [],
   "source": [
    "if netcdf_explore:\n",
    "    netcdf_exploration.sub_groups(buoy2_file, 'METEO_WLBZ_2')"
   ]
  },
  {
   "cell_type": "markdown",
   "metadata": {
    "editable": true,
    "slideshow": {
     "slide_type": ""
    },
    "tags": [
     "5"
    ]
   },
   "source": [
    "#### 5. Decide which Data we use for further analytics:"
   ]
  },
  {
   "cell_type": "code",
   "execution_count": null,
   "metadata": {},
   "outputs": [],
   "source": [
    "# Set variables from netcdf files\n",
    "time2 = xrbuoy2.variables['time'][:]\n",
    "windspeed_mcp_buoy2 = buoy2_file.groups['ZX_LIDAR_WLBZ_6_MCP'].variables['wind_speed'][:]\n",
    "windspeed2 = buoy2_file.groups['ZX_LIDAR_WLBZ_2'].variables['wind_speed'][:]\n",
    "\n",
    "time6 = xrbuoy6.variables['time'][:]\n",
    "windspeed_mcp_buoy6 = buoy6_file.groups['ZX_LIDAR_WLBZ_2_MCP'].variables['wind_speed'][:]\n",
    "windspeed6 = buoy6_file.groups['ZX_LIDAR_WLBZ_6'].variables['wind_speed'][:]"
   ]
  },
  {
   "cell_type": "code",
   "execution_count": null,
   "metadata": {},
   "outputs": [],
   "source": [
    "if plot_buoy_data:\n",
    "    plotting.plot_buoy_data(time2, windspeed2, time6, windspeed6, windspeed_mcp_buoy2, windspeed_mcp_buoy6)"
   ]
  },
  {
   "cell_type": "markdown",
   "metadata": {
    "editable": true,
    "slideshow": {
     "slide_type": ""
    },
    "tags": [
     "6"
    ]
   },
   "source": [
    "#### 6. Select variables of interest\n",
    "- heights for buoy 6: 14 42 94 140 200 250\n",
    "- indices for the heights: 0 1 2 3 4 5 \n",
    "\n",
    "In future we gonna work only with the height measurements of 140 and 200 meters to interpolate \n",
    "these two heights to the hub height of 150 meter.\n",
    "This is why we only convert windspeeds[:, 0, 0, 3] and winddirection_buoy_2[:, 0, 0, 3] for example.\n",
    "Because these indicies stand for the two heights of interest."
   ]
  },
  {
   "cell_type": "markdown",
   "metadata": {
    "editable": true,
    "slideshow": {
     "slide_type": ""
    },
    "tags": [
     "7"
    ]
   },
   "source": [
    "#### 7. Create a dataframe out of the variables of interest"
   ]
  },
  {
   "cell_type": "code",
   "execution_count": null,
   "metadata": {},
   "outputs": [],
   "source": [
    "# select the data of interest for now\n",
    "time2 = xrbuoy2.variables['time'][:]\n",
    "windspeed2 = buoy2_file.groups['ZX_LIDAR_WLBZ_6_MCP'].variables['wind_speed'][:]\n",
    "winddirection_buoy_2 = buoy2_file.groups['ZX_LIDAR_WLBZ_6_MCP'].variables['wind_from_direction'][:]\n",
    "time6 = xrbuoy6.variables['time'][:]\n",
    "windspeed6 = buoy6_file.groups['ZX_LIDAR_WLBZ_6'].variables['wind_speed'][:]\n",
    "winddirection_buoy_6 = buoy6_file.groups['ZX_LIDAR_WLBZ_6'].variables['wind_from_direction'][:]"
   ]
  },
  {
   "cell_type": "code",
   "execution_count": null,
   "metadata": {},
   "outputs": [],
   "source": [
    "if data_analysis:\n",
    "    df_buoy_2 = data_loading.create_buoy_dataframes(\n",
    "        time2,\n",
    "        windspeed2[:, 0, 0, 3],\n",
    "        winddirection_buoy_2[:, 0, 0, 3],\n",
    "        windspeed2[:, 0, 0, 4],\n",
    "        winddirection_buoy_2[:, 0, 0, 4]\n",
    "    )\n",
    "\n",
    "    df_buoy_6 = data_loading.create_buoy_dataframes(\n",
    "        time6,\n",
    "        windspeed6[:, 0, 0, 3],\n",
    "        winddirection_buoy_6[:, 0, 0, 3],\n",
    "        windspeed6[:, 0, 0, 4],\n",
    "        winddirection_buoy_6[:, 0, 0, 4]\n",
    "    )\n",
    "\n",
    "    #close the files! \n",
    "    buoy6_file.close()\n",
    "    buoy2_file.close() "
   ]
  },
  {
   "cell_type": "markdown",
   "metadata": {
    "editable": true,
    "slideshow": {
     "slide_type": ""
    },
    "tags": [
     "8"
    ]
   },
   "source": [
    "#### 8. Check for data gaps, NaN values, and duplicated data"
   ]
  },
  {
   "cell_type": "code",
   "execution_count": null,
   "metadata": {},
   "outputs": [],
   "source": [
    "#This looks for duplicates and NaN values at the same time!\n",
    "if data_analysis:\n",
    "    data_analysis.explore_and_prefilter_df(df_buoy_2)"
   ]
  },
  {
   "cell_type": "markdown",
   "metadata": {
    "editable": true,
    "slideshow": {
     "slide_type": ""
    },
    "tags": [
     "9",
     "10"
    ]
   },
   "source": [
    "#### 9. Filter incorrect data points\n",
    "#### 10. Select data for only one year, so that buoy 2 and buoy 6 have the same length"
   ]
  },
  {
   "cell_type": "code",
   "execution_count": null,
   "metadata": {},
   "outputs": [],
   "source": [
    "if data_analysis:\n",
    "    filtered_buoy2 = data_analysis.replace_nan_and_select_1yr(df_buoy_2)"
   ]
  },
  {
   "cell_type": "code",
   "execution_count": null,
   "metadata": {},
   "outputs": [],
   "source": [
    "if data_analysis:\n",
    "    data_analysis.explore_and_prefilter_df(df_buoy_6)\n",
    "    filtered_buoy6 = data_analysis.replace_nan_and_select_1yr(df_buoy_6)"
   ]
  },
  {
   "cell_type": "markdown",
   "metadata": {
    "editable": true,
    "slideshow": {
     "slide_type": ""
    },
    "tags": [
     "11",
     "12"
    ]
   },
   "source": [
    "#### 11. Interpolate\n",
    "\n",
    "We use the filtered data to do a linear interpolation to the selected hub height of 150 m. We choose linear interpolation bcs. the wind climate normally behaves exponential with the height. At our interpolation height (140 m - 200 m) we are pretty high, so we assume a linear relationship btw these points, with a high  gradient. \n",
    "\n",
    "#### 12. Create a new dataframe for the interpolated data"
   ]
  },
  {
   "cell_type": "code",
   "execution_count": null,
   "metadata": {},
   "outputs": [],
   "source": [
    "if interpolate:\n",
    "    ws6_150m = interpolation.interpolate_arrays(filtered_buoy6['wind_speed_140m'], filtered_buoy6['wind_speed_200m'], 140, 200, 150)\n",
    "    wd6_150m = interpolation.interpolate_arrays(filtered_buoy6['wind_direction_140m'], filtered_buoy6['wind_direction_200m'], 140, 200, 150)\n",
    "    ws2_150m = interpolation.interpolate_arrays(filtered_buoy2['wind_speed_140m'], filtered_buoy2['wind_speed_200m'], 140, 200, 150)\n",
    "    wd2_150m = interpolation.interpolate_arrays(filtered_buoy2['wind_direction_140m'], filtered_buoy2['wind_direction_200m'], 140, 200, 150)\n",
    "\n",
    "    df_interpol_height = pd.DataFrame({\n",
    "        'ws6_150m': ws6_150m,\n",
    "        'wd6_150m': wd6_150m,\n",
    "        'ws2_150m': ws2_150m,\n",
    "        'wd2_150m': wd2_150m\n",
    "    })"
   ]
  },
  {
   "cell_type": "markdown",
   "metadata": {
    "editable": true,
    "slideshow": {
     "slide_type": ""
    },
    "tags": [
     "13"
    ]
   },
   "source": [
    "### 13. Export to csv for the: 03_Short_Term_Wind_Climate"
   ]
  },
  {
   "cell_type": "code",
   "execution_count": null,
   "metadata": {},
   "outputs": [],
   "source": [
    "if interpolate:\n",
    "    df_interpol_height.to_csv('interpolated_ws_and_wd_for_150_m.csv', index=True)\n",
    "    interpolated_csv_path = 'interpolated_ws_and_wd_for_150_m.csv'\n",
    "    df_interpol_height"
   ]
  },
  {
   "cell_type": "markdown",
   "metadata": {
    "editable": true,
    "slideshow": {
     "slide_type": ""
    },
    "tags": [
     "14"
    ]
   },
   "source": [
    "#### 14. Compare Buoy 2 and 6 to ensure that the data processing didn’t go wrong\n",
    "- R2=1: This indicates a perfect fit, meaning that the regression line explains 100% of the variance in the dependent variable.\n",
    "- 0.9≤R^2<1: Indicates an excellent fit, suggesting that the model explains a very high proportion of the variance.\n",
    "- 0.7≤R^2<0.9: Indicates a good fit, suggesting that the model explains a substantial proportion of the variance.\n",
    "- 0.5≤R^2<0.7: Indicates a moderate fit, meaning the model explains a reasonable amount of the variance, but there is still significant unexplained variance.\n",
    "- R^2<0.5: Indicates a poor fit, suggesting that the model does not explain much of the variance in the dependent variable."
   ]
  },
  {
   "cell_type": "code",
   "execution_count": null,
   "metadata": {},
   "outputs": [],
   "source": [
    "if plot_regression:\n",
    "    # Scatter plot for wind speed for 52560 intervall points = one year \n",
    "    plotting.plot_scatter_with_regression(df_interpol_height['ws6_150m'], df_interpol_height['ws2_150m'], 'ws6_150m', 'ws2_150m', 'Wind Speed Comparison at 150m') \n",
    "    # Scatter plot for wind direction\n",
    "    plotting.plot_scatter_with_regression(df_interpol_height['wd6_150m'], df_interpol_height['wd2_150m'], 'wd6_150m', 'wd2_150m', 'Wind Direction Comparison at 150m')"
   ]
  },
  {
   "cell_type": "markdown",
   "metadata": {
    "editable": true,
    "slideshow": {
     "slide_type": ""
    },
    "tags": [
     "15"
    ]
   },
   "source": [
    "#### 15. Plot time series of the wind speed for both met masts"
   ]
  },
  {
   "cell_type": "code",
   "execution_count": null,
   "metadata": {},
   "outputs": [],
   "source": [
    "if plot_interpolation:\n",
    "    plotting.plot_interpolated_wind_speeds(filtered_buoy6, filtered_buoy2, ws6_150m, ws2_150m)"
   ]
  },
  {
   "cell_type": "code",
   "execution_count": null,
   "metadata": {},
   "outputs": [],
   "source": [
    "if plot_interpolation:\n",
    "    plotting.plot_interpolated_wind_speeds(filtered_buoy6, filtered_buoy2, ws6_150m, ws2_150m, 300, 600)"
   ]
  },
  {
   "cell_type": "code",
   "execution_count": null,
   "metadata": {},
   "outputs": [],
   "source": [
    "if plot_interpolation:\n",
    "    plotting.plot_interpolated_wind_speeds(filtered_buoy6, filtered_buoy2, ws6_150m, ws2_150m, 300, 600, '+')"
   ]
  },
  {
   "cell_type": "markdown",
   "metadata": {
    "editable": true,
    "slideshow": {
     "slide_type": ""
    },
    "tags": [
     "16"
    ]
   },
   "source": [
    "#### 16. Calculate turbines number per field, load data paths into a pandas DataFrame"
   ]
  },
  {
   "cell_type": "code",
   "execution_count": null,
   "metadata": {},
   "outputs": [],
   "source": [
    "if short_term_analysis:\n",
    "    #number of turbines per field\n",
    "    turbines_N9_1 = len(pd.read_csv(file_N9_1))\n",
    "    turbines_N9_2 = len(pd.read_csv(file_N9_2))\n",
    "    turbines_N9_3 = len(pd.read_csv(file_N9_3))\n",
    "\n",
    "    df_B6B2 = data_loading.read_LT_data_to_df(interpolated_csv_path)"
   ]
  },
  {
   "cell_type": "markdown",
   "metadata": {
    "editable": true,
    "slideshow": {
     "slide_type": ""
    },
    "tags": [
     "17"
    ]
   },
   "source": [
    "#### 17. Calculate the monthly and annual wind statistics for the wind speed and the wind direction for both buoys"
   ]
  },
  {
   "cell_type": "code",
   "execution_count": null,
   "metadata": {},
   "outputs": [],
   "source": [
    "if short_term_analysis:\n",
    "    df_month_mean_B6B2 = data_analysis.group_month_and_calc_mean(df_B6B2)\n",
    "df_month_mean_B6B2    "
   ]
  },
  {
   "cell_type": "code",
   "execution_count": null,
   "metadata": {},
   "outputs": [],
   "source": [
    "if short_term_analysis:\n",
    "    data_analysis.calc_yearly_statistics(df_B6B2['ws6_150m'], df_B6B2['wd6_150m'])"
   ]
  },
  {
   "cell_type": "markdown",
   "metadata": {
    "editable": true,
    "slideshow": {
     "slide_type": ""
    },
    "tags": [
     "18"
    ]
   },
   "source": [
    "#### 18. Plot the monthly mean wind speed and wind direction for both buoys"
   ]
  },
  {
   "cell_type": "code",
   "execution_count": null,
   "metadata": {},
   "outputs": [],
   "source": [
    "if plot_short_term:\n",
    "    plotting.plot_histogram_mounthly_mean(df_month_mean_B6B2['ws6_150m'], df_month_mean_B6B2['wd6_150m'])"
   ]
  },
  {
   "cell_type": "markdown",
   "metadata": {
    "editable": true,
    "slideshow": {
     "slide_type": ""
    },
    "tags": [
     "19"
    ]
   },
   "source": [
    "#### 19. Plot the diurnal wind speed and wind direction for both buoys"
   ]
  },
  {
   "cell_type": "code",
   "execution_count": null,
   "metadata": {},
   "outputs": [],
   "source": [
    "if plot_short_term:\n",
    "    diurnal_B6B2_df = data_analysis.calc_diurnal_wsand_wd(df_B6B2)\n",
    "    plotting.plot_diurnal_ws_and_wd(diurnal_B6B2_df.index,  diurnal_B6B2_df['ws6_150m'], diurnal_B6B2_df['wd6_150m'])"
   ]
  },
  {
   "cell_type": "markdown",
   "metadata": {
    "editable": true,
    "slideshow": {
     "slide_type": ""
    },
    "tags": [
     "20"
    ]
   },
   "source": [
    "#### 20. Plot wind roses for both buoys"
   ]
  },
  {
   "cell_type": "code",
   "execution_count": null,
   "metadata": {},
   "outputs": [],
   "source": [
    "if plot_windrose:\n",
    "    plotting.plot_wind_rose(df_B6B2['wd6_150m'], df_B6B2['ws6_150m'], 'Windrose Plot of Buoy 6 from 03-03-2022 to 03-03-2023' )\n",
    "    plotting.plot_wind_rose(df_B6B2['wd2_150m'], df_B6B2['ws2_150m'], 'Windrose Plot of Buoy 2 from 03-03-2022 to 03-03-2023' )"
   ]
  },
  {
   "cell_type": "markdown",
   "metadata": {
    "editable": true,
    "slideshow": {
     "slide_type": ""
    },
    "tags": [
     "21"
    ]
   },
   "source": [
    "#### 21. Plot a Weibull distribution of the wind speed\n",
    "\n",
    "- weibull_min.fit(ws_data, floc=0): This part of the code fits a Weibull distribution to the wind speed data (ws_data). The fit method of the weibull_min distribution estimates the shape, location, and scale parameters of the Weibull distribution that best fit the provided data.\n",
    "- shape, _, scale: The result of the fit method is a tuple containing the estimated parameters. In this case, shape represents the shape parameter of the Weibull distribution, and scale represents the scale parameter. The underscore _ is used to discard the estimated location parameter (floc), as it is fixed at 0 in this case.\n",
    "- The weibull_pdf function defines the probability density function (PDF) for a Weibull distribution. function that describes the likelihood of a continuous random variable falling within a particular range of values."
   ]
  },
  {
   "cell_type": "markdown",
   "metadata": {
    "editable": true,
    "slideshow": {
     "slide_type": ""
    },
    "tags": [
     "22"
    ]
   },
   "source": [
    "#### 22. Calculate the annual power production of one turbine, one field, and the entire farm\n",
    "\n",
    "Remark on wind turbine data: The \"ct\" in the turbine data refers to the thrust coefficient. It is a dimensionless number that describes the thrust force exerted by the wind on the turbine blades relative to the dynamic pressure of the wind."
   ]
  },
  {
   "cell_type": "code",
   "execution_count": null,
   "metadata": {},
   "outputs": [],
   "source": [
    "# Constants\n",
    "T = 8760  # total hours/year [h]\n",
    "rho = 1.225  # air density [kg/m^3]\n",
    "D = 240  # rotor diameter [m]\n",
    "A = np.pi * (D / 2)**2  # swept area [m^2]\n",
    "\n",
    "if calculate_AEP:\n",
    "    # Load data\n",
    "    windspeed_data = df_B6B2['ws6_150m']\n",
    "    power_curve_data = pd.read_csv(turbine_power_curve_path)\n",
    "\n",
    "    # Calculate AEP\n",
    "    results = data_analysis.calculate_aep(windspeed_data, power_curve_data, turbines_N9_1, turbines_N9_2, turbines_N9_3)\n",
    "    data_analysis.print_aep_results(results, turbines_N9_1, turbines_N9_2, turbines_N9_3)    \n",
    "\n",
    "if plot_weibull:\n",
    "    plotting.plot_weibull_distribution(windspeed_data, results['shape'], results['scale'])"
   ]
  },
  {
   "cell_type": "markdown",
   "metadata": {
    "editable": true,
    "slideshow": {
     "slide_type": ""
    },
    "tags": [
     "23"
    ]
   },
   "source": [
    "#### 23. Plot a power curve"
   ]
  },
  {
   "cell_type": "code",
   "execution_count": null,
   "metadata": {},
   "outputs": [],
   "source": [
    "if plot_power_curve:\n",
    "    plotting.plot_power_curve(power_curve_data)"
   ]
  },
  {
   "cell_type": "markdown",
   "metadata": {
    "editable": true,
    "slideshow": {
     "slide_type": ""
    },
    "tags": [
     "24"
    ]
   },
   "source": [
    "#### 24. Exploring ERA5 data"
   ]
  },
  {
   "cell_type": "markdown",
   "metadata": {},
   "source": [
    "In this section, ERA 5 data processed and analyzed:\n",
    "\n",
    "- checking the data gaps\n",
    "- calculating average wind speeds (yearly, monthly, overall)\n",
    "- plotting wind speed and direction distribution\n",
    "- checking the trend of the wind speeds\n",
    "\n",
    "Furthermore, a long-term period of 2000 - 2023 is selected for MCP, to avoid the exceptionally high wind speed years in 1990's, because correcting the measurement data with this high wind speed period could result in overestimation."
   ]
  },
  {
   "cell_type": "code",
   "execution_count": null,
   "metadata": {},
   "outputs": [],
   "source": [
    "if era5_analyze:\n",
    "    start_year = 2000\n",
    "    end_year = 2023\n",
    "\n",
    "    Era5_data, yearly_avg, monthly_avg, overall_avg, missing_data = era5_analysis.analyze_era5_data(era5_path, start_year, end_year)"
   ]
  },
  {
   "cell_type": "markdown",
   "metadata": {
    "editable": true,
    "slideshow": {
     "slide_type": ""
    },
    "tags": [
     "25"
    ]
   },
   "source": [
    "#### 25. Comparison of measurement data with ERA5 data\n",
    "In this section, the measurement data is compared with ERA5 data and their correlation is checked.\n",
    "- The time resolution of measurement data is 10min whereas that of ERA 5 is 1 hour. Therefore, the measurement data is resampled to 1 hour resolution and aligned with the ERA 5 data.\n",
    "\n",
    "- Buoy2 measurement period: \n",
    "2022-03-03 00:00:00 to 2023-06-15 23:50:00 \n",
    "- Buoy6 measurement period: \n",
    "2022-03-03 00:00:00 to 2023-04-04 04:30:00 \n",
    "- ERA 5 period: \n",
    "2000-01-01 00:00:00 to 2023-12-31 23:00:00"
   ]
  },
  {
   "cell_type": "code",
   "execution_count": null,
   "metadata": {},
   "outputs": [],
   "source": [
    "if era5_analyze:\n",
    "    # Load processed measurement data\n",
    "    meas_data = pd.read_csv('interpolated_ws_and_wd_for_150_m.csv')\n",
    "\n",
    "    # Split the DataFrame\n",
    "    df_buoy2 = meas_data[['time', 'ws2_150m', 'wd2_150m']].copy()\n",
    "    df_buoy6 = meas_data[['time', 'ws6_150m', 'wd6_150m']].copy()\n",
    "\n",
    "    # Rename the columns\n",
    "    df_buoy2.rename(columns={'ws2_150m': 'meas_WS150', 'wd2_150m': 'meas_WD150'}, inplace=True)\n",
    "    df_buoy6.rename(columns={'ws6_150m': 'meas_WS150', 'wd6_150m': 'meas_WD150'}, inplace=True)\n",
    "\n",
    "    # select desired columns of ERA 5 data\n",
    "    era5_selected = Era5_data[['time', 'WS100', 'WD100']].copy()\n",
    "    era5_selected['time'] = pd.to_datetime(era5_selected['time'])\n",
    "    era5_selected.set_index('time', inplace=True)\n",
    "    era5_selected.rename(columns={'WS100': 'era5_WS100', 'WD100': 'era5_WD100'}, inplace=True)\n",
    "\n",
    "    # Merge measurement data with Era5 data\n",
    "    aligned_data_buoy2 = era5_analysis.resample_and_merge_data(df_buoy2, era5_selected, 'Buoy2')\n",
    "    aligned_data_buoy6 = era5_analysis.resample_and_merge_data(df_buoy6, era5_selected, 'Buoy6')\n",
    "\n",
    "    # Plot results \n",
    "    era5_analysis.calculate_statistics(aligned_data_buoy2, 'Buoy2')\n",
    "    era5_analysis.plot_meas_era5_comparison_WS(aligned_data_buoy2, 'Buoy2')\n",
    "    era5_analysis.plot_meas_era5_comparison_WD(aligned_data_buoy2, 'Buoy2')\n",
    "\n",
    "    era5_analysis.calculate_statistics(aligned_data_buoy6, 'Buoy6')\n",
    "    era5_analysis.plot_meas_era5_comparison_WS(aligned_data_buoy6, 'Buoy6')\n",
    "    era5_analysis.plot_meas_era5_comparison_WD(aligned_data_buoy6, 'Buoy6')"
   ]
  },
  {
   "cell_type": "markdown",
   "metadata": {
    "editable": true,
    "slideshow": {
     "slide_type": ""
    },
    "tags": [
     "26"
    ]
   },
   "source": [
    "### 26. Long-term correction of the measurement data - MCP using Linear Regression\n",
    "\n",
    "Wind speed prediction\n",
    "- Firstly, the data is prepared by separating features and target values, and handling missing data.\n",
    "- With the 70% of data, a linear regression model is trained.\n",
    "- The test data(30%) is fed into the trained model and predict wind speeds. By comparing the prediction and the actual data, the model's performance is evaluated using MAE, RMSE, and the correlation coefficient, with results visualized in a scatter plot.\n",
    "- If the model is good enough, the measurement data is corrected into long-term using the trained model.\n",
    "- Then, the measurement data and the LT corrected data are compared.\n",
    "\n",
    "Wind direction prediction\n",
    "- Wind direction data from ERA5 is corrected based on the mean difference from measured data."
   ]
  },
  {
   "cell_type": "code",
   "execution_count": null,
   "metadata": {},
   "outputs": [],
   "source": [
    "if longterm_correct:\n",
    "    # Run MCP workflow for Buoy2\n",
    "    LT_corrected_buoy2 = longterm.run_lin_mcp_workflow(aligned_data_buoy2, 'Buoy2')\n",
    "    LT_corrected_buoy2[['long-term_WS150', 'long-term_WD150']].to_csv('LT_corrected_buoy2.csv', index=True)\n",
    "\n",
    "    # Run MCP workflow for Buoy6\n",
    "    LT_corrected_buoy6 = longterm.run_lin_mcp_workflow(aligned_data_buoy6, 'Buoy6')\n",
    "    LT_corrected_buoy6[['long-term_WS150', 'long-term_WD150']].to_csv('LT_corrected_buoy6.csv', index=True)"
   ]
  },
  {
   "cell_type": "markdown",
   "metadata": {
    "editable": true,
    "slideshow": {
     "slide_type": ""
    },
    "tags": [
     "27"
    ]
   },
   "source": [
    "#### 27. Long Term Wind Climate - Data Loading"
   ]
  },
  {
   "cell_type": "code",
   "execution_count": null,
   "metadata": {},
   "outputs": [],
   "source": [
    "# Data Paths\n",
    "LT_corrected_B6_path = 'LT_corrected_buoy6.csv' #ws and wd are at 150 m height\n",
    "LT_corrected_B2_path = 'LT_corrected_buoy2.csv'\n",
    "turbine_power_curve_path = 'data/turbine-info/power_curves/IEA-15MW-D240-H150.csv'"
   ]
  },
  {
   "cell_type": "code",
   "execution_count": null,
   "metadata": {},
   "outputs": [],
   "source": [
    "# Load the data\n",
    "turbines_area_of_interest_path = 'data/turbine-info/coordinates/area_of_interest/'\n",
    "base_path = turbines_area_of_interest_path\n",
    "file_N9_1 = f'{base_path}\\layout-N-9.1.geom.csv'\n",
    "file_N9_2 = f'{base_path}\\layout-N-9.2.geom.csv'\n",
    "file_N9_3 = f'{base_path}\\layout-N-9.3.geom.csv'\n",
    "#number of turbines per field\n",
    "turbines_N9_1 = len(pd.read_csv(file_N9_1))\n",
    "turbines_N9_2 = len(pd.read_csv(file_N9_2))\n",
    "turbines_N9_3 = len(pd.read_csv(file_N9_3))"
   ]
  },
  {
   "cell_type": "code",
   "execution_count": null,
   "metadata": {},
   "outputs": [],
   "source": [
    "def read_LT_data_to_df(filepath):\n",
    "    df = pd.read_csv(filepath)\n",
    "    df.set_index('time', inplace=True)\n",
    "    return df\n",
    "\n",
    "df_B6 = read_LT_data_to_df(LT_corrected_B6_path)\n",
    "df_B2 = read_LT_data_to_df(LT_corrected_B2_path)"
   ]
  },
  {
   "cell_type": "markdown",
   "metadata": {
    "editable": true,
    "slideshow": {
     "slide_type": ""
    },
    "tags": [
     "28"
    ]
   },
   "source": [
    "#### 28. Calculate the monthly and annual wind statistics for the wind speed and the wind direction for both buoys"
   ]
  },
  {
   "cell_type": "code",
   "execution_count": null,
   "metadata": {},
   "outputs": [],
   "source": [
    "def group_month_and_calc_mean(df):\n",
    "    df.index = pd.to_datetime(df.index)\n",
    "    df['month'] = df.index.month\n",
    "    df_month_mean = df.groupby('month').mean()\n",
    "    return df_month_mean\n",
    "\n",
    "df_month_mean_B6 = group_month_and_calc_mean(df_B6)\n",
    "df_month_mean_B2 = group_month_and_calc_mean(df_B2)"
   ]
  },
  {
   "cell_type": "code",
   "execution_count": null,
   "metadata": {
    "editable": true,
    "slideshow": {
     "slide_type": ""
    },
    "tags": []
   },
   "outputs": [],
   "source": [
    "df_month_mean_B6"
   ]
  },
  {
   "cell_type": "code",
   "execution_count": null,
   "metadata": {},
   "outputs": [],
   "source": [
    "# Calculate yearly statistics for wind speed\n",
    "def calc_yearly_statistics(windspeed, winddirection):\n",
    "    yearly_mean_ws = np.mean(windspeed)\n",
    "    yearly_std_ws = np.std(windspeed)\n",
    "    yearly_mean_wd = np.mean(winddirection)\n",
    "    yearly_std_wd = np.std(winddirection)\n",
    "    print(f\"Yearly Mean of Wind Speed: {yearly_mean_ws:.2f}, Standard Deviation: {yearly_std_ws:.2f}\")\n",
    "    print(f\"Yearly Mean of Wind Direction: {yearly_mean_wd:.2f}, Standard Deviation: {yearly_std_wd:.2f}\")\n",
    "\n",
    "calc_yearly_statistics(df_B6['long-term_WS150'], df_B6['long-term_WD150'])"
   ]
  },
  {
   "cell_type": "markdown",
   "metadata": {
    "editable": true,
    "slideshow": {
     "slide_type": ""
    },
    "tags": [
     "29"
    ]
   },
   "source": [
    "#### 29. Plot the monthly mean wind speed and wind direction for B6"
   ]
  },
  {
   "cell_type": "code",
   "execution_count": null,
   "metadata": {},
   "outputs": [],
   "source": [
    "def plot_histogram_mounthly_mean(monthly_mean_ws, monthly_mean_wd):\n",
    "    months = ['Jan', 'Feb', 'Mar', 'Apr', 'May', 'Jun', 'Jul', 'Aug', 'Sep', 'Oct', 'Nov', 'Dec']\n",
    "    fig, ax1 = plt.subplots(figsize=(12, 6))\n",
    "\n",
    "    # Plot wind speed histogram on the left y-axis\n",
    "    ax1.bar(months, monthly_mean_ws, width=0.4, label='Wind Speed 150m (Buoy 6)', color='b', align='center')\n",
    "    ax1.set_xlabel('Hour of the Day')\n",
    "    ax1.set_ylabel('Wind Speed (m/s)', color='b')\n",
    "    ax1.tick_params(axis='y', labelcolor='b')\n",
    "\n",
    "    # Create a second y-axis to plot wind direction\n",
    "    ax2 = ax1.twinx()\n",
    "    ax2.plot(months, monthly_mean_wd, 'r--o', label='Wind Direction 150m (Buoy 6)', markersize=5)\n",
    "    ax2.set_ylabel('Wind Direction (degrees)', color='r')\n",
    "    ax2.tick_params(axis='y', labelcolor='r')\n",
    "    fig.legend(loc=\"upper right\", bbox_to_anchor=(1,1), bbox_transform=ax1.transAxes)\n",
    "    plt.title('Diurnal Profile of Wind Speed and Wind Direction for Buoy 6')\n",
    "    plt.grid(True)\n",
    "    plt.show()\n",
    "\n",
    "plot_histogram_mounthly_mean(df_month_mean_B6['long-term_WS150'], df_month_mean_B6['long-term_WD150'])"
   ]
  },
  {
   "cell_type": "markdown",
   "metadata": {
    "editable": true,
    "slideshow": {
     "slide_type": ""
    },
    "tags": [
     "30",
     "31"
    ]
   },
   "source": [
    "#### 30. Group the data into hours of the day and calculate the mean wind speed and wind direction for each hour of the day\n",
    "#### 31. Plot the diurnal wind speed and wind direction for both buoys"
   ]
  },
  {
   "cell_type": "code",
   "execution_count": null,
   "metadata": {},
   "outputs": [],
   "source": [
    "diurnal_B6_df"
   ]
  },
  {
   "cell_type": "markdown",
   "metadata": {
    "editable": true,
    "slideshow": {
     "slide_type": ""
    },
    "tags": [
     "32"
    ]
   },
   "source": [
    "#### 32. Plot wind roses for both buoys"
   ]
  },
  {
   "cell_type": "code",
   "execution_count": null,
   "metadata": {},
   "outputs": [],
   "source": [
    "\n",
    "def plot_wind_rose(wd, ws, title):\n",
    "    ax = WindroseAxes.from_ax()\n",
    "    ax.bar(wd, ws, normed=True, opening=0.8, edgecolor='white')\n",
    "    ax.set_legend()\n",
    "    plt.title(title)\n",
    "    plt.show()\n",
    "\n",
    "plot_wind_rose(df_B6['long-term_WD150'], df_B6['long-term_WS150'], 'Windrose Plot of Buoy 6 from 03-03-2022 to 03-03-2023' )\n",
    "plot_wind_rose(df_B2['long-term_WD150'], df_B2['long-term_WS150'], 'Windrose Plot of Buoy 2 from 03-03-2022 to 03-03-2023' )"
   ]
  },
  {
   "cell_type": "markdown",
   "metadata": {
    "editable": true,
    "slideshow": {
     "slide_type": ""
    },
    "tags": [
     "33"
    ]
   },
   "source": [
    "#### 33. Plot a Weibull distribution of the wind speed\n",
    "\n",
    "- weibull_min.fit(ws_data, floc=0): This part of the code fits a Weibull distribution to the wind speed data (ws_data). The fit method of the weibull_min distribution estimates the shape, location, and scale parameters of the Weibull distribution that best fit the provided data.\n",
    "- shape, _, scale: The result of the fit method is a tuple containing the estimated parameters. In this case, shape represents the shape parameter of the Weibull distribution, and scale represents the scale parameter. The underscore _ is used to discard the estimated location parameter (floc), as it is fixed at 0 in this case.\n",
    "- The weibull_pdf function defines the probability density function (PDF) for a Weibull distribution. function that describes the likelihood of a continuous random variable falling within a particular range of values."
   ]
  },
  {
   "cell_type": "markdown",
   "metadata": {
    "editable": true,
    "slideshow": {
     "slide_type": ""
    },
    "tags": [
     "34"
    ]
   },
   "source": [
    "#### 34. Calculate the annual power production of one turbine, one field, and the entire farm\n",
    "\n",
    "Remark on wind turbine data: The \"ct\" in the turbine data refers to the thrust coefficient. It is a dimensionless number that describes the thrust force exerted by the wind on the turbine blades relative to the dynamic pressure of the wind."
   ]
  },
  {
   "cell_type": "code",
   "execution_count": null,
   "metadata": {},
   "outputs": [],
   "source": [
    "# Constants\n",
    "T = 8760  # total hours/year [h]\n",
    "rho = 1.225  # air density [kg/m^3]\n",
    "D = 240  # rotor diameter [m]\n",
    "A = np.pi * (D / 2)**2  # swept area [m^2]\n",
    "\n",
    "# Load data\n",
    "windspeed_data = df_B6['long-term_WS150']\n",
    "power_curve_data = pd.read_csv(turbine_power_curve_path)\n",
    "\n",
    "def cut_in_windspeed(power_curve_data):\n",
    "    return power_curve_data.loc[power_curve_data['P'] > 0, 'ws'].min()\n",
    "\n",
    "def cut_out_windspeed(power_curve_data):\n",
    "    return power_curve_data.loc[power_curve_data['P'] > 0, 'ws'].max()\n",
    "\n",
    "def power_curve_interpolated(power_curve_data):\n",
    "    power_curve_func = interp1d(power_curve_data['ws'], power_curve_data['P'], fill_value=\"extrapolate\")\n",
    "    return power_curve_func\n",
    "\n",
    "def calculate_weibull_fit(windspeed_data):\n",
    "    shape, _, scale = weibull_min.fit(windspeed_data, floc=0)  # floc=0 => location parameter defaults to 0\n",
    "    return shape, scale\n",
    "\n",
    "def weibull_pdf(ws, shape, scale):\n",
    "    return weibull_min.pdf(ws, shape, loc=0, scale=scale)\n",
    "\n",
    "def integrand(ws, shape, scale, power_curve_func):\n",
    "    P = power_curve_func(ws)  # Use interpolated power curve values\n",
    "    return P * weibull_pdf(ws, shape, scale)\n",
    "\n",
    "def calculate_APP(shape, scale, power_curve_func, cut_in_ws, cut_out_ws):\n",
    "    APP, error = quad(integrand, cut_in_ws, cut_out_ws, args=(shape, scale, power_curve_func), limit=100, epsabs=1e-05, epsrel=1e-05)\n",
    "    return APP * T, error * T  # Multiply by total hours per year to get AEP\n",
    "\n",
    "# Process data\n",
    "cut_in_ws = cut_in_windspeed(power_curve_data)\n",
    "cut_out_ws = cut_out_windspeed(power_curve_data)\n",
    "power_curve_func = power_curve_interpolated(power_curve_data)\n",
    "shape, scale = calculate_weibull_fit(windspeed_data)\n",
    "\n",
    "# Calculate APP (Annual Power Production)\n",
    "APP, error = calculate_APP(shape, scale, power_curve_func, cut_in_ws, cut_out_ws)\n",
    "print(f\"APP of one Turbine: {APP / 1e6:.4f} GWh\")  # Convert to MWh for readability\n",
    "print(f\"Estimated error: {error / 1e6:.4f} GWh\")\n",
    "\n",
    "total_farm_yield_no_wakes = ((APP/1e9) *366)\n",
    "\n",
    "print(f\"Annual Energy Production of N-9.1 (133 Turbines): {((APP/1e9) * turbines_N9_1):.4f} TWh\")\n",
    "print(f\"Annual Energy Production of N-9.2 (133 Turbines): {((APP/1e9) * turbines_N9_2):.4f} TWh\")\n",
    "print(f\"Annual Energy Production of N-9.3 (100 Turbines): {((APP/1e9) * turbines_N9_3):.4f} TWh\")\n",
    "print(f\"Total Energy Production of all three fields (366 Turbines): {total_farm_yield_no_wakes:.4f} TWh \")\n",
    "print(f\"This is {((((APP/1e9) *366)/507)*100):.2f} % of the electricity consumed in one yr in Germany.\")\n",
    "\n",
    "# Plotting the Weibull distribution and wind speed data\n",
    "plt.figure(figsize=(10, 6))\n",
    "ws_range = np.linspace(0, max(windspeed_data), 100)\n",
    "weibull_pdf_values = weibull_pdf(ws_range, shape, scale)\n",
    "\n",
    "plt.hist(windspeed_data, bins=30, density=True, alpha=0.6, color='blue', edgecolor='black', label='Wind Speed Data')\n",
    "plt.plot(ws_range, weibull_pdf_values, 'r-', lw=2, label='Weibull Distribution')\n",
    "plt.xlabel('Wind Speed (m/s)')\n",
    "plt.ylabel('Density')\n",
    "plt.title('Wind Speed Data and Weibull Distribution Fit')\n",
    "plt.legend()\n",
    "plt.grid(True)\n",
    "plt.show()\n",
    "\n",
    "\n",
    "data = {\n",
    "    'Energy Yield no wakes': [total_farm_yield_no_wakes]\n",
    "}\n",
    "df = pd.DataFrame(data)\n",
    "df.to_csv('total_farmyield_nowakes.csv', index=False)\n"
   ]
  },
  {
   "cell_type": "markdown",
   "metadata": {
    "editable": true,
    "slideshow": {
     "slide_type": ""
    },
    "tags": [
     "35"
    ]
   },
   "source": [
    "#### 35. Plot a power curve"
   ]
  },
  {
   "cell_type": "code",
   "execution_count": null,
   "metadata": {},
   "outputs": [],
   "source": [
    "# Plotting the power curve\n",
    "plt.figure(figsize=(10, 6))\n",
    "plt.plot(power_curve_data['ws'], power_curve_data['P'], marker='o', linestyle='-', color='b')\n",
    "plt.title('Power Curve')\n",
    "plt.xlabel('Wind Speed (m/s)')\n",
    "plt.ylabel('Power (kW)')\n",
    "plt.grid(True)\n",
    "plt.show()"
   ]
  }
 ],
 "metadata": {
  "kernelspec": {
   "display_name": "Python 3 (ipykernel)",
   "language": "python",
   "name": "python3"
  },
  "language_info": {
   "codemirror_mode": {
    "name": "ipython",
    "version": 3
   },
   "file_extension": ".py",
   "mimetype": "text/x-python",
   "name": "python",
   "nbconvert_exporter": "python",
   "pygments_lexer": "ipython3",
   "version": "3.12.3"
  }
 },
 "nbformat": 4,
 "nbformat_minor": 4
}
