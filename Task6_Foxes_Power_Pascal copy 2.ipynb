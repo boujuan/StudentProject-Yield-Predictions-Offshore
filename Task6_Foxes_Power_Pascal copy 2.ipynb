{
 "cells": [
  {
   "cell_type": "markdown",
   "metadata": {},
   "source": [
    "6. Calculate the yield of the areas N-9.1, N-9.2, N-9.3 without external effects. Use the long-term corrected ERA5 data as \n",
    "input. "
   ]
  },
  {
   "cell_type": "code",
   "execution_count": null,
   "metadata": {},
   "outputs": [],
   "source": [
    "import os\n",
    "import numpy as np\n",
    "import pandas as pd\n",
    "import matplotlib.pyplot as plt\n",
    "import foxes\n",
    "import foxes.variables as FV\n",
    "\n",
    "# Data Paths\n",
    "lidar_path = 'data/measurements/'\n",
    "era5_path = 'data/reanalysis/'\n",
    "turbines_existing_path = 'data/turbine-info/coordinates/existing/'\n",
    "turbines_planned_future_path = 'data/turbine-info/coordinates/planned_future/'\n",
    "turbines_planned_in_operation_before_2030_path = 'data/turbine-info/coordinates/planned_in_operation_before_2030/'\n",
    "turbines_planned_netherlands_path = 'data/turbine-info/coordinates/planned_netherlands/'\n",
    "turbines_area_of_interest_path = 'data/turbine-info/coordinates/area_of_interest/'\n",
    "shapefiles_DEU_path = 'data/shapefiles/DEU/*'\n",
    "shapefiles_DNK_path = 'data/shapefiles/DNK/*'\n",
    "shapefiles_NLD_path = 'data/shapefiles/NLD/*'\n",
    "turbine_power_curves_path = 'data/turbine-info/power_curves/'\n",
    "\n",
    "# Function to read and extract data from csv files\n",
    "def read_csv(path):\n",
    "    data = pd.read_csv(path)\n",
    "    return data"
   ]
  },
  {
   "cell_type": "code",
   "execution_count": null,
   "metadata": {},
   "outputs": [],
   "source": [
    "## get timeseries-data (here ERA5 as example)\n",
    "from ERA5 import load_data,calculate_wind_speed,calculate_wind_direction,calculate_averages,check_data_gaps\n",
    "\n",
    "Era5_path = 'data/reanalysis'  \n",
    "start_year = 2000\n",
    "end_year = 2001\n",
    "    \n",
    "Era5_data = load_data(Era5_path, start_year, end_year)\n",
    "Era5_data = calculate_wind_speed(Era5_data)\n",
    "Era5_data = calculate_wind_direction(Era5_data)\n",
    "\n",
    "data = Era5_data\n",
    "data.columns"
   ]
  },
  {
   "cell_type": "markdown",
   "metadata": {},
   "source": [
    "## Task6"
   ]
  },
  {
   "cell_type": "code",
   "execution_count": null,
   "metadata": {},
   "outputs": [],
   "source": [
    "import matplotlib.pyplot as plt\n",
    "\n",
    "# Define the vertices of the polygon\n",
    "vertices = [\n",
    "    (1, 1),\n",
    "    (4, 1),\n",
    "    (4, 3),\n",
    "    (2, 4),\n",
    "    (1, 3)\n",
    "]\n",
    "\n",
    "# Separate the x and y coordinates\n",
    "x, y = zip(*vertices)\n",
    "print(x)\n",
    "# Add the first point at the end to close the polygon\n",
    "x += (x[0],)\n",
    "y += (y[0],)\n",
    "print(x)\n",
    "# Plot the polygon\n",
    "plt.figure()\n",
    "#plt.plot(x, y, marker='o')\n",
    "plt.fill(x, y, alpha=0.3)  # Fill the polygon with some transparency\n",
    "plt.title('Closed Polygon')\n",
    "plt.xlabel('X-axis')\n",
    "plt.ylabel('Y-axis')\n",
    "plt.grid(True)\n",
    "plt.show()"
   ]
  },
  {
   "cell_type": "code",
   "execution_count": null,
   "metadata": {},
   "outputs": [],
   "source": [
    "## Running Power calculation for each Area in a function\n",
    "\n",
    "# import the custome function\n",
    "from Foxes_Farm_Power import Foxes_Farm_Power\n",
    "# Foxes_Farm_Power(Farm_Layout,States,Parameters)\n",
    "    # Farm   : pd.datafram containing Layout of Turbines\n",
    "    # States : Wind conditions\n",
    "    # Parameters: dict\n",
    "        # TType         : Turbine-Type           # \"NREL5MW\" , \"IEA15MW\"\n",
    "        # rotor_model   :\n",
    "        # wake_models   :\n",
    "        # partial_wakes :\n",
    "\n",
    "###-------------------------------------get Turbine Layouts----------------------------------###\n",
    "# create 3 Dataframes for Turbine Layouts\n",
    "current_path =  turbines_area_of_interest_path\n",
    "turb_files = os.listdir(current_path)\n",
    "Turb_dfs = [(read_csv(current_path + file),file) for file in turb_files] #read files in path to dataframe and put's those in list, also pass filename\n",
    "\n",
    "###----------------------------------------Add States-----------------------------------------###\n",
    "# define States as Foxes object and have a look at the wind rose.\n",
    "# Wind and other atmospheric inflow conditions are called `States`\n",
    "States = foxes.input.states.Timeseries(                      # StatesTable for panda df or pd readable file (single height)\n",
    "    data_source = data ,                                         # the data\n",
    "    output_vars = [FV.WS, FV.WD, FV.TI, FV.RHO],\n",
    "    var2col =     {FV.WS: \"WS100\", FV.WD: \"WD100\", FV.TI: \"ti\"}, # Mapping from variable names to data column names\n",
    "    fixed_vars =  {FV.RHO: 1.225, FV.TI: 0.05},                  # TI = Turbulanze Intensity %5 default\n",
    "    )\n",
    "\n",
    "# Plot windrose\n",
    "o = foxes.output.StatesRosePlotOutput(States, point=[0., 0., 100.])\n",
    "fig = o.get_figure(16, FV.AMB_WS, [0, 3.5, 6, 10, 15, 20], figsize=(6, 6))\n",
    "plt.show()\n",
    "\n",
    "###--------------------------------------Important Parameters---------------------------------------###\n",
    "Parameters = dict(                              # passed to the foxes.algorithms.Downwind()\n",
    "    TType         = \"IEA15MW\",                  #\"NREL5MW\",\"IEA15MW\"\n",
    "    rotor_model   = \"centre\",\n",
    "    wake_models   = [\"Bastankhah2014_linear\"],\n",
    "    partial_wakes = None,\n",
    "    )\n",
    "\n",
    "###--------------------------------------compute farm results--------------------------------------###\n",
    "Farm_Results = []\n",
    "for Farm in Turb_dfs:\n",
    "    Farm_Results.append(Foxes_Farm_Power(Farm,States,Parameters))\n",
    "    \n",
    "# algo.all_models(with_states=True) ##return all models used in our algo    "
   ]
  },
  {
   "cell_type": "code",
   "execution_count": null,
   "metadata": {},
   "outputs": [],
   "source": [
    "####-----------------------------------------Results-------------------------------------------#####\n",
    "# Note: Farm_Results is a list of dataframes\n",
    "\n",
    "# combine df to single df\n",
    "Result = Farm_Results[0]\n",
    "Result.loc[Farm_Results[1].index[0]] = Farm_Results[1].values.flatten().tolist()\n",
    "Result.loc[Farm_Results[2].index[0]] = Farm_Results[2].values.flatten().tolist()\n",
    "\n",
    "# calculate Sum for Power and Mean for Efficiency\n",
    "Result.loc[\"Sum / Mean\"] = [\n",
    "    Result[Result.columns[0]].sum(),\n",
    "    Result[Result.columns[1]].sum(),\n",
    "    Result[Result.columns[2]].mean(),\n",
    "    Result[Result.columns[3]].sum()\n",
    "    ]\n",
    "print(Result)\n"
   ]
  },
  {
   "cell_type": "markdown",
   "metadata": {},
   "source": [
    "### Task 7\n"
   ]
  },
  {
   "cell_type": "code",
   "execution_count": null,
   "metadata": {},
   "outputs": [],
   "source": [
    "# chose diffrent Parameters\n",
    "mbook_show = foxes.ModelBook()\n",
    "mbook_show.print_toc()     # print all available Models"
   ]
  },
  {
   "cell_type": "code",
   "execution_count": null,
   "metadata": {},
   "outputs": [],
   "source": [
    "# ###--------------------------------------Important Parameters---------------------------------------###\n",
    "# Parameters = dict(\n",
    "#     TType         = \"IEA15MW\",                  #\"NREL5MW\",\"IEA15MW\"\n",
    "#     rotor_model   = \"centre\",\n",
    "#     wake_models   = [\"Bastankhah2014_linear\"],\n",
    "#     partial_wakes = None,\n",
    "#     )\n",
    "\n",
    "# ###--------------------------------------compute farm results--------------------------------------###\n",
    "# Farm_Results = []\n",
    "# for Farm in Turb_dfs:\n",
    "#     Farm_Results.append(Foxes_Farm_Power(Farm,States,Parameters))\n",
    "    \n",
    "    \n",
    "    "
   ]
  }
 ],
 "metadata": {
  "kernelspec": {
   "display_name": "env",
   "language": "python",
   "name": "python3"
  },
  "language_info": {
   "codemirror_mode": {
    "name": "ipython",
    "version": 3
   },
   "file_extension": ".py",
   "mimetype": "text/x-python",
   "name": "python",
   "nbconvert_exporter": "python",
   "pygments_lexer": "ipython3",
   "version": "3.10.5"
  }
 },
 "nbformat": 4,
 "nbformat_minor": 2
}
