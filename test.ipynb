{
 "cells": [
  {
   "cell_type": "code",
   "execution_count": 1,
   "metadata": {},
   "outputs": [],
   "source": [
    "import numpy as np\n",
    "import argparse\n",
    "import matplotlib.pyplot as plt\n",
    "from iwopy.interfaces.pymoo import Optimizer_pymoo\n",
    "\n",
    "import foxes\n",
    "from foxes.opt.problems.layout import FarmLayoutOptProblem\n",
    "from foxes.opt.constraints import FarmBoundaryConstraint, MinDistConstraint\n",
    "from foxes.opt.objectives import MaxFarmPower\n"
   ]
  },
  {
   "cell_type": "code",
   "execution_count": 2,
   "metadata": {},
   "outputs": [
    {
     "name": "stderr",
     "output_type": "stream",
     "text": [
      "usage: ipykernel_launcher.py [-h] [-nt N_T] [-t TURBINE_FILE] [-r ROTOR]\n",
      "                             [-w WAKES [WAKES ...]] [-p PWAKES] [--ws WS]\n",
      "                             [--wd WD] [--ti TI] [--rho RHO] [-d MIN_DIST]\n",
      "                             [-A OPT_ALGO] [-P N_POP] [-G N_GEN] [-nop]\n",
      "                             [-sc SCHEDULER] [-n N_WORKERS]\n",
      "                             [-tw THREADS_PER_WORKER]\n",
      "ipykernel_launcher.py: error: unrecognized arguments: --f=c:\\Users\\Pascal\\AppData\\Roaming\\jupyter\\runtime\\kernel-v2-2480xP2H1dntCtkA.json\n"
     ]
    },
    {
     "ename": "SystemExit",
     "evalue": "2",
     "output_type": "error",
     "traceback": [
      "An exception has occurred, use %tb to see the full traceback.\n",
      "\u001b[1;31mSystemExit\u001b[0m\u001b[1;31m:\u001b[0m 2\n"
     ]
    },
    {
     "name": "stderr",
     "output_type": "stream",
     "text": [
      "c:\\Advanced Programming\\Project\\StudentProject-Yield-Predictions-Offshore\\env\\lib\\site-packages\\IPython\\core\\interactiveshell.py:3585: UserWarning: To exit: use 'exit', 'quit', or Ctrl-D.\n",
      "  warn(\"To exit: use 'exit', 'quit', or Ctrl-D.\", stacklevel=1)\n"
     ]
    }
   ],
   "source": [
    "\n",
    "parser = argparse.ArgumentParser()\n",
    "parser.add_argument(\n",
    "\"-nt\", \"--n_t\", help=\"The number of turbines\", type=int, default=10\n",
    ")\n",
    "parser.add_argument(\n",
    "\"-t\",\n",
    "\"--turbine_file\",\n",
    "help=\"The P-ct-curve csv file (path or static)\",\n",
    "default=\"NREL-5MW-D126-H90.csv\",\n",
    ")\n",
    "parser.add_argument(\"-r\", \"--rotor\", help=\"The rotor model\", default=\"centre\")\n",
    "parser.add_argument(\n",
    "\"-w\",\n",
    "\"--wakes\",\n",
    "help=\"The wake models\",\n",
    "default=[\"Bastankhah025_linear_k002\"],\n",
    "nargs=\"+\",\n",
    ")\n",
    "parser.add_argument(\"-p\", \"--pwakes\", help=\"The partial wakes model\", default=None)\n",
    "parser.add_argument(\"--ws\", help=\"The wind speed\", type=float, default=9.0)\n",
    "parser.add_argument(\"--wd\", help=\"The wind direction\", type=float, default=270.0)\n",
    "parser.add_argument(\"--ti\", help=\"The TI value\", type=float, default=0.08)\n",
    "parser.add_argument(\"--rho\", help=\"The air density\", type=float, default=1.225)\n",
    "parser.add_argument(\n",
    "\"-d\",\n",
    "\"--min_dist\",\n",
    "help=\"Minimal turbine distance in unit D\",\n",
    "type=float,\n",
    "default=None,\n",
    ")\n",
    "parser.add_argument(\n",
    "\"-A\", \"--opt_algo\", help=\"The pymoo algorithm name\", default=\"GA\"\n",
    ")\n",
    "parser.add_argument(\n",
    "\"-P\", \"--n_pop\", help=\"The population size\", type=int, default=50\n",
    ")\n",
    "parser.add_argument(\n",
    "\"-G\", \"--n_gen\", help=\"The nmber of generations\", type=int, default=300\n",
    ")\n",
    "parser.add_argument(\n",
    "\"-nop\", \"--no_pop\", help=\"Switch off vectorization\", action=\"store_true\"\n",
    ")\n",
    "parser.add_argument(\"-sc\", \"--scheduler\", help=\"The scheduler choice\", default=None)\n",
    "parser.add_argument(\n",
    "\"-n\",\n",
    "\"--n_workers\",\n",
    "help=\"The number of workers for distributed run\",\n",
    "type=int,\n",
    "default=None,\n",
    ")\n",
    "parser.add_argument(\n",
    "\"-tw\",\n",
    "\"--threads_per_worker\",\n",
    "help=\"The number of threads per worker for distributed run\",\n",
    "type=int,\n",
    "default=None,\n",
    ")\n",
    "args = parser.parse_args()\n"
   ]
  },
  {
   "cell_type": "code",
   "execution_count": 3,
   "metadata": {},
   "outputs": [
    {
     "ename": "NameError",
     "evalue": "name 'args' is not defined",
     "output_type": "error",
     "traceback": [
      "\u001b[1;31m---------------------------------------------------------------------------\u001b[0m",
      "\u001b[1;31mNameError\u001b[0m                                 Traceback (most recent call last)",
      "Cell \u001b[1;32mIn[3], line 2\u001b[0m\n\u001b[0;32m      1\u001b[0m mbook \u001b[38;5;241m=\u001b[39m foxes\u001b[38;5;241m.\u001b[39mmodels\u001b[38;5;241m.\u001b[39mModelBook()\n\u001b[1;32m----> 2\u001b[0m ttype \u001b[38;5;241m=\u001b[39m foxes\u001b[38;5;241m.\u001b[39mmodels\u001b[38;5;241m.\u001b[39mturbine_types\u001b[38;5;241m.\u001b[39mPCtFile(\u001b[43margs\u001b[49m\u001b[38;5;241m.\u001b[39mturbine_file)\n\u001b[0;32m      3\u001b[0m mbook\u001b[38;5;241m.\u001b[39mturbine_types[ttype\u001b[38;5;241m.\u001b[39mname] \u001b[38;5;241m=\u001b[39m ttype\n\u001b[0;32m      5\u001b[0m boundary \u001b[38;5;241m=\u001b[39m foxes\u001b[38;5;241m.\u001b[39mutils\u001b[38;5;241m.\u001b[39mgeom2d\u001b[38;5;241m.\u001b[39mCircle([\u001b[38;5;241m0.0\u001b[39m, \u001b[38;5;241m0.0\u001b[39m], \u001b[38;5;241m1000.0\u001b[39m)\n",
      "\u001b[1;31mNameError\u001b[0m: name 'args' is not defined"
     ]
    }
   ],
   "source": [
    "\n",
    "mbook = foxes.models.ModelBook()\n",
    "ttype = foxes.models.turbine_types.PCtFile(args.turbine_file)\n",
    "mbook.turbine_types[ttype.name] = ttype\n",
    "\n",
    "boundary = foxes.utils.geom2d.Circle([0.0, 0.0], 1000.0)\n",
    "\n",
    "farm = foxes.WindFarm(boundary=boundary)\n",
    "foxes.input.farm_layout.add_row(\n",
    "farm=farm,\n",
    "xy_base=np.zeros(2),\n",
    "xy_step=np.array([50.0, 0.0]),\n",
    "n_turbines=args.n_t,\n",
    "turbine_models=[\"kTI_02\", ttype.name],\n",
    ")\n",
    "states = foxes.input.states.SingleStateStates(\n",
    "ws=args.ws, wd=args.wd, ti=args.ti, rho=args.rho\n",
    ")\n"
   ]
  },
  {
   "cell_type": "code",
   "execution_count": null,
   "metadata": {},
   "outputs": [],
   "source": [
    "\n",
    "algo = foxes.algorithms.Downwind(\n",
    "farm,\n",
    "states,\n",
    "rotor_model=args.rotor,\n",
    "wake_models=args.wakes,\n",
    "wake_frame=\"rotor_wd\",\n",
    "partial_wakes=args.pwakes,\n",
    "mbook=mbook,\n",
    "verbosity=0,\n",
    ")\n",
    "\n",
    "with foxes.utils.runners.DaskRunner(\n",
    "scheduler=args.scheduler,\n",
    "n_workers=args.n_workers,\n",
    "threads_per_worker=args.threads_per_worker,\n",
    "progress_bar=False,\n",
    "verbosity=1,\n",
    ") as runner:\n",
    "problem = FarmLayoutOptProblem(\"layout_opt\", algo, runner=runner)\n",
    "problem.add_objective(MaxFarmPower(problem))\n",
    "problem.add_constraint(FarmBoundaryConstraint(problem, disc_inside=True))\n",
    "if args.min_dist is not None:\n",
    "    problem.add_constraint(\n",
    "        MinDistConstraint(problem, min_dist=args.min_dist, min_dist_unit=\"D\")\n",
    "    )\n",
    "problem.initialize()\n"
   ]
  },
  {
   "cell_type": "code",
   "execution_count": null,
   "metadata": {},
   "outputs": [],
   "source": [
    "\n",
    "solver = Optimizer_pymoo(\n",
    "    problem,\n",
    "    problem_pars=dict(\n",
    "        vectorize=not args.no_pop,\n",
    "    ),\n",
    "    algo_pars=dict(\n",
    "        type=args.opt_algo,\n",
    "        pop_size=args.n_pop,\n",
    "        seed=None,\n",
    "    ),\n",
    "    setup_pars=dict(),\n",
    "    term_pars=dict(\n",
    "        type=\"default\",\n",
    "        n_max_gen=args.n_gen,\n",
    "        ftol=1e-6,\n",
    "        xtol=1e-6,\n",
    "    ),\n",
    ")\n"
   ]
  },
  {
   "cell_type": "code",
   "execution_count": null,
   "metadata": {},
   "outputs": [],
   "source": [
    "\n",
    "solver.initialize()\n",
    "solver.print_info()"
   ]
  },
  {
   "cell_type": "code",
   "execution_count": null,
   "metadata": {},
   "outputs": [],
   "source": [
    "\n",
    "ax = foxes.output.FarmLayoutOutput(farm).get_figure()\n",
    "plt.show()\n",
    "plt.close(ax.get_figure())\n",
    "\n",
    "results = solver.solve()\n",
    "solver.finalize(results)\n",
    "\n",
    "print()\n",
    "print(results)\n",
    "\n",
    "fig, axs = plt.subplots(1, 2, figsize=(12, 8))\n",
    "\n",
    "foxes.output.FarmLayoutOutput(farm).get_figure(fig=fig, ax=axs[0])\n",
    "\n",
    "o = foxes.output.FlowPlots2D(algo, results.problem_results)\n",
    "p_min = np.array([-1100.0, -1100.0])\n",
    "p_max = np.array([1100.0, 1100.0])\n",
    "fig = o.get_mean_fig_xy(\n",
    "    \"WS\",\n",
    "    resolution=20,\n",
    "    fig=fig,\n",
    "    ax=axs[1],\n",
    "    xmin=p_min[0],\n",
    "    xmax=p_max[0],\n",
    "    ymin=p_min[1],\n",
    "    ymax=p_max[1],\n",
    ")\n",
    "dpars = dict(alpha=0.6, zorder=10, p_min=p_min, p_max=p_max)\n",
    "farm.boundary.add_to_figure(\n",
    "    axs[1], fill_mode=\"outside_white\", pars_distance=dpars\n",
    ")\n",
    "\n",
    "plt.show()\n",
    "plt.close(fig)"
   ]
  }
 ],
 "metadata": {
  "kernelspec": {
   "display_name": "env",
   "language": "python",
   "name": "python3"
  },
  "language_info": {
   "codemirror_mode": {
    "name": "ipython",
    "version": 3
   },
   "file_extension": ".py",
   "mimetype": "text/x-python",
   "name": "python",
   "nbconvert_exporter": "python",
   "pygments_lexer": "ipython3",
   "version": "3.10.5"
  }
 },
 "nbformat": 4,
 "nbformat_minor": 2
}
