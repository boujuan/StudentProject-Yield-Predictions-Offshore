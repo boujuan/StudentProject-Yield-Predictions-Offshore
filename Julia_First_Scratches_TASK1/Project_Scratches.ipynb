{
 "cells": [
  {
   "cell_type": "markdown",
   "metadata": {},
   "source": [
    "Notes: \n",
    "\n",
    "- Get an overview of the field where the farm is planned: \n",
    "    - coordinates: of the N9.1 - N9.3 \n",
    "    - plot every N9.X field separately and together \n",
    "    - conversion of the coordinates into bla-Krüger \n",
    "\n",
    "- LIDAR Measurements: \n",
    "    - get out the position where they measured: plot them inside the fields \n",
    "    - where are the wind speed measurements of these lidar sensors? \n",
    "\n",
    "QUESTIONS \n",
    "-what is the difference btw wind_from_direction_availability and wind_speed_availability\n",
    "-dircection:    description: Wind direction availability corresponding to the share of valid motion compensated high-resolution wind data packets versus recorded packets aggregated within the respective 10-minute period.\n",
    "-wind_speed_availability:     description: Wind speed availability corresponding to the share of valid corrected high-resolution wind data packets versus recorded packets aggregated within the respective 10-minute period.\n",
    "\n",
    "-Measure correlate predict corrected data from ZX_LIDAR_WLBZ_2 measured by WLBZ_2?????"
   ]
  }
 ],
 "metadata": {
  "kernelspec": {
   "display_name": "geoplot_env",
   "language": "python",
   "name": "python3"
  },
  "language_info": {
   "codemirror_mode": {
    "name": "ipython",
    "version": 3
   },
   "file_extension": ".py",
   "mimetype": "text/x-python",
   "name": "python",
   "nbconvert_exporter": "python",
   "pygments_lexer": "ipython3",
   "version": "3.11.9"
  }
 },
 "nbformat": 4,
 "nbformat_minor": 2
}
