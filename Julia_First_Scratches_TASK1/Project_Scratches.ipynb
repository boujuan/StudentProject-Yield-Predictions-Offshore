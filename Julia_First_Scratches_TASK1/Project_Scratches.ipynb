{
 "cells": [
  {
   "cell_type": "markdown",
   "metadata": {},
   "source": [
    "Notes: \n",
    "\n",
    "- Get an overview of the field where the farm is planned: \n",
    "    - coordinates: of the N9.1 - N9.3 \n",
    "    - plot every N9.X field separately and together \n",
    "    - conversion of the coordinates into bla-Krüger \n",
    "\n",
    "- LIDAR Measurements: \n",
    "    - get out the position where they measured: plot them inside the fields \n",
    "    - where are the wind speed measurements of these lidar sensors? \n",
    "\n",
    "QUESTIONS \n",
    "-what is the difference btw wind_from_direction_availability and wind_speed_availability\n",
    "-dircection:    description: Wind direction availability corresponding to the share of valid motion compensated high-resolution wind data packets versus recorded packets aggregated within the respective 10-minute period.\n",
    "-wind_speed_availability:     description: Wind speed availability corresponding to the share of valid corrected high-resolution wind data packets versus recorded packets aggregated within the respective 10-minute period.\n",
    "\n",
    "-Measure correlate predict corrected data from ZX_LIDAR_WLBZ_2 measured by WLBZ_2?????"
   ]
  },
  {
   "cell_type": "code",
   "execution_count": 1,
   "metadata": {},
   "outputs": [
    {
     "ename": "NameError",
     "evalue": "name 'Dataset' is not defined",
     "output_type": "error",
     "traceback": [
      "\u001b[1;31m---------------------------------------------------------------------------\u001b[0m",
      "\u001b[1;31mNameError\u001b[0m                                 Traceback (most recent call last)",
      "Cell \u001b[1;32mIn[1], line 19\u001b[0m\n\u001b[0;32m     17\u001b[0m \u001b[38;5;66;03m# Open the NetCDF file\u001b[39;00m\n\u001b[0;32m     18\u001b[0m file_path \u001b[38;5;241m=\u001b[39m \u001b[38;5;124m\"\u001b[39m\u001b[38;5;124m../measurements/2023-11-06_Buoy6_BSH_N-9.nc\u001b[39m\u001b[38;5;124m\"\u001b[39m\n\u001b[1;32m---> 19\u001b[0m ncfile \u001b[38;5;241m=\u001b[39m \u001b[43mDataset\u001b[49m(file_path)\n\u001b[0;32m     21\u001b[0m \u001b[38;5;66;03m# Start exploring from the root group\u001b[39;00m\n\u001b[0;32m     22\u001b[0m walktree(ncfile)\n",
      "\u001b[1;31mNameError\u001b[0m: name 'Dataset' is not defined"
     ]
    }
   ],
   "source": [
    "def walktree(top):\n",
    "    \"\"\"\n",
    "    Recursively explore all groups and variables in a NetCDF dataset.\n",
    "    \n",
    "    Args:\n",
    "    - top: The top-level group to start exploring from.\n",
    "    \"\"\"\n",
    "    print('TOP GROUP nr. X OF THE DATASET')\n",
    "    print(top)\n",
    "    for name in top.groups:\n",
    "        walktree(top.groups[name])\n",
    "\n",
    "    for name in top.variables:\n",
    "        print('VARIABLE nr. X OF EACH GROUP:')\n",
    "        print(top.variables[name])\n",
    "\n",
    "# Open the NetCDF file\n",
    "file_path = \"../measurements/2023-11-06_Buoy6_BSH_N-9.nc\"\n",
    "ncfile = Dataset(file_path)\n",
    "\n",
    "# Start exploring from the root group\n",
    "walktree(ncfile)\n",
    "\n",
    "# Close the NetCDF file\n",
    "#ncfile.close()\n"
   ]
  },
  {
   "cell_type": "code",
   "execution_count": 2,
   "metadata": {},
   "outputs": [
    {
     "data": {
      "text/plain": [
       "KeysView(<xarray.Dataset> Size: 458kB\n",
       "Dimensions:    (longitude: 1, latitude: 1, time: 57196, height: 6)\n",
       "Coordinates:\n",
       "  * longitude  (longitude) float32 4B 5.521\n",
       "  * latitude   (latitude) float32 4B 54.4\n",
       "  * time       (time) datetime64[ns] 458kB 2022-03-03 ... 2023-04-04T04:30:00\n",
       "  * height     (height) int32 24B 14 42 94 140 200 250\n",
       "Data variables:\n",
       "    *empty*\n",
       "Attributes:\n",
       "    long_name:    Data measured by the sensors mounted on the Fraunhofer IWES...\n",
       "    description:  BSH N-9 Fraunhofer IWES WLBZ_6 data from the period 2022-03...\n",
       "    disclaimer:   The use of the data is in the sole responsibility of the user.)"
      ]
     },
     "execution_count": 2,
     "metadata": {},
     "output_type": "execute_result"
    }
   ],
   "source": [
    "import xarray as xr\n",
    "\n",
    "# Read NETCDF File\n",
    "ncBuoy6 = xr.open_dataset('./measurements/2023-11-06_Buoy6_BSH_N-9.nc')\n",
    "\n",
    "# Print all variables in file\n",
    "ncBuoy6.keys()\n"
   ]
  },
  {
   "cell_type": "code",
   "execution_count": 3,
   "metadata": {},
   "outputs": [
    {
     "data": {
      "text/plain": [
       "array(['2022-03-03T00:00:00.000000000', '2022-03-03T00:10:00.000000512',\n",
       "       '2022-03-03T00:19:59.999999488', '2022-03-03T00:30:00.000000000',\n",
       "       '2022-03-03T00:40:00.000000512', '2022-03-03T00:49:59.999999488',\n",
       "       '2022-03-03T01:00:00.000000000', '2022-03-03T01:10:00.000000512',\n",
       "       '2022-03-03T01:19:59.999999488', '2022-03-03T01:30:00.000000000',\n",
       "       '2022-03-03T01:40:00.000000512', '2022-03-03T01:49:59.999999488',\n",
       "       '2022-03-03T02:00:00.000000000', '2022-03-03T02:10:00.000000512',\n",
       "       '2022-03-03T02:19:59.999999488', '2022-03-03T02:30:00.000000000',\n",
       "       '2022-03-03T02:40:00.000000512', '2022-03-03T02:49:59.999999488',\n",
       "       '2022-03-03T03:00:00.000000000', '2022-03-03T03:10:00.000000512',\n",
       "       '2022-03-03T03:19:59.999999488', '2022-03-03T03:30:00.000000000',\n",
       "       '2022-03-03T03:40:00.000000512', '2022-03-03T03:49:59.999999488',\n",
       "       '2022-03-03T04:00:00.000000000', '2022-03-03T04:10:00.000000512',\n",
       "       '2022-03-03T04:19:59.999999488', '2022-03-03T04:30:00.000000000',\n",
       "       '2022-03-03T04:40:00.000000512', '2022-03-03T04:49:59.999999488',\n",
       "       '2022-03-03T05:00:00.000000000', '2022-03-03T05:10:00.000000512',\n",
       "       '2022-03-03T05:19:59.999999488', '2022-03-03T05:30:00.000000000',\n",
       "       '2022-03-03T05:40:00.000000512', '2022-03-03T05:49:59.999999488',\n",
       "       '2022-03-03T06:00:00.000000000', '2022-03-03T06:10:00.000000512',\n",
       "       '2022-03-03T06:19:59.999999488', '2022-03-03T06:30:00.000000000',\n",
       "       '2022-03-03T06:40:00.000000512', '2022-03-03T06:49:59.999999488',\n",
       "       '2022-03-03T07:00:00.000000000', '2022-03-03T07:10:00.000000512',\n",
       "       '2022-03-03T07:19:59.999999488', '2022-03-03T07:30:00.000000000',\n",
       "       '2022-03-03T07:40:00.000000512', '2022-03-03T07:49:59.999999488',\n",
       "       '2022-03-03T08:00:00.000000000', '2022-03-03T08:10:00.000000512'],\n",
       "      dtype='datetime64[ns]')"
      ]
     },
     "execution_count": 3,
     "metadata": {},
     "output_type": "execute_result"
    }
   ],
   "source": [
    "ncBuoy6.time[:50].values"
   ]
  },
  {
   "cell_type": "code",
   "execution_count": null,
   "metadata": {},
   "outputs": [
    {
     "data": {
      "text/plain": [
       "array([ 14,  42,  94, 140, 200, 250])"
      ]
     },
     "metadata": {},
     "output_type": "display_data"
    }
   ],
   "source": [
    "ncBuoy6.height.values"
   ]
  },
  {
   "cell_type": "code",
   "execution_count": null,
   "metadata": {},
   "outputs": [],
   "source": [
    "import xarray as xr\n",
    "\n",
    "# Read NETCDF File\n",
    "ncBuoy2 = xr.open_dataset('./measurements/2023-11-09_Buoy2_BSH_N-9.nc')\n",
    "\n",
    "# Print all variables in file\n",
    "ncBuoy2.keys()"
   ]
  },
  {
   "cell_type": "code",
   "execution_count": null,
   "metadata": {},
   "outputs": [],
   "source": [
    "ncBuoy2.time[:50].values"
   ]
  },
  {
   "cell_type": "code",
   "execution_count": null,
   "metadata": {},
   "outputs": [],
   "source": [
    "from netCDF4 import Dataset\n",
    "\n",
    "# Open the NetCDF file\n",
    "nested_nc_file = './measurements/2023-11-06_Buoy6_BSH_N-9.nc'\n",
    "nc = Dataset(nested_nc_file, 'r')\n",
    "\n",
    "# Print the groups and variables in the root group\n",
    "print(\"Groups in root group:\", nc.groups.keys())\n",
    "print(\"Variables in root group:\", nc.variables.keys())\n",
    "\n",
    "# Access a specific group within the root group (if it exists)\n",
    "subgroup_name = 'subgroup1'\n",
    "if subgroup_name in nc.groups:\n",
    "    subgroup = nc.groups[subgroup_name]\n",
    "    print(\"Variables in subgroup:\", subgroup.variables.keys())\n",
    "else:\n",
    "    print(f\"No group named '{subgroup_name}' found.\")\n",
    "\n",
    "# Close the NetCDF file\n",
    "nc.close()\n"
   ]
  },
  {
   "cell_type": "code",
   "execution_count": null,
   "metadata": {},
   "outputs": [
    {
     "name": "stdout",
     "output_type": "stream",
     "text": [
      "Variables:\n",
      "longitude\n",
      "latitude\n",
      "time\n",
      "height\n",
      "Variable: longitude\n",
      "Attributes: ['description', 'units']\n",
      "\n",
      "Variable: latitude\n",
      "Attributes: ['description', 'units']\n",
      "\n",
      "Variable: time\n",
      "Attributes: ['units', 'description']\n",
      "\n",
      "Variable: height\n",
      "Attributes: ['units', 'description']\n",
      "\n"
     ]
    },
    {
     "data": {
      "text/plain": [
       "(6,)"
      ]
     },
     "metadata": {},
     "output_type": "display_data"
    }
   ],
   "source": [
    "import netCDF4 as nc\n",
    "\n",
    "# Open the NetCDF file\n",
    "ncBuoy2 = nc.Dataset(\"./measurements/2023-11-09_Buoy2_BSH_N-9.nc\")\n",
    "\n",
    "# Print the variables and dimensions in the file\n",
    "print(\"Variables:\")\n",
    "for var in ncBuoy2.variables:\n",
    "    print(var)\n",
    "\n",
    "# Print attributes of all variables\n",
    "for var in ncBuoy2.variables:\n",
    "    print(\"Variable:\", var)\n",
    "    print(\"Attributes:\", ncBuoy2.variables[var].ncattrs())\n",
    "    print()"
   ]
  }
 ],
 "metadata": {
  "kernelspec": {
   "display_name": "geoplot_env",
   "language": "python",
   "name": "python3"
  },
  "language_info": {
   "codemirror_mode": {
    "name": "ipython",
    "version": 3
   },
   "file_extension": ".py",
   "mimetype": "text/x-python",
   "name": "python",
   "nbconvert_exporter": "python",
   "pygments_lexer": "ipython3",
   "version": "3.11.9"
  }
 },
 "nbformat": 4,
 "nbformat_minor": 2
}
