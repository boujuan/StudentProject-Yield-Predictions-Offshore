{
 "cells": [
  {
   "cell_type": "markdown",
   "metadata": {},
   "source": [
    "## Short Term Wind Climate \n",
    "\n",
    "In this file the short term wind climate is processed with the data organized in the 01 and 02 files. \n",
    "For this reason the following steps are done in this file: \n",
    "\n",
    "16. Inport Libaries, load datapaths , Load datapats int pd. DataFrame \n",
    "17. Calculate the monthly and annual wind statistics for the windspeed and the winddirection for both met masts \n",
    "18. Plot the monthly mean in windspeed and winddrirection for both buoys \n",
    "19. Plot windroses for both buays \n",
    "20. group the data into hours of the day and calcukate the mean windspeed and winddirection of every day \n",
    "21. plot the diurnal windspeed and winddirection for both buoys \n",
    "22. perform some checks about the grouping \n",
    "23. Plot a Weilbul distribuntion of the windspeed \n",
    "24. Calculate the annual Power Production of one Turbine, one field and the entrie farm \n",
    "25. Plot a power curve \n",
    "\n"
   ]
  },
  {
   "cell_type": "markdown",
   "metadata": {},
   "source": [
    "#### 16. Import libraries, load data paths, load data paths into a pandas DataFrame"
   ]
  },
  {
   "cell_type": "code",
   "execution_count": null,
   "metadata": {},
   "outputs": [],
   "source": [
    "import matplotlib.pyplot as plt\n",
    "import pandas as pd\n",
    "import xarray as xr\n",
    "import pandas as pd\n",
    "import netCDF4 as nc\n",
    "from netCDF4 import Dataset\n",
    "import numpy as np\n",
    "from scipy.stats import linregress\n",
    "from matplotlib.projections.polar import PolarAxes\n",
    "from windrose import WindroseAxes\n",
    "from scipy.stats import weibull_min\n",
    "from scipy import interpolate\n",
    "import scipy.integrate as integrate\n"
   ]
  },
  {
   "cell_type": "code",
   "execution_count": null,
   "metadata": {},
   "outputs": [],
   "source": [
    "# Data Paths\n",
    "interpolated_csv_path = 'interpolated_ws_and_wd_for_150_m.csv'\n",
    "turbine_power_curve_path = 'data/turbine-info/power_curves/IEA-15MW-D240-H150.csv'"
   ]
  },
  {
   "cell_type": "code",
   "execution_count": null,
   "metadata": {},
   "outputs": [],
   "source": [
    "#Load the data into pandas dataframes \n",
    "df_interpol_height = pd.read_csv(interpolated_csv_path)\n",
    "df_interpol_height.set_index('time', inplace=True)\n",
    "\n",
    "df_interpol_height"
   ]
  },
  {
   "cell_type": "markdown",
   "metadata": {},
   "source": [
    "#### 17. Calculate the monthly and annual wind statistics for the wind speed and the wind direction for both buoys"
   ]
  },
  {
   "cell_type": "code",
   "execution_count": null,
   "metadata": {},
   "outputs": [],
   "source": [
    "def divide_into_bins_and_calculate_statistics(data_ws, data_wd, num_bins):\n",
    "    # Calculate the size of each bin\n",
    "    bin_size = len(data_ws) // num_bins\n",
    "    \n",
    "    # Initialize lists to store the means and standard deviations of each bin\n",
    "    bin_means_ws = []\n",
    "    bin_stdv_ws = []\n",
    "    bin_means_wd = []\n",
    "    bin_stdv_wd = []\n",
    "\n",
    "    # Iterate through each bin\n",
    "    for i in range(num_bins):\n",
    "        # Determine the start and end indices of the bin\n",
    "        start_idx = i * bin_size\n",
    "        end_idx = start_idx + bin_size\n",
    "        \n",
    "        # Extract the bin data for wind speed and wind direction\n",
    "        bin_data_ws = data_ws[start_idx:end_idx]\n",
    "        bin_data_wd = data_wd[start_idx:end_idx]\n",
    "        \n",
    "        # Calculate the mean and standard deviation of the bin for wind speed\n",
    "        bin_mean_ws = np.mean(bin_data_ws)\n",
    "        bin_std_ws = np.std(bin_data_ws)\n",
    "        \n",
    "        # Calculate the mean and standard deviation of the bin for wind direction\n",
    "        bin_mean_wd = np.mean(bin_data_wd)\n",
    "        bin_std_wd = np.std(bin_data_wd)\n",
    "        \n",
    "        # Append the mean and standard deviation to their respective lists\n",
    "        bin_means_ws.append(bin_mean_ws)\n",
    "        bin_stdv_ws.append(bin_std_ws)\n",
    "        bin_means_wd.append(bin_mean_wd)\n",
    "        bin_stdv_wd.append(bin_std_wd)\n",
    "\n",
    "    # Create a DataFrame from the lists\n",
    "    df = pd.DataFrame({\n",
    "        'Monthly Means WS': bin_means_ws,\n",
    "        'Monthly Stdv WS': bin_stdv_ws,\n",
    "        'Monthly Means WD': bin_means_wd,\n",
    "        'Monthly Stdv WD': bin_stdv_wd\n",
    "    })\n",
    "\n",
    "    return df\n",
    "\n",
    "# Calculate monthly statistics\n",
    "monthly_stats_ws6 = divide_into_bins_and_calculate_statistics(df_interpol_height['ws6_150m'], df_interpol_height['wd6_150m'], 12)\n",
    "monthly_stats_ws2 = divide_into_bins_and_calculate_statistics(df_interpol_height['ws2_150m'], df_interpol_height['wd2_150m'], 12)\n",
    "\n",
    "# Print the resulting DataFrames\n",
    "print(\"Monthly Statistics for Buoy 6:\")\n",
    "print(monthly_stats_ws6)\n",
    "\n",
    "print(\"Monthly Statistics for Buoy 2:\")\n",
    "print(monthly_stats_ws2)\n"
   ]
  },
  {
   "cell_type": "code",
   "execution_count": null,
   "metadata": {},
   "outputs": [],
   "source": [
    "# Calculate yearly statistics for wind speed\n",
    "yearly_mean_ws6 = np.mean(df_interpol_height['ws6_150m'])\n",
    "yearly_std_ws6 = np.std(df_interpol_height['ws6_150m'])\n",
    "yearly_mean_ws2 = np.mean(df_interpol_height['ws2_150m'])\n",
    "yearly_std_ws2 = np.std(df_interpol_height['ws2_150m'])\n",
    "\n",
    "print(f\"Yearly Mean of Wind Speed Buoy 6: {yearly_mean_ws6:.2f}, Standard Deviation Buoy 6: {yearly_std_ws6:.2f}\")\n",
    "print(f\"Yearly Mean of Wind Speed Buoy 2: {yearly_mean_ws2:.2f}, Standard Deviation Buoy 2: {yearly_std_ws2:.2f}\")\n",
    "\n",
    "# Calculate yearly statistics for wind direction\n",
    "yearly_mean_wd6 = np.mean(df_interpol_height['wd6_150m'])\n",
    "yearly_std_wd6 = np.std(df_interpol_height['wd6_150m'])\n",
    "yearly_mean_wd2 = np.mean(df_interpol_height['wd6_150m'])\n",
    "yearly_std_wd2 = np.std(df_interpol_height['wd6_150m'])\n",
    "\n",
    "print(f\"Yearly Mean of Wind Direction Buoy 6: {yearly_mean_wd6:.2f}, Standard Deviation Buoy 6: {yearly_std_wd6:.2f}\")\n",
    "print(f\"Yearly Mean of Wind Direction Buoy 2: {yearly_mean_wd2:.2f}, Standard Deviation Buoy 2: {yearly_std_wd2:.2f}\")\n"
   ]
  },
  {
   "cell_type": "markdown",
   "metadata": {},
   "source": [
    "#### 18. Plot the monthly mean wind speed and wind direction for both buoys"
   ]
  },
  {
   "cell_type": "code",
   "execution_count": null,
   "metadata": {},
   "outputs": [],
   "source": [
    "months = ['Jan', 'Feb', 'Mar', 'Apr', 'May', 'Jun', 'Jul', 'Aug', 'Sep', 'Oct', 'Nov', 'Dec']\n",
    "# Extract the monthly means from the dataframe\n",
    "monthly_means_ws6 = monthly_stats_ws6['Monthly Means WS']\n",
    "monthly_means_wd6 = monthly_stats_ws6['Monthly Means WD']\n",
    "\n",
    "# Plot the monthly mean wind speeds and wind directions\n",
    "fig, ax1 = plt.subplots(figsize=(10, 6))\n",
    "\n",
    "bar_width = 0.4  # Set bar width to half of the current width\n",
    "\n",
    "# Bar plot for wind speeds\n",
    "ax1.bar(months, monthly_means_ws6, color='blue', edgecolor='black', label='Mean Wind Speed', width=bar_width)\n",
    "ax1.set_xlabel('Month')\n",
    "ax1.set_ylabel('Mean Wind Speed (m/s)', color='blue')\n",
    "ax1.set_ylim(0, max(monthly_means_ws6) + 2)  # Adjust y-axis limit for better visualization\n",
    "ax1.tick_params(axis='y', labelcolor='blue')\n",
    "ax1.grid(True, axis='y', linestyle='--', alpha=0.7)\n",
    "\n",
    "# Create a secondary y-axis\n",
    "ax2 = ax1.twinx()\n",
    "ax2.plot(months, monthly_means_wd6, color='red', marker='o', linestyle='-', label='Mean Wind Direction')\n",
    "ax2.set_ylabel('Mean Wind Direction (°)', color='red')\n",
    "ax2.tick_params(axis='y', labelcolor='red')\n",
    "ax2.set_ylim(0, 360)  # Assuming wind direction is in degrees\n",
    "\n",
    "fig.tight_layout()\n",
    "plt.title('Monthly Mean Wind Speeds and Directions for Buoy 6')\n",
    "plt.show()\n"
   ]
  },
  {
   "cell_type": "code",
   "execution_count": null,
   "metadata": {},
   "outputs": [],
   "source": [
    "# Extract the monthly means from the dataframe\n",
    "monthly_means_ws2 = monthly_stats_ws2['Monthly Means WS']\n",
    "monthly_means_wd2 = monthly_stats_ws2['Monthly Means WD']\n",
    "\n",
    "# Plot the monthly mean wind speeds and wind directions\n",
    "fig, ax1 = plt.subplots(figsize=(10, 6))\n",
    "\n",
    "bar_width = 0.4  # Set bar width to half of the current width\n",
    "\n",
    "# Bar plot for wind speeds\n",
    "ax1.bar(months, monthly_means_ws2, color='blue', edgecolor='black', label='Mean Wind Speed', width=bar_width)\n",
    "ax1.set_xlabel('Month')\n",
    "ax1.set_ylabel('Mean Wind Speed (m/s)', color='blue')\n",
    "ax1.set_ylim(0, max(monthly_means_ws2) + 2)  # Adjust y-axis limit for better visualization\n",
    "ax1.tick_params(axis='y', labelcolor='blue')\n",
    "ax1.grid(True, axis='y', linestyle='--', alpha=0.7)\n",
    "\n",
    "# Create a secondary y-axis\n",
    "ax2 = ax1.twinx()\n",
    "ax2.plot(months, monthly_means_wd2, color='red', marker='o', linestyle='-', label='Mean Wind Direction')\n",
    "ax2.set_ylabel('Mean Wind Direction (°)', color='red')\n",
    "ax2.tick_params(axis='y', labelcolor='red')\n",
    "ax2.set_ylim(0, 360)  # Assuming wind direction is in degrees\n",
    "\n",
    "fig.tight_layout()\n",
    "plt.title('Monthly Mean Wind Speeds and Directions for Buoy 2')\n",
    "plt.show()\n"
   ]
  },
  {
   "cell_type": "markdown",
   "metadata": {},
   "source": [
    "#### 19. Plot wind roses for both buoys"
   ]
  },
  {
   "cell_type": "code",
   "execution_count": null,
   "metadata": {},
   "outputs": [],
   "source": [
    "\n",
    "def plot_wind_rose(wd, ws, title):\n",
    "    ax = WindroseAxes.from_ax()\n",
    "    ax.bar(wd, ws, normed=True, opening=0.8, edgecolor='white')\n",
    "    ax.set_legend()\n",
    "    plt.title(title)\n",
    "    plt.show()\n",
    "\n",
    "plot_wind_rose(df_interpol_height['wd6_150m'], df_interpol_height['ws6_150m'], 'Windrose Plot of Buoy 6 from 03-03-2022 to 03-03-2023' )\n",
    "plot_wind_rose(df_interpol_height['wd2_150m'], df_interpol_height['ws2_150m'], 'Windrose Plot of Buoy 2 from 03-03-2022 to 03-03-2023' )"
   ]
  },
  {
   "cell_type": "markdown",
   "metadata": {},
   "source": [
    "#### 20. Group the data into hours of the day and calculate the mean wind speed and wind direction for each hour of the day\n",
    "#### 21. Plot the diurnal wind speed and wind direction for both buoys"
   ]
  },
  {
   "cell_type": "code",
   "execution_count": null,
   "metadata": {},
   "outputs": [],
   "source": [
    "# Group by hour and calculate the mean wind speed and direction for each hour\n",
    "df_interpol_height.index = pd.to_datetime(df_interpol_height.index)\n",
    "df_interpol_height['hour'] = df_interpol_height.index.hour\n",
    "diurnal_profile = df_interpol_height.groupby('hour').mean()\n",
    "\n",
    "# Plot for Buoy 6\n",
    "fig, ax1 = plt.subplots(figsize=(12, 6))\n",
    "\n",
    "# Plot wind speed histogram on the left y-axis\n",
    "ax1.bar(diurnal_profile.index, diurnal_profile['ws6_150m'], width=0.4, label='Wind Speed 150m (Buoy 6)', color='b', align='center')\n",
    "ax1.set_xlabel('Hour of the Day')\n",
    "ax1.set_ylabel('Wind Speed (m/s)', color='b')\n",
    "ax1.tick_params(axis='y', labelcolor='b')\n",
    "\n",
    "# Create a second y-axis to plot wind direction\n",
    "ax2 = ax1.twinx()\n",
    "ax2.plot(diurnal_profile.index, diurnal_profile['wd6_150m'], 'r--o', label='Wind Direction 150m (Buoy 6)', markersize=5)\n",
    "ax2.set_ylabel('Wind Direction (degrees)', color='r')\n",
    "ax2.tick_params(axis='y', labelcolor='r')\n",
    "\n",
    "# Add legends\n",
    "fig.legend(loc=\"upper right\", bbox_to_anchor=(1,1), bbox_transform=ax1.transAxes)\n",
    "\n",
    "# Title and grid\n",
    "plt.title('Diurnal Profile of Wind Speed and Wind Direction for Buoy 6')\n",
    "plt.grid(True)\n",
    "\n",
    "plt.show()\n",
    "\n",
    "# Plot for Buoy 2\n",
    "fig, ax1 = plt.subplots(figsize=(12, 6))\n",
    "\n",
    "# Plot wind speed histogram on the left y-axis\n",
    "ax1.bar(diurnal_profile.index, diurnal_profile['ws2_150m'], width=0.4, label='Wind Speed 150m (Buoy 2)', color='b', align='center')\n",
    "ax1.set_xlabel('Hour of the Day')\n",
    "ax1.set_ylabel('Wind Speed (m/s)', color='b')\n",
    "ax1.tick_params(axis='y', labelcolor='b')\n",
    "\n",
    "# Create a second y-axis to plot wind direction\n",
    "ax2 = ax1.twinx()\n",
    "ax2.plot(diurnal_profile.index, diurnal_profile['wd2_150m'], 'r--o', label='Wind Direction 150m (Buoy 2)', markersize=5)\n",
    "ax2.set_ylabel('Wind Direction (degrees)', color='r')\n",
    "ax2.tick_params(axis='y', labelcolor='r')\n",
    "\n",
    "# Add legends\n",
    "fig.legend(loc=\"upper right\", bbox_to_anchor=(1,1), bbox_transform=ax1.transAxes)\n",
    "\n",
    "# Title and grid\n",
    "plt.title('Diurnal Profile of Wind Speed and Wind Direction for Buoy 2')\n",
    "plt.grid(True)\n",
    "\n",
    "plt.show()\n"
   ]
  },
  {
   "cell_type": "markdown",
   "metadata": {},
   "source": [
    "#### 22. Perform some checks on the grouping"
   ]
  },
  {
   "cell_type": "code",
   "execution_count": null,
   "metadata": {},
   "outputs": [],
   "source": [
    "#check if groupby does what it should manually \n",
    "# df_hourly = df_interpol_height.resample('h').mean()\n",
    "# df_filtered1hour = df_hourly[df_hourly.index.strftime('%H:%M:%S') == '00:00:00'].mean()\n",
    "# print(df_filtered1hour)\n",
    "# print(diurnal_profile)\n",
    "\n",
    "#print the 'hour' group to see that it marks one hour and then the next and so on \n",
    "# pd.set_option('display.max_rows', None)\n",
    "# print(df_interpol_height['hour'])\n"
   ]
  },
  {
   "cell_type": "markdown",
   "metadata": {},
   "source": [
    "#### 23. Plot a Weibull distribution of the wind speed\n",
    "\n",
    "- weibull_min.fit(ws_data, floc=0): This part of the code fits a Weibull distribution to the wind speed data (ws_data). The fit method of the weibull_min distribution estimates the shape, location, and scale parameters of the Weibull distribution that best fit the provided data.\n",
    "- shape, _, scale: The result of the fit method is a tuple containing the estimated parameters. In this case, shape represents the shape parameter of the Weibull distribution, and scale represents the scale parameter. The underscore _ is used to discard the estimated location parameter (floc), as it is fixed at 0 in this case.\n",
    "- The weibull_pdf function defines the probability density function (PDF) for a Weibull distribution. function that describes the likelihood of a continuous random variable falling within a particular range of values."
   ]
  },
  {
   "cell_type": "code",
   "execution_count": null,
   "metadata": {},
   "outputs": [],
   "source": [
    "# Function to fit Weibull distribution and plot\n",
    "def plot_weibull_fit(ws, title):\n",
    "    # Fit Weibull distribution\n",
    "    params = weibull_min.fit(ws, floc=0)# floc=0 => location parameter defaults to 0\n",
    "    shape, loc, scale = params\n",
    "    x = np.linspace(0, ws.max(), 100)\n",
    "    weibull_pdf = weibull_min.pdf(x, shape, loc, scale)\n",
    "    \n",
    "    # Plot histogram and Weibull fit\n",
    "    plt.figure()\n",
    "    plt.hist(ws, bins=30, density=True, alpha=0.6, color='g', edgecolor='black')\n",
    "    plt.plot(x, weibull_pdf, 'r-', label=f'Weibull fit: shape={shape:.2f}, scale={scale:.2f}')\n",
    "    plt.title(title)\n",
    "    plt.xlabel('Wind Speed (m/s)')\n",
    "    plt.ylabel('Density')\n",
    "    plt.legend()\n",
    "    plt.show()\n"
   ]
  },
  {
   "cell_type": "markdown",
   "metadata": {},
   "source": [
    "#### 24. Calculate the annual power production of one turbine, one field, and the entire farm\n",
    "\n",
    "Remark on wind turbine data: The \"ct\" in the turbine data refers to the thrust coefficient. It is a dimensionless number that describes the thrust force exerted by the wind on the turbine blades relative to the dynamic pressure of the wind."
   ]
  },
  {
   "cell_type": "code",
   "execution_count": null,
   "metadata": {},
   "outputs": [],
   "source": [
    "# Constants\n",
    "T = 8760  # total hours/year [h]\n",
    "rho = 1.225  # air density [kg/m^3]\n",
    "D = 240  # rotor diameter [m]\n",
    "A = np.pi * (D / 2)**2  # swept area [m^2]\n",
    "\n",
    "# Load data\n",
    "# Replace 'df_interpol_height' with the actual variable name for your measured wind speed data\n",
    "# Assuming 'ws6_150m' is a column in 'df_interpol_height' DataFrame\n",
    "windspeed_data = df_interpol_height['ws6_150m']\n",
    "power_curve_data = pd.read_csv(turbine_power_curve_path)\n",
    "\n",
    "def cut_in_windspeed(power_curve_data):\n",
    "    return power_curve_data.loc[power_curve_data['P'] > 0, 'ws'].min()\n",
    "\n",
    "def cut_out_windspeed(power_curve_data):\n",
    "    return power_curve_data.loc[power_curve_data['P'] > 0, 'ws'].max()\n",
    "\n",
    "def power_curve_interpolated(power_curve_data):\n",
    "    return interpolate.interp1d(power_curve_data['ws'], power_curve_data['P'], fill_value=\"extrapolate\")\n",
    "\n",
    "def calculate_weibull_fit(windspeed_data):\n",
    "    shape, _, scale = weibull_min.fit(windspeed_data, floc=0)  # floc=0 => location parameter defaults to 0\n",
    "    return shape, scale\n",
    "\n",
    "def weibull_pdf(ws, shape, scale):\n",
    "    return weibull_min.pdf(ws, shape, loc=0, scale=scale)\n",
    "\n",
    "def integrand(U, shape, scale, power_curve_func):\n",
    "    P = power_curve_func(U)  # Use interpolated power curve values\n",
    "    return P * weibull_pdf(U, shape, scale)\n",
    "\n",
    "def calculate_APP(shape, scale, power_curve_func, cut_in_ws, cut_out_ws):\n",
    "    APP, error = integrate.quad(integrand, cut_in_ws, cut_out_ws, args=(shape, scale, power_curve_func), limit=100, epsabs=1e-05, epsrel=1e-05)\n",
    "    return APP * T, error * T  # Multiply by total hours per year to get AEP\n",
    "\n",
    "# Process data\n",
    "cut_in_ws = cut_in_windspeed(power_curve_data)\n",
    "cut_out_ws = cut_out_windspeed(power_curve_data)\n",
    "power_curve_func = power_curve_interpolated(power_curve_data)\n",
    "shape, scale = calculate_weibull_fit(windspeed_data)\n",
    "\n",
    "# Calculate APP (Annual Power Production)\n",
    "APP, error = calculate_APP(shape, scale, power_curve_func, cut_in_ws, cut_out_ws)\n",
    "print(f\"APP of one Turbine: {APP / 1e6:.4f} GWh\")  # Convert to MWh for readability\n",
    "print(f\"Estimated error: {error / 1e6:.4f} GWh\")\n",
    "\n",
    "turbines_area_of_interest_path = 'data/turbine-info/coordinates/area_of_interest/'\n",
    "base_path = turbines_area_of_interest_path\n",
    "file_N9_1 = f'{base_path}\\layout-N-9.1.geom.csv'\n",
    "file_N9_2 = f'{base_path}\\layout-N-9.2.geom.csv'\n",
    "file_N9_3 = f'{base_path}\\layout-N-9.3.geom.csv'\n",
    "\n",
    "# Load the data\n",
    "data_N9_1 = pd.read_csv(file_N9_1)\n",
    "data_N9_2 = pd.read_csv(file_N9_2)\n",
    "data_N9_3 = pd.read_csv(file_N9_3)\n",
    "\n",
    "print(f\"Annual Energy Production of N-9.1 (133 Turbines): {((APP/1e9) * len(data_N9_1)):.4f} TWh\")\n",
    "print(f\"Annual Energy Production of N-9.2 (133 Turbines): {((APP/1e9) * len(data_N9_2)):.4f} TWh\")\n",
    "print(f\"Annual Energy Production of N-9.3 (100 Turbines): {((APP/1e9) * len(data_N9_3)):.4f} TWh\")\n",
    "print(f\"Total Energy Production of all three fields (366 Turbines): {((APP/1e9) *366):.4f} TWh \")\n",
    "print(f\"This is {((((APP/1e9) *366)/507)*100):.2f} % of the electricity consumed in one yr in Germany.\")"
   ]
  },
  {
   "cell_type": "markdown",
   "metadata": {},
   "source": [
    "#### 25. Plot a power curve"
   ]
  },
  {
   "cell_type": "code",
   "execution_count": null,
   "metadata": {},
   "outputs": [],
   "source": [
    "# Plotting the power curve\n",
    "plt.figure(figsize=(10, 6))\n",
    "plt.plot(power_curve_data['ws'], power_curve_data['P'], marker='o', linestyle='-', color='b')\n",
    "plt.title('Power Curve')\n",
    "plt.xlabel('Wind Speed (m/s)')\n",
    "plt.ylabel('Power (kW)')\n",
    "plt.grid(True)\n",
    "plt.show()"
   ]
  }
 ],
 "metadata": {
  "kernelspec": {
   "display_name": "geoplot_env",
   "language": "python",
   "name": "python3"
  },
  "language_info": {
   "codemirror_mode": {
    "name": "ipython",
    "version": 3
   },
   "file_extension": ".py",
   "mimetype": "text/x-python",
   "name": "python",
   "nbconvert_exporter": "python",
   "pygments_lexer": "ipython3",
   "version": "3.11.9"
  }
 },
 "nbformat": 4,
 "nbformat_minor": 2
}
