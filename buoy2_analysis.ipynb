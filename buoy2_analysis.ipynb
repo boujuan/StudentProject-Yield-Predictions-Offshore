{
 "cells": [
  {
   "cell_type": "code",
   "execution_count": null,
   "metadata": {},
   "outputs": [],
   "source": [
    "import os\n",
    "import numpy as np\n",
    "import pandas as pd\n",
    "import netCDF4 as nc\n",
    "import matplotlib.pyplot as plt\n",
    "import cartopy.crs as ccrs"
   ]
  },
  {
   "cell_type": "code",
   "execution_count": null,
   "metadata": {},
   "outputs": [],
   "source": [
    "def read_netcdf(path):\n",
    "    data = nc.Dataset(path, 'r')\n",
    "    return data"
   ]
  },
  {
   "cell_type": "code",
   "execution_count": null,
   "metadata": {},
   "outputs": [],
   "source": [
    "# Recursive function for printing the netCDF file structure\n",
    "def print_netcdf_structure(data, indent=0):\n",
    "    indent_str = ' ' * indent\n",
    "    \n",
    "    # Print group name if it's a subgroup (indent > 0)\n",
    "    if indent > 0:\n",
    "        print(f\"{indent_str}Group: {data.path}\")\n",
    "    \n",
    "    # Print variables in the current group\n",
    "    for var_name in data.variables:\n",
    "        var = data.variables[var_name]\n",
    "        print(f\"{indent_str}Variable: {var_name}, shape={var.shape}, dtype={var.dtype}\")\n",
    "    \n",
    "    # Recursively print subgroups\n",
    "    for group_name in data.groups:\n",
    "        print_netcdf_structure(data.groups[group_name], indent + 4)"
   ]
  },
  {
   "cell_type": "code",
   "execution_count": null,
   "metadata": {},
   "outputs": [],
   "source": [
    "buoy2_data_path = 'data/measurements/2023-11-09_Buoy2_BSH_N-9.nc'\n",
    "buoy2_data = read_netcdf(buoy2_data_path)"
   ]
  },
  {
   "cell_type": "code",
   "execution_count": null,
   "metadata": {},
   "outputs": [],
   "source": [
    "# Print the structure of the netCDF file\n",
    "print(\"NetCDF File Structure:\")\n",
    "print_netcdf_structure(buoy2_data)"
   ]
  },
  {
   "cell_type": "markdown",
   "metadata": {},
   "source": [
    "## NetCDF File Structure\n",
    "\n",
    "- **Variable**: `longitude`, shape=(1,), dtype=float32 ✅\n",
    "- **Variable**: `latitude`, shape=(1,), dtype=float32 ✅\n",
    "- **Variable**: `time`, shape=(67680,), dtype=float64 ✅\n",
    "- **Variable**: `height`, shape=(6,), dtype=int32 ✅\n",
    "\n",
    "### Group: /ZX_LIDAR_WLBZ_2 \n",
    "- **Variable**: `wind_speed`, shape=(67680, 1, 1, 6), dtype=float64 ✅\n",
    "- **Variable**: `wind_from_direction`, shape=(67680, 1, 1, 6), dtype=float64 ✅\n",
    "- **Variable**: `wind_from_direction_availability`, shape=(67680, 1, 1, 6), dtype=float64\n",
    "- **Variable**: `wind_speed_availability`, shape=(67680, 1, 1, 6), dtype=float64\n",
    "- **Variable**: `wind_speed_min`, shape=(67680, 1, 1, 6), dtype=float64 ✅\n",
    "- **Variable**: `wind_speed_max`, shape=(67680, 1, 1, 6), dtype=float64 ✅\n",
    "- **Variable**: `wind_speed_stddev`, shape=(67680, 1, 1, 6), dtype=float64 ✅\n",
    "- **Variable**: `wind_count`, shape=(67680, 1, 1, 6), dtype=float64\n",
    "- **Variable**: `turbulence_intensity`, shape=(67680, 1, 1, 6), dtype=float64 ✅\n",
    "- **Variable**: `algorithm_bitmask`, shape=(67680, 1, 1, 6), dtype=float64\n",
    "\n",
    "### Group: /METEO_WLBZ_2\n",
    "#### Subgroup: /METEO_WLBZ_2/Vaisala Weather Station\n",
    "- **Variable**: `rain_accumulation`, shape=(67680, 1, 1), dtype=float64\n",
    "- **Variable**: `rain_accumulation_calculated`, shape=(67680, 1, 1), dtype=float64\n",
    "- **Variable**: `rain_duration`, shape=(67680, 1, 1), dtype=float64\n",
    "- **Variable**: `rain_intensity`, shape=(67680, 1, 1), dtype=float64\n",
    "- **Variable**: `hail_accumulation`, shape=(67680, 1, 1), dtype=float64 ❌\n",
    "- **Variable**: `hail_duration`, shape=(67680, 1, 1), dtype=float64 ❌\n",
    "- **Variable**: `hail_intensity`, shape=(67680, 1, 1), dtype=float64 ❌\n",
    "- **Variable**: `precipitation_count`, shape=(67680, 1, 1), dtype=float64\n",
    "- **Variable**: `air_temperature`, shape=(67680, 1, 1), dtype=float64 ✅\n",
    "- **Variable**: `relative_humidity`, shape=(67680, 1, 1), dtype=float64 ✅\n",
    "- **Variable**: `air_pressure`, shape=(67680, 1, 1), dtype=float64 ✅\n",
    "- **Variable**: `air_density`, shape=(67680, 1, 1), dtype=float64 ✅\n",
    "- **Variable**: `air_density_moist`, shape=(67680, 1, 1), dtype=float64\n",
    "- **Variable**: `PTH_count`, shape=(67680, 1, 1), dtype=float64\n",
    "- **Variable**: `wind_speed_average`, shape=(67680, 1, 1), dtype=float64 ✅\n",
    "- **Variable**: `wind_speed_min`, shape=(67680, 1, 1), dtype=float64 ✅\n",
    "- **Variable**: `wind_speed_max`, shape=(67680, 1, 1), dtype=float64 ✅\n",
    "- **Variable**: `wind_count`, shape=(67680, 1, 1), dtype=float64\n",
    "\n",
    "#### Subgroup: /METEO_WLBZ_2/Airmar Weather Station\n",
    "- **Variable**: `air_pressure`, shape=(67680, 1, 1), dtype=float64 ✅\n",
    "- **Variable**: `air_temperature`, shape=(67680, 1, 1), dtype=float64 ✅\n",
    "- **Variable**: `air_density`, shape=(67680, 1, 1), dtype=float64 ✅\n",
    "- **Variable**: `wind_speed_min`, shape=(67680, 1, 1), dtype=float64 ✅\n",
    "- **Variable**: `wind_speed_max`, shape=(67680, 1, 1), dtype=float64 ✅\n",
    "- **Variable**: `wind_speed_average`, shape=(67680, 1, 1), dtype=float64 ✅\n",
    "- **Variable**: `wind_from_direction`, shape=(67680, 1, 1), dtype=float64 ✅\n",
    "- **Variable**: `count`, shape=(67680, 1, 1), dtype=float64\n",
    "\n",
    "### Group: /ADD_DATA_WLBZ_2 ❌\n",
    "#### Subgroup: /ADD_DATA_WLBZ_2/CTD ❌\n",
    "- **Variable**: `sea_water_pressure`, shape=(67680, 1, 1), dtype=float64 ❌\n",
    "- **Variable**: `sea_water_temperature`, shape=(67680, 1, 1), dtype=float64 ❌\n",
    "- **Variable**: `sea_water_electrical_conductivity`, shape=(67680, 1, 1), dtype=float64 ❌\n",
    "- **Variable**: `sea_water_salinity`, shape=(67680, 1, 1), dtype=float64 ❌\n",
    "- **Variable**: `speed_of_sound_in_sea_water`, shape=(67680, 1, 1), dtype=float64 ❌\n",
    "- **Variable**: `sea_water_sigma_t`, shape=(67680, 1, 1), dtype=float64 ❌\n",
    "- **Variable**: `count`, shape=(67680, 1, 1), dtype=float64 ❌\n",
    "\n",
    "#### Subgroup: /ADD_DATA_WLBZ_2/DEFI ❌\n",
    "- **Variable**: `sea_water_temperature`, shape=(67680, 1, 1), dtype=float64 ❌\n",
    "\n",
    "#### Subgroup: /ADD_DATA_WLBZ_2/Coda Octopus ❌\n",
    "- **Variable**: `sea_surface_wave_significant_height`, shape=(67680, 1, 1), dtype=float64 ❌\n",
    "- **Variable**: `sea_surface_wave_period_at_variance_spectral_density_maximum`, shape=(67680, 1, 1), dtype=float64 ❌\n",
    "\n",
    "### Group: /ZX_LIDAR_WLBZ_6_MCP ✅\n",
    "- **Variable**: `wind_from_direction`, shape=(67680, 1, 1, 6), dtype=float64 ✅\n",
    "- **Variable**: `wind_speed`, shape=(67680, 1, 1, 6), dtype=float64 ✅\n",
    "\n",
    "### Group: /METEO_WLBZ_6_MCP ✅\n",
    "#### Subgroup: /METEO_WLBZ_6_MCP/Airmar Weather Station ✅\n",
    "- **Variable**: `air_pressure`, shape=(67680, 1, 1), dtype=float64 ✅\n",
    "- **Variable**: `air_temperature`, shape=(67680, 1, 1), dtype=float64 ✅\n",
    "\n",
    "#### Subgroup: /METEO_WLBZ_6_MCP/Vaisala Weather Station ✅\n",
    "- **Variable**: `air_pressure`, shape=(67680, 1, 1), dtype=float64 ✅\n",
    "- **Variable**: `air_temperature`, shape=(67680, 1, 1), dtype=float64 ✅\n",
    "- **Variable**: `relative_humidity`, shape=(67680, 1, 1), dtype=float64 ✅"
   ]
  }
 ],
 "metadata": {
  "kernelspec": {
   "display_name": "pyproject",
   "language": "python",
   "name": "python3"
  },
  "language_info": {
   "codemirror_mode": {
    "name": "ipython",
    "version": 3
   },
   "file_extension": ".py",
   "mimetype": "text/x-python",
   "name": "python",
   "nbconvert_exporter": "python",
   "pygments_lexer": "ipython3",
   "version": "3.12.3"
  }
 },
 "nbformat": 4,
 "nbformat_minor": 2
}
