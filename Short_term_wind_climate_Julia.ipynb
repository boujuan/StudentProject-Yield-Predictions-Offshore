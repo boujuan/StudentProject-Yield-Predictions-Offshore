{
 "cells": [
  {
   "cell_type": "markdown",
   "metadata": {},
   "source": [
    "## Short Term Wind Climate \n",
    "**5. Filter data: (report page 30 - 33)**\n",
    "- Outliers in wind speed and direction \n",
    "- Suspicious data such as freezes \n",
    "- Datagaps \n",
    "\n",
    "**4. Interpolate:**\n",
    "- Interpolate to the  one height of interest (= 150 meters for current turbine)\n",
    "\n",
    "**7. Compare the both met masts:**\n",
    "- Scatterplot: windspeed 150 m height mast one against windspeed 150m height mast 2 \n",
    "- Same with the wind direction \n",
    "- Correlate with r^2 - linear correlation for both\n",
    "\n",
    "**8. Short Term Wind Analysis**\n",
    "- Mean, stdv of monthly and annual ws \n",
    "- Wind roses \n",
    "- Select parameters for Weibull model \n",
    "- Plot Weibull model \n",
    "- Diurnal profile of wind speed (blue) and wind direction (red) at HKW at 100 m MSL\n",
    "- Monthly profile of the wind speed \n",
    "- Power curve of such a turbine\n",
    "- Annual production of one turbine\n",
    "- Annual production of wind farm\n"
   ]
  },
  {
   "cell_type": "markdown",
   "metadata": {},
   "source": [
    "#### Import Libraries  "
   ]
  },
  {
   "cell_type": "code",
   "execution_count": 87,
   "metadata": {},
   "outputs": [],
   "source": [
    "import matplotlib.pyplot as plt\n",
    "import cartopy.crs as ccrs\n",
    "import cartopy.feature as cfeature\n",
    "import pandas as pd\n",
    "import xarray as xr\n",
    "import pandas as pd\n",
    "import os\n",
    "import netCDF4 as nc\n",
    "from netCDF4 import Dataset\n",
    "import numpy as np"
   ]
  },
  {
   "cell_type": "markdown",
   "metadata": {},
   "source": [
    "#### File Paths"
   ]
  },
  {
   "cell_type": "code",
   "execution_count": 88,
   "metadata": {},
   "outputs": [],
   "source": [
    "# Data Paths\n",
    "bouy6_path = 'data/measurements/2023-11-06_Buoy6_BSH_N-9.nc'\n",
    "bouy2_path = 'data/measurements/2023-11-09_Buoy2_BSH_N-9.nc'\n",
    "era5_path = 'data/reanalysis/'\n",
    "turbines_existing_path = 'data/turbine-info/coordinates/existing/'\n",
    "turbines_planned_future_path = 'data/turbine-info/coordinates/planned_future/'\n",
    "turbines_planned_in_operation_before_2030_path = 'data/turbine-info/coordinates/planned_in_operation_before_2030/'\n",
    "turbines_planned_netherlands_path = 'data/turbine-info/coordinates/planned_netherlands/'\n",
    "turbines_area_of_interest_path = 'data/turbine-info/coordinates/area_of_interest/'\n",
    "shapefiles_DEU_path = 'data/shapefiles/DEU/*'\n",
    "shapefiles_DNK_path = 'data/shapefiles/DNK/*'\n",
    "shapefiles_NLD_path = 'data/shapefiles/NLD/*'\n",
    "turbine_power_curves_path = 'data/turbine-info/power_curves/'"
   ]
  },
  {
   "cell_type": "markdown",
   "metadata": {},
   "source": [
    "**3. Pre select measured data needed:**\n",
    "\n",
    "**3.1 Wind Measurements:** \n",
    "- Wind speed\n",
    "- wind direction \n",
    "- turbulence intensity\n",
    "\n",
    "**3.2 Environmental Measurements:**\n",
    "- Humidity \n",
    "- Pressure\n",
    "- Temperature\n",
    "\n",
    "**4. Pre Filter nc Files:**  \n",
    "- select only the data needed for Enviroment and Wind Measurements\n",
    "- select one height of interest (e.g. 94, or 140) for selected turbine Design\n",
    "\n",
    "**5. set pre- filtered file in one dataframe**"
   ]
  },
  {
   "cell_type": "markdown",
   "metadata": {},
   "source": [
    "From 'Overview' we decided to work with: buoy_6_measured and buoy_correlated_with_6 bcs. buoy 2 had a lot of data gaps (not a complete year measured)"
   ]
  },
  {
   "cell_type": "code",
   "execution_count": 89,
   "metadata": {},
   "outputs": [],
   "source": [
    "#Load the datafiles in xr and netcdf \n",
    "\n",
    "xrbuoy6 = xr.open_dataset(bouy6_path)\n",
    "xrbuoy2 = xr.open_dataset(bouy2_path)\n",
    "\n",
    "buoy2_file = Dataset(bouy2_path)\n",
    "buoy6_file = Dataset(bouy6_path)"
   ]
  },
  {
   "cell_type": "code",
   "execution_count": 90,
   "metadata": {},
   "outputs": [],
   "source": [
    "# select the data of interest for now\n",
    "time2 = xrbuoy2.variables['time'][:]\n",
    "windspeed2 = buoy2_file.groups['ZX_LIDAR_WLBZ_6_MCP'].variables['wind_speed'][:]\n",
    "winddirection_buoy_2 = buoy2_file.groups['ZX_LIDAR_WLBZ_6_MCP'].variables['wind_from_direction'][:]"
   ]
  },
  {
   "cell_type": "code",
   "execution_count": 91,
   "metadata": {},
   "outputs": [],
   "source": [
    "time6 = xrbuoy6.variables['time'][:]\n",
    "windspeed6 = buoy6_file.groups['ZX_LIDAR_WLBZ_6'].variables['wind_speed'][:]\n",
    "winddirection_buoy_6 = buoy6_file.groups['ZX_LIDAR_WLBZ_6'].variables['wind_from_direction'][:]"
   ]
  },
  {
   "cell_type": "code",
   "execution_count": 104,
   "metadata": {},
   "outputs": [
    {
     "name": "stdout",
     "output_type": "stream",
     "text": [
      "The original length of time2 array: 67680\n",
      "The original length of winddirection_buoy_2 array: 67680\n",
      "The original length of windspeed_buoy_2 array: 67680\n",
      "The original length of time6 array: 57196\n",
      "The original length of winddirection_buoy_6 array: 57196\n",
      "The original length of windspeed_buoy_6 array: 57196\n",
      "The length of time2_filtered1 array: 56633\n",
      "The length of ws_buoy_2_nanfilter1 array: 56633\n",
      "The length of wd_buoy_2_nanfilter1 array: 56633\n",
      "The absolute filtered wind direction values for wd_buoy_2_nanfilter1: 11047\n",
      "The length of time2_filtered2 array: 56901\n",
      "The length of ws_buoy_2_nanfilter2 array: 56901\n",
      "The length of wd_buoy_2_nanfilter2 array: 56901\n",
      "The absolute filtered wind direction values for wd_buoy_2_nanfilter2: 10779\n",
      "The length of time2_filtered3 array: 56047\n",
      "The length of ws_buoy_2_nanfilter3 array: 56047\n",
      "The length of wd_buoy_2_nanfilter3 array: 56047\n",
      "The absolute filtered wind direction values for wd_buoy_2_nanfilter3: 11633\n",
      "The length of time2_filtered4 array: 55494\n",
      "The length of ws_buoy_2_nanfilter4 array: 55494\n",
      "The length of wd_buoy_2_nanfilter4 array: 55494\n",
      "The absolute filtered wind direction values for wd_buoy_2_nanfilter4: 12186\n",
      "The length of time2_filtered5 array: 55130\n",
      "The length of ws_buoy_2_nanfilter5 array: 55130\n",
      "The length of wd_buoy_2_nanfilter5 array: 55130\n",
      "The absolute filtered wind direction values for wd_buoy_2_nanfilter5: 12550\n",
      "The length of time2_filtered6 array: 54995\n",
      "The length of ws_buoy_2_nanfilter6 array: 54995\n",
      "The length of wd_buoy_2_nanfilter6 array: 54995\n",
      "The absolute filtered wind direction values for wd_buoy_2_nanfilter6: 12685\n",
      "The length of time6_filtered1 array: 56829\n",
      "The length of ws_buoy_6_nanfilter1 array: 56829\n",
      "The length of wd_buoy_6_nanfilter1 array: 56829\n",
      "The absolute filtered wind direction values for wd_buoy_6_nanfilter1: 367\n",
      "The length of time6_filtered2 array: 57036\n",
      "The length of ws_buoy_6_nanfilter2 array: 57036\n",
      "The length of wd_buoy_6_nanfilter2 array: 57036\n",
      "The absolute filtered wind direction values for wd_buoy_6_nanfilter2: 160\n",
      "The length of time6_filtered3 array: 56144\n",
      "The length of ws_buoy_6_nanfilter3 array: 56144\n",
      "The length of wd_buoy_6_nanfilter3 array: 56144\n",
      "The absolute filtered wind direction values for wd_buoy_6_nanfilter3: 1052\n",
      "The length of time6_filtered4 array: 55574\n",
      "The length of ws_buoy_6_nanfilter4 array: 55574\n",
      "The length of wd_buoy_6_nanfilter4 array: 55574\n",
      "The absolute filtered wind direction values for wd_buoy_6_nanfilter4: 1622\n",
      "The length of time6_filtered5 array: 55199\n",
      "The length of ws_buoy_6_nanfilter5 array: 55199\n",
      "The length of wd_buoy_6_nanfilter5 array: 55199\n",
      "The absolute filtered wind direction values for wd_buoy_6_nanfilter5: 1997\n",
      "The length of time6_filtered6 array: 55057\n",
      "The length of ws_buoy_6_nanfilter6 array: 55057\n",
      "The length of wd_buoy_6_nanfilter6 array: 55057\n",
      "The absolute filtered wind direction values for wd_buoy_6_nanfilter6: 2139\n"
     ]
    }
   ],
   "source": [
    "#Filter all NaN values consitent! \n",
    "def filter_nan_values(arr):\n",
    "    return arr[~np.isnan(arr)]\n",
    "\n",
    "def filter_time_nan(time_variable):\n",
    "    valid_time_rows = time_variable.astype('str') != 'NaT'\n",
    "    filtered_time_variable = time_variable[valid_time_rows]\n",
    "    return filtered_time_variable\n",
    "\n",
    "def filter_and_align_data(time_var, wind_speed_var, wind_direction_var):\n",
    "    valid_indices = ~np.isnan(time_var) & ~np.isnan(wind_speed_var) & ~np.isnan(wind_direction_var)\n",
    "    filtered_time = time_var[valid_indices]\n",
    "    filtered_wind_speed = wind_speed_var[valid_indices]\n",
    "    filtered_wind_direction = wind_direction_var[valid_indices]\n",
    "    return filtered_time, filtered_wind_speed, filtered_wind_direction\n",
    "\n",
    "def process_wind_data_nan(time2, winddirection_buoy_2, windspeed_buoy_2, time6, winddirection_buoy_6, windspeed_buoy_6):\n",
    "    # Initialize empty lists to store the results\n",
    "    wd_buoy_2_nanfilters = []\n",
    "    ws_buoy_2_nanfilters = []\n",
    "    wd_buoy_6_nanfilters = []\n",
    "    ws_buoy_6_nanfilters = []\n",
    "    time2_filtered = []\n",
    "    time6_filtered = []\n",
    "\n",
    "    # Loop over the range of indices and filter NaN values\n",
    "    for i in range(0, 6):\n",
    "        t2, ws2, wd2 = filter_and_align_data(time2, windspeed_buoy_2[:, 0, 0, i], winddirection_buoy_2[:, 0, 0, i])\n",
    "        time2_filtered.append(t2)\n",
    "        ws_buoy_2_nanfilters.append(ws2)\n",
    "        wd_buoy_2_nanfilters.append(wd2)\n",
    "        \n",
    "        t6, ws6, wd6 = filter_and_align_data(time6, windspeed_buoy_6[:, 0, 0, i], winddirection_buoy_6[:, 0, 0, i])\n",
    "        time6_filtered.append(t6)\n",
    "        ws_buoy_6_nanfilters.append(ws6)\n",
    "        wd_buoy_6_nanfilters.append(wd6)\n",
    "\n",
    "    # Print the length of the original arrays\n",
    "    print(f'The original length of time2 array: {len(time2)}')\n",
    "    print(f'The original length of winddirection_buoy_2 array: {len(winddirection_buoy_2)}')\n",
    "    print(f'The original length of windspeed_buoy_2 array: {len(windspeed_buoy_2)}')\n",
    "    print(f'The original length of time6 array: {len(time6)}')\n",
    "    print(f'The original length of winddirection_buoy_6 array: {len(winddirection_buoy_6)}')\n",
    "    print(f'The original length of windspeed_buoy_6 array: {len(windspeed_buoy_6)}')\n",
    "\n",
    "    # Print the length of the filtered arrays and absolute filtered values\n",
    "    for i, (filtered_time, filtered_ws, filtered_wd) in enumerate(zip(time2_filtered, ws_buoy_2_nanfilters, wd_buoy_2_nanfilters)):\n",
    "        print(f'The length of time2_filtered{i+1} array: {len(filtered_time)}')\n",
    "        print(f'The length of ws_buoy_2_nanfilter{i+1} array: {len(filtered_ws)}')\n",
    "        print(f'The length of wd_buoy_2_nanfilter{i+1} array: {len(filtered_wd)}')\n",
    "        print(f'The absolute filtered wind direction values for wd_buoy_2_nanfilter{i+1}: {len(time2) - len(filtered_wd)}')\n",
    "\n",
    "    for i, (filtered_time, filtered_ws, filtered_wd) in enumerate(zip(time6_filtered, ws_buoy_6_nanfilters, wd_buoy_6_nanfilters)):\n",
    "        print(f'The length of time6_filtered{i+1} array: {len(filtered_time)}')\n",
    "        print(f'The length of ws_buoy_6_nanfilter{i+1} array: {len(filtered_ws)}')\n",
    "        print(f'The length of wd_buoy_6_nanfilter{i+1} array: {len(filtered_wd)}')\n",
    "        print(f'The absolute filtered wind direction values for wd_buoy_6_nanfilter{i+1}: {len(time6) - len(filtered_wd)}')\n",
    "\n",
    "    return time2_filtered, wd_buoy_2_nanfilters, ws_buoy_2_nanfilters, time6_filtered, wd_buoy_6_nanfilters, ws_buoy_6_nanfilters\n",
    "\n",
    "# Example usage (assuming time2, winddirection_buoy_2, windspeed_buoy_2, time6, winddirection_buoy_6, and windspeed_buoy_6 are defined as numpy arrays)\n",
    "time2_filtered, wd_buoy_2_nanfilters, ws_buoy_2_nanfilters, time6_filtered, wd_buoy_6_nanfilters, ws_buoy_6_nanfilters = process_wind_data_nan(time2, winddirection_buoy_2, windspeed2, time6, winddirection_buoy_6, windspeed6)\n"
   ]
  },
  {
   "cell_type": "code",
   "execution_count": 105,
   "metadata": {},
   "outputs": [
    {
     "name": "stdout",
     "output_type": "stream",
     "text": [
      "[102.639 103.927 104.599 107.635 108.704 107.512 109.771 110.212 110.578\n",
      " 110.991 108.291 107.312 111.425 111.862 108.684 105.063 103.056 101.388\n",
      " 101.722 100.489  99.469  97.175  99.615 100.122 102.824 101.823 100.011\n",
      "  96.435 102.322  99.01  102.329 100.831 102.674 104.816 108.898 105.11\n",
      " 105.507 108.115 107.609 107.102 106.649 109.965 110.739 104.334 108.727\n",
      " 110.801 109.878 112.877 114.565 113.289 112.361 112.029 112.88  115.163\n",
      " 115.109 114.667 119.073 122.424 120.836 117.306 118.024 117.896 117.17\n",
      " 120.333 129.406 130.038 126.112 109.184 109.185 109.166 110.212 107.999\n",
      " 110.5   108.103 113.481 111.584 109.294 112.23  108.179 105.681 107.449\n",
      " 107.485 107.231 105.109 108.571 106.082 103.169 106.025 107.174 108.299\n",
      " 102.897 101.473 103.912  96.731  95.275  99.513  98.667  98.506 103.848\n",
      " 103.163 105.577 102.054 102.978 103.06  102.131  99.436 101.095 103.404\n",
      " 104.809 100.308 105.893 101.167 102.745 104.822  99.187 105.237 106.13\n",
      " 103.003 103.586 106.004 107.496 109.376 107.167 108.728 108.676 109.163\n",
      " 106.289 107.44  107.906 110.524 107.721 111.391 107.126 110.631 111.904\n",
      " 106.527 114.044 114.73  116.757 114.485 115.203 115.777 114.782 118.76\n",
      " 116.807 113.363 121.19  116.406 115.202 117.522 114.564 116.027 116.865\n",
      " 114.252 115.893 119.391 115.685 118.393 117.859 114.988 117.567 116.74\n",
      " 116.13  115.778 123.36  122.434 121.569 121.929 116.639 118.541 118.077\n",
      " 112.395 117.321 117.988 117.368 120.481 119.658 117.087 116.708 114.947\n",
      " 116.015 115.302 116.08  118.653 117.65  118.701 115.969 117.516 116.056\n",
      " 113.775 114.915 112.685 119.931 117.137 113.242 114.152 113.747 114.397\n",
      " 115.909 112.75 ]\n"
     ]
    }
   ],
   "source": [
    "#Example of usage \n",
    "print(wd_buoy_2_nanfilters[0][:200])"
   ]
  }
 ],
 "metadata": {
  "kernelspec": {
   "display_name": "geoplot_env",
   "language": "python",
   "name": "python3"
  },
  "language_info": {
   "codemirror_mode": {
    "name": "ipython",
    "version": 3
   },
   "file_extension": ".py",
   "mimetype": "text/x-python",
   "name": "python",
   "nbconvert_exporter": "python",
   "pygments_lexer": "ipython3",
   "version": "3.11.9"
  }
 },
 "nbformat": 4,
 "nbformat_minor": 2
}
