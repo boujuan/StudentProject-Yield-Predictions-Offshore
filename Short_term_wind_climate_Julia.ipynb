{
 "cells": [
  {
   "cell_type": "markdown",
   "metadata": {},
   "source": [
    "## Short Term Wind Climate \n",
    "**5. Filter data: (report page 30 - 33)**\n",
    "- Outliers in wind speed and direction \n",
    "- Datagaps: Done in 'Overwiev'\n",
    "\n",
    "**6. Interpolate:**\n",
    "- Interpolate to the  one height of interest (= 150 meters for current turbine)\n",
    "\n",
    "**7. Compare the both met masts:**\n",
    "- Scatterplot: windspeed 150 m height mast one against windspeed 150m height mast 2 \n",
    "- Same with the wind direction \n",
    "- Correlate with r^2 - linear correlation for both\n",
    "\n",
    "**8. Short Term Wind Analysis**\n",
    "- Mean, stdv of monthly and annual ws \n",
    "- Wind roses \n",
    "- Select parameters for Weibull model \n",
    "- Plot Weibull model \n",
    "- Diurnal profile of wind speed (blue) and wind direction (red) at HKW at 100 m MSL\n",
    "- Monthly profile of the wind speed \n",
    "- Power curve of such a turbine\n",
    "- Annual production of one turbine\n",
    "- Annual production of wind farm\n"
   ]
  },
  {
   "cell_type": "markdown",
   "metadata": {},
   "source": [
    "### Import Libraries and Load Data "
   ]
  },
  {
   "cell_type": "code",
   "execution_count": 1,
   "metadata": {},
   "outputs": [
    {
     "ename": "ModuleNotFoundError",
     "evalue": "No module named 'windrose'",
     "output_type": "error",
     "traceback": [
      "\u001b[1;31m---------------------------------------------------------------------------\u001b[0m",
      "\u001b[1;31mModuleNotFoundError\u001b[0m                       Traceback (most recent call last)",
      "Cell \u001b[1;32mIn[1], line 13\u001b[0m\n\u001b[0;32m     11\u001b[0m \u001b[38;5;28;01mfrom\u001b[39;00m \u001b[38;5;21;01mscipy\u001b[39;00m\u001b[38;5;21;01m.\u001b[39;00m\u001b[38;5;21;01mstats\u001b[39;00m \u001b[38;5;28;01mimport\u001b[39;00m linregress\n\u001b[0;32m     12\u001b[0m \u001b[38;5;28;01mfrom\u001b[39;00m \u001b[38;5;21;01mmatplotlib\u001b[39;00m\u001b[38;5;21;01m.\u001b[39;00m\u001b[38;5;21;01mprojections\u001b[39;00m\u001b[38;5;21;01m.\u001b[39;00m\u001b[38;5;21;01mpolar\u001b[39;00m \u001b[38;5;28;01mimport\u001b[39;00m PolarAxes\n\u001b[1;32m---> 13\u001b[0m \u001b[38;5;28;01mfrom\u001b[39;00m \u001b[38;5;21;01mwindrose\u001b[39;00m \u001b[38;5;28;01mimport\u001b[39;00m WindroseAxes\n",
      "\u001b[1;31mModuleNotFoundError\u001b[0m: No module named 'windrose'"
     ]
    }
   ],
   "source": [
    "import matplotlib.pyplot as plt\n",
    "import cartopy.crs as ccrs\n",
    "import cartopy.feature as cfeature\n",
    "import pandas as pd\n",
    "import xarray as xr\n",
    "import pandas as pd\n",
    "import os\n",
    "import netCDF4 as nc\n",
    "from netCDF4 import Dataset\n",
    "import numpy as np\n",
    "from scipy.stats import linregress\n",
    "from matplotlib.projections.polar import PolarAxes\n",
    "from windrose import WindroseAxes"
   ]
  },
  {
   "cell_type": "code",
   "execution_count": null,
   "metadata": {},
   "outputs": [],
   "source": [
    "# Data Paths\n",
    "bouy6_path = 'data/measurements/2023-11-06_Buoy6_BSH_N-9.nc'\n",
    "bouy2_path = 'data/measurements/2023-11-09_Buoy2_BSH_N-9.nc'\n",
    "era5_path = 'data/reanalysis/'\n",
    "turbines_existing_path = 'data/turbine-info/coordinates/existing/'\n",
    "turbines_planned_future_path = 'data/turbine-info/coordinates/planned_future/'\n",
    "turbines_planned_in_operation_before_2030_path = 'data/turbine-info/coordinates/planned_in_operation_before_2030/'\n",
    "turbines_planned_netherlands_path = 'data/turbine-info/coordinates/planned_netherlands/'\n",
    "turbines_area_of_interest_path = 'data/turbine-info/coordinates/area_of_interest/'\n",
    "shapefiles_DEU_path = 'data/shapefiles/DEU/*'\n",
    "shapefiles_DNK_path = 'data/shapefiles/DNK/*'\n",
    "shapefiles_NLD_path = 'data/shapefiles/NLD/*'\n",
    "turbine_power_curves_path = 'data/turbine-info/power_curves/'"
   ]
  },
  {
   "cell_type": "markdown",
   "metadata": {},
   "source": [
    "From 'Overview' we decided to work with: buoy_6_measured and buoy_2_correlated_with_6 bcs. buoy 2 had a lot of data gaps (not a complete year measured)"
   ]
  },
  {
   "cell_type": "code",
   "execution_count": null,
   "metadata": {},
   "outputs": [],
   "source": [
    "#Load the datafiles in xr and netcdf \n",
    "\n",
    "xrbuoy6 = xr.open_dataset(bouy6_path)\n",
    "xrbuoy2 = xr.open_dataset(bouy2_path)\n",
    "\n",
    "buoy2_file = Dataset(bouy2_path)\n",
    "buoy6_file = Dataset(bouy6_path)"
   ]
  },
  {
   "cell_type": "code",
   "execution_count": null,
   "metadata": {},
   "outputs": [],
   "source": [
    "#xrbuoy2"
   ]
  },
  {
   "cell_type": "code",
   "execution_count": null,
   "metadata": {},
   "outputs": [],
   "source": [
    "#xrbuoy6"
   ]
  },
  {
   "cell_type": "markdown",
   "metadata": {},
   "source": [
    "### 4. Filter the Data"
   ]
  },
  {
   "cell_type": "code",
   "execution_count": null,
   "metadata": {},
   "outputs": [],
   "source": [
    "# select the data of interest for now\n",
    "time2 = xrbuoy2.variables['time'][:]\n",
    "windspeed2 = buoy2_file.groups['ZX_LIDAR_WLBZ_6_MCP'].variables['wind_speed'][:]\n",
    "winddirection_buoy_2 = buoy2_file.groups['ZX_LIDAR_WLBZ_6_MCP'].variables['wind_from_direction'][:]"
   ]
  },
  {
   "cell_type": "code",
   "execution_count": null,
   "metadata": {},
   "outputs": [],
   "source": [
    "time6 = xrbuoy6.variables['time'][:]\n",
    "windspeed6 = buoy6_file.groups['ZX_LIDAR_WLBZ_6'].variables['wind_speed'][:]\n",
    "winddirection_buoy_6 = buoy6_file.groups['ZX_LIDAR_WLBZ_6'].variables['wind_from_direction'][:]"
   ]
  },
  {
   "cell_type": "code",
   "execution_count": null,
   "metadata": {},
   "outputs": [],
   "source": [
    "def create_buoy_dataframes(time, windspeed_140, winddirection_140, windspeed_200, winddirection_200):\n",
    "    # Convert time variables to pandas datetime (though it's already in datetime64[ns] format)\n",
    "    time = pd.to_datetime(time, unit='ns', origin='unix')\n",
    "    \n",
    "    # Create a single DataFrame for the buoy with measurements at 140m and 200m heights\n",
    "    df_buoy = pd.DataFrame({\n",
    "        'time': time,\n",
    "        'wind_speed_140m': windspeed_140,\n",
    "        'wind_direction_140m': winddirection_140,\n",
    "        'wind_speed_200m': windspeed_200,\n",
    "        'wind_direction_200m': winddirection_200\n",
    "    }).set_index('time')\n",
    "    \n",
    "    return df_buoy\n",
    "\n",
    "#heights for buoy 6: 14 42 94 140 200 250\n",
    "#indices for the heights: 0 1 2 3 4 5 \n",
    "#In future we gonna work only with the height measurements \n",
    "#of 140 and 200 meters to interpolate these two heights to the hub height of 150 m \n",
    "#So that is why we only convert windspeeds[:, 0, 0, 3] and winddirection_buoy_2[:, 0, 0, 3] for example.\n",
    "#Because these indicies stand for the two heights of interest.\n",
    "\n",
    "df_buoy_2 = create_buoy_dataframes(\n",
    "    time2,\n",
    "    windspeed2[:, 0, 0, 3],\n",
    "    winddirection_buoy_2[:, 0, 0, 3],\n",
    "    windspeed2[:, 0, 0, 4],\n",
    "    winddirection_buoy_2[:, 0, 0, 4]\n",
    ")\n",
    "\n",
    "df_buoy_6 = create_buoy_dataframes(\n",
    "    time6,\n",
    "    windspeed6[:, 0, 0, 3],\n",
    "    winddirection_buoy_6[:, 0, 0, 3],\n",
    "    windspeed6[:, 0, 0, 4],\n",
    "    winddirection_buoy_6[:, 0, 0, 4]\n",
    ")\n"
   ]
  },
  {
   "cell_type": "code",
   "execution_count": null,
   "metadata": {},
   "outputs": [],
   "source": [
    "def check_data_gaps(dataframe):\n",
    "    \n",
    "    dataframe.index = dataframe.index.floor('s')  # Truncate microseconds\n",
    "\n",
    "    # Round timestamps to the nearest 10 minutes\n",
    "    dataframe.index = dataframe.index.round('10min')\n",
    "    \n",
    "    # Generate a complete time range based on the data frequency\n",
    "    full_time_range = pd.date_range(start=dataframe.index.min(), end=dataframe.index.max(), freq='10min')\n",
    "    dataframe = dataframe.reindex(full_time_range)\n",
    "    \n",
    "    missing_data = dataframe[dataframe.isnull().any(axis=1)]\n",
    "    \n",
    "    total_expected = len(full_time_range)\n",
    "    total_actual = len(dataframe.dropna())\n",
    "    availability = (total_actual / total_expected) * 100\n",
    "    \n",
    "    print(f\"Data Availability is {availability:.2f}%\")\n",
    "    \n",
    "    if not missing_data.empty:\n",
    "        print(\"Missing time periods are:\")\n",
    "        print(missing_data.index)\n",
    "    else:\n",
    "        print(\"No data gaps are found.\")\n",
    "    \n",
    "    return missing_data\n",
    "\n",
    "#This looks for duplicates and NaN values at the same time!\n",
    "def drop_duplicates(dataframe):\n",
    "    # Identify duplicate rows\n",
    "    duplicates = dataframe[dataframe.duplicated(keep=False)]\n",
    "    \n",
    "    # Drop duplicates\n",
    "    no_duplicate_data = dataframe.drop_duplicates()\n",
    "    \n",
    "    # Calculate data availability\n",
    "    total_expected = len(dataframe)\n",
    "    total_actual = len(no_duplicate_data)\n",
    "    availability = (total_actual / total_expected) * 100\n",
    "    \n",
    "    print(f\"Data Availability is {availability:.2f}%\")\n",
    "    \n",
    "    if not duplicates.empty:\n",
    "        # Set display options to show the entire DataFrame\n",
    "        #with pd.option_context('display.max_rows', None, 'display.max_columns', None):\n",
    "        print(duplicates)\n",
    "    else:\n",
    "        print(\"No duplicates are found.\")\n",
    "    \n",
    "    return duplicates\n",
    "\n",
    "def explore_and_prefilter_df(dataframe):\n",
    "   check_data_gaps(dataframe)\n",
    "   drop_duplicates(dataframe)\n",
    "\n",
    "explore_and_prefilter_df(df_buoy_2)"
   ]
  },
  {
   "cell_type": "code",
   "execution_count": null,
   "metadata": {},
   "outputs": [],
   "source": [
    "def replace_nan_and_select_1yr(dataframe):\n",
    "    dataframe = dataframe.fillna(dataframe.mean())\n",
    "    dataframe = dataframe.iloc[:52704]\n",
    "    return dataframe\n",
    "\n",
    "filtered_buoy2 = replace_nan_and_select_1yr(df_buoy_2)\n",
    "filtered_buoy2"
   ]
  },
  {
   "cell_type": "code",
   "execution_count": null,
   "metadata": {},
   "outputs": [],
   "source": [
    "explore_and_prefilter_df(df_buoy_6)\n",
    "filtered_buoy6 = replace_nan_and_select_1yr(df_buoy_6)\n",
    "filtered_buoy6"
   ]
  },
  {
   "cell_type": "code",
   "execution_count": null,
   "metadata": {},
   "outputs": [],
   "source": [
    "# Assuming 'filtered_buoy6' and 'filtered_buoy2' are your dataframes\n",
    "\n",
    "def interpolate_dataframe(df, col1, col2, height1, height2, target_height):\n",
    "    # Calculate the interpolation factor\n",
    "    factor = (target_height - height1) / (height2 - height1)\n",
    "    # Perform the interpolation\n",
    "    df[f'{col1}_{target_height}m'] = df[col1] + factor * (df[col2] - df[col1])\n",
    "    return df\n",
    "\n",
    "# Interpolating and adding the results to the dataframe for buoy6\n",
    "filtered_buoy6 = interpolate_dataframe(filtered_buoy6, 'wind_speed_140m', 'wind_speed_200m', 140, 200, 150)\n",
    "filtered_buoy6 = interpolate_dataframe(filtered_buoy6, 'wind_direction_140m', 'wind_direction_200m', 140, 200, 150)\n",
    "\n",
    "# Interpolating and adding the results to the dataframe for buoy2\n",
    "filtered_buoy2 = interpolate_dataframe(filtered_buoy2, 'wind_speed_140m', 'wind_speed_200m', 140, 200, 150)\n",
    "filtered_buoy2 = interpolate_dataframe(filtered_buoy2, 'wind_direction_140m', 'wind_direction_200m', 140, 200, 150)\n",
    "\n",
    "# Check the shapes\n",
    "print(filtered_buoy6[f'wind_speed_140m_150m'].shape)\n",
    "print(filtered_buoy6[f'wind_direction_140m_150m'].shape)\n",
    "print()\n",
    "print(filtered_buoy2[f'wind_speed_140m_150m'].shape)\n",
    "print(filtered_buoy2[f'wind_direction_140m_150m'].shape)\n"
   ]
  },
  {
   "cell_type": "markdown",
   "metadata": {},
   "source": [
    "### 6. Interpolate"
   ]
  },
  {
   "attachments": {
    "image.png": {
     "image/png": "[encoded data removed]"
    }
   },
   "cell_type": "markdown",
   "metadata": {},
   "source": [
    "![image.png](attachment:image.png)"
   ]
  },
  {
   "cell_type": "code",
   "execution_count": null,
   "metadata": {},
   "outputs": [],
   "source": [
    "def interpolate_arrays(array1, array2, height1, height2, target_height):\n",
    "\n",
    "    # Calculate the interpolation factor\n",
    "    factor = (target_height - height1) / (height2 - height1) #factor = (x-x1)/(x2-x1)\n",
    "    # Perform the interpolation\n",
    "    interpolated_array = array1 + factor * (array2 - array1) #formular: y1 + factor *(y2 - y1)\n",
    "\n",
    "    return interpolated_array\n",
    "\n",
    "ws6_150m = interpolate_arrays(filtered_buoy6['wind_speed_140m'], filtered_buoy6['wind_speed_200m'], 140, 200, 150)\n",
    "wd6_150m = interpolate_arrays(filtered_buoy6['wind_direction_140m'], filtered_buoy6['wind_direction_200m'], 140, 200, 150)\n",
    "ws2_150m = interpolate_arrays(filtered_buoy2['wind_speed_140m'], filtered_buoy2['wind_speed_200m'], 140, 200, 150)\n",
    "wd2_150m = interpolate_arrays(filtered_buoy2['wind_direction_140m'], filtered_buoy2['wind_direction_200m'], 140, 200, 150)\n",
    "\n",
    "#test if they have the same shape \n",
    "print(ws6_150m.shape)\n",
    "print(wd6_150m.shape)\n",
    "print()\n",
    "print(ws2_150m.shape)\n",
    "print(wd2_150m.shape)\n",
    "\n",
    "# Create a new dataframe with the interpolated arrays\n",
    "df_interpol_height = pd.DataFrame({\n",
    "    'ws6_150m': ws6_150m,\n",
    "    'wd6_150m': wd6_150m,\n",
    "    'ws2_150m': ws2_150m,\n",
    "    'wd2_150m': wd2_150m\n",
    "})\n",
    "\n",
    "df_interpol_height\n",
    "\n"
   ]
  },
  {
   "cell_type": "markdown",
   "metadata": {},
   "source": [
    "### 7. Compare Buoy 2 and Bouy 6 \n",
    "- R2=1: This indicates a perfect fit, meaning that the regression line explains 100% of the variance in the dependent variable.\n",
    "- 0.9≤R^2<1: Indicates an excellent fit, suggesting that the model explains a very high proportion of the variance.\n",
    "- 0.7≤R^2<0.9: Indicates a good fit, suggesting that the model explains a substantial proportion of the variance.\n",
    "- 0.5≤R^2<0.7: Indicates a moderate fit, meaning the model explains a reasonable amount of the variance, but there is still significant unexplained variance.\n",
    "- R^2<0.5: Indicates a poor fit, suggesting that the model does not explain much of the variance in the dependent variable."
   ]
  },
  {
   "cell_type": "code",
   "execution_count": null,
   "metadata": {},
   "outputs": [],
   "source": [
    "def plot_scatter_with_regression(x, y, xlabel, ylabel, title):\n",
    "    # Perform linear regression\n",
    "    slope, intercept, r_value, p_value, std_err = linregress(x, y)\n",
    "\n",
    "    # Create scatter plot\n",
    "    plt.figure(figsize=(10, 6))\n",
    "    plt.scatter(x, y, label='Data points') #s=1 change scatter point size \n",
    "\n",
    "    # Plot regression line\n",
    "    plt.plot(x, slope * x + intercept, color='red', label=f'Regression line (R^2 = {r_value**2:.2f})')\n",
    "\n",
    "    plt.xlabel(xlabel)\n",
    "    plt.ylabel(ylabel)\n",
    "    plt.title(title)\n",
    "    plt.legend()\n",
    "    plt.show()\n",
    "\n",
    "# Scatter plot for wind speed\n",
    "plot_scatter_with_regression(df_interpol_height['ws6_150m'], df_interpol_height['ws2_150m'], 'ws6_150m', 'ws2_150m', 'Wind Speed Comparison at 150m') #52704 intervall points for one year \n",
    "\n",
    "# Scatter plot for wind direction\n",
    "plot_scatter_with_regression(df_interpol_height['wd6_150m'], df_interpol_height['wd2_150m'], 'wd6_150m', 'wd2_150m', 'Wind Direction Comparison at 150m')\n"
   ]
  },
  {
   "cell_type": "markdown",
   "metadata": {},
   "source": [
    "#### Plot the Timeseries for Buoy 2 and 6 "
   ]
  },
  {
   "cell_type": "code",
   "execution_count": null,
   "metadata": {},
   "outputs": [],
   "source": [
    "fig, axes = plt.subplots(1, 2, figsize=(10, 3), sharey=True, sharex=True)\n",
    "\n",
    "axes[0].plot(filtered_buoy6.index, ws6_150m)\n",
    "axes[0].set_title('Wind Speed for interpolated 150 m at Buoy 6')\n",
    "axes[0].set_xlabel('Time')\n",
    "axes[0].set_ylabel('Wind Speed (m/s)')\n",
    "\n",
    "axes[1].plot(filtered_buoy2.index, ws2_150m)\n",
    "axes[1].set_title('Wind Speed for interpolated 150 m at Buoy 2')\n",
    "axes[1].set_xlabel('Time')\n",
    "axes[1].set_ylabel('Wind Speed (m/s)')\n",
    "\n",
    "\n",
    "# Adjust layout to prevent overlap\n",
    "plt.tight_layout()\n",
    "\n",
    "# Display the plots\n",
    "plt.show()"
   ]
  },
  {
   "cell_type": "markdown",
   "metadata": {},
   "source": [
    "### 8. Short Term Wind Analysis for the interpolated 150m height\n"
   ]
  },
  {
   "cell_type": "code",
   "execution_count": null,
   "metadata": {},
   "outputs": [],
   "source": [
    "def divide_into_bins_and_calculate_statistics(data_ws, data_wd, num_bins):\n",
    "    # Calculate the size of each bin\n",
    "    bin_size = len(data_ws) // num_bins\n",
    "    \n",
    "    # Initialize lists to store the means and standard deviations of each bin\n",
    "    bin_means_ws = []\n",
    "    bin_stdv_ws = []\n",
    "    bin_means_wd = []\n",
    "    bin_stdv_wd = []\n",
    "\n",
    "    # Iterate through each bin\n",
    "    for i in range(num_bins):\n",
    "        # Determine the start and end indices of the bin\n",
    "        start_idx = i * bin_size\n",
    "        end_idx = start_idx + bin_size\n",
    "        \n",
    "        # Extract the bin data for wind speed and wind direction\n",
    "        bin_data_ws = data_ws[start_idx:end_idx]\n",
    "        bin_data_wd = data_wd[start_idx:end_idx]\n",
    "        \n",
    "        # Calculate the mean and standard deviation of the bin for wind speed\n",
    "        bin_mean_ws = np.mean(bin_data_ws)\n",
    "        bin_std_ws = np.std(bin_data_ws)\n",
    "        \n",
    "        # Calculate the mean and standard deviation of the bin for wind direction\n",
    "        bin_mean_wd = np.mean(bin_data_wd)\n",
    "        bin_std_wd = np.std(bin_data_wd)\n",
    "        \n",
    "        # Append the mean and standard deviation to their respective lists\n",
    "        bin_means_ws.append(bin_mean_ws)\n",
    "        bin_stdv_ws.append(bin_std_ws)\n",
    "        bin_means_wd.append(bin_mean_wd)\n",
    "        bin_stdv_wd.append(bin_std_wd)\n",
    "\n",
    "    # Create a DataFrame from the lists\n",
    "    df = pd.DataFrame({\n",
    "        'Monthly Means WS': bin_means_ws,\n",
    "        'Monthly Stdv WS': bin_stdv_ws,\n",
    "        'Monthly Means WD': bin_means_wd,\n",
    "        'Monthly Stdv WD': bin_stdv_wd\n",
    "    })\n",
    "\n",
    "    return df\n",
    "\n",
    "# Calculate monthly statistics\n",
    "monthly_stats_ws6 = divide_into_bins_and_calculate_statistics(ws6_150m, wd6_150m, 12)\n",
    "monthly_stats_ws2 = divide_into_bins_and_calculate_statistics(ws2_150m, wd2_150m, 12)\n",
    "\n",
    "# Print the resulting DataFrames\n",
    "print(\"Monthly Statistics for Buoy 6:\")\n",
    "print(monthly_stats_ws6)\n",
    "\n",
    "print(\"Monthly Statistics for Buoy 2:\")\n",
    "print(monthly_stats_ws2)\n"
   ]
  },
  {
   "cell_type": "code",
   "execution_count": null,
   "metadata": {},
   "outputs": [],
   "source": [
    "# Calculate yearly statistics for wind speed\n",
    "yearly_mean_ws6 = np.mean(ws6_150m)\n",
    "yearly_std_ws6 = np.std(ws6_150m)\n",
    "yearly_mean_ws2 = np.mean(ws2_150m)\n",
    "yearly_std_ws2 = np.std(ws2_150m)\n",
    "\n",
    "print(f\"Yearly Mean of Wind Speed Buoy 6: {yearly_mean_ws6:.2f}, Standard Deviation Buoy 6: {yearly_std_ws6:.2f}\")\n",
    "print(f\"Yearly Mean of Wind Speed Buoy 2: {yearly_mean_ws2:.2f}, Standard Deviation Buoy 2: {yearly_std_ws2:.2f}\")\n",
    "\n",
    "# Calculate yearly statistics for wind direction\n",
    "yearly_mean_wd6 = np.mean(wd6_150m)\n",
    "yearly_std_wd6 = np.std(wd6_150m)\n",
    "yearly_mean_wd2 = np.mean(wd2_150m)\n",
    "yearly_std_wd2 = np.std(wd2_150m)\n",
    "\n",
    "print(f\"Yearly Mean of Wind Direction Buoy 6: {yearly_mean_wd6:.2f}, Standard Deviation Buoy 6: {yearly_std_wd6:.2f}\")\n",
    "print(f\"Yearly Mean of Wind Direction Buoy 2: {yearly_mean_wd2:.2f}, Standard Deviation Buoy 2: {yearly_std_wd2:.2f}\")\n"
   ]
  },
  {
   "cell_type": "code",
   "execution_count": null,
   "metadata": {},
   "outputs": [],
   "source": [
    "months = ['Jan', 'Feb', 'Mar', 'Apr', 'May', 'Jun', 'Jul', 'Aug', 'Sep', 'Oct', 'Nov', 'Dec']\n",
    "# Extract the monthly means from the dataframe\n",
    "monthly_means_ws6 = monthly_stats_ws6['Monthly Means WS']\n",
    "monthly_means_wd6 = monthly_stats_ws6['Monthly Means WD']\n",
    "\n",
    "# Plot the monthly mean wind speeds and wind directions\n",
    "fig, ax1 = plt.subplots(figsize=(10, 6))\n",
    "\n",
    "bar_width = 0.4  # Set bar width to half of the current width\n",
    "\n",
    "# Bar plot for wind speeds\n",
    "ax1.bar(months, monthly_means_ws6, color='blue', edgecolor='black', label='Mean Wind Speed', width=bar_width)\n",
    "ax1.set_xlabel('Month')\n",
    "ax1.set_ylabel('Mean Wind Speed (m/s)', color='blue')\n",
    "ax1.set_ylim(0, max(monthly_means_ws6) + 2)  # Adjust y-axis limit for better visualization\n",
    "ax1.tick_params(axis='y', labelcolor='blue')\n",
    "ax1.grid(True, axis='y', linestyle='--', alpha=0.7)\n",
    "\n",
    "# Create a secondary y-axis\n",
    "ax2 = ax1.twinx()\n",
    "ax2.plot(months, monthly_means_wd6, color='red', marker='o', linestyle='-', label='Mean Wind Direction')\n",
    "ax2.set_ylabel('Mean Wind Direction (°)', color='red')\n",
    "ax2.tick_params(axis='y', labelcolor='red')\n",
    "ax2.set_ylim(0, 360)  # Assuming wind direction is in degrees\n",
    "\n",
    "fig.tight_layout()\n",
    "plt.title('Monthly Mean Wind Speeds and Directions for Buoy 6')\n",
    "plt.show()\n"
   ]
  },
  {
   "cell_type": "code",
   "execution_count": null,
   "metadata": {},
   "outputs": [],
   "source": [
    "# Extract the monthly means from the dataframe\n",
    "monthly_means_ws2 = monthly_stats_ws2['Monthly Means WS']\n",
    "monthly_means_wd2 = monthly_stats_ws2['Monthly Means WD']\n",
    "\n",
    "# Plot the monthly mean wind speeds and wind directions\n",
    "fig, ax1 = plt.subplots(figsize=(10, 6))\n",
    "\n",
    "bar_width = 0.4  # Set bar width to half of the current width\n",
    "\n",
    "# Bar plot for wind speeds\n",
    "ax1.bar(months, monthly_means_ws2, color='blue', edgecolor='black', label='Mean Wind Speed', width=bar_width)\n",
    "ax1.set_xlabel('Month')\n",
    "ax1.set_ylabel('Mean Wind Speed (m/s)', color='blue')\n",
    "ax1.set_ylim(0, max(monthly_means_ws2) + 2)  # Adjust y-axis limit for better visualization\n",
    "ax1.tick_params(axis='y', labelcolor='blue')\n",
    "ax1.grid(True, axis='y', linestyle='--', alpha=0.7)\n",
    "\n",
    "# Create a secondary y-axis\n",
    "ax2 = ax1.twinx()\n",
    "ax2.plot(months, monthly_means_wd2, color='red', marker='o', linestyle='-', label='Mean Wind Direction')\n",
    "ax2.set_ylabel('Mean Wind Direction (°)', color='red')\n",
    "ax2.tick_params(axis='y', labelcolor='red')\n",
    "ax2.set_ylim(0, 360)  # Assuming wind direction is in degrees\n",
    "\n",
    "fig.tight_layout()\n",
    "plt.title('Monthly Mean Wind Speeds and Directions for Buoy 2')\n",
    "plt.show()\n"
   ]
  },
  {
   "cell_type": "code",
   "execution_count": null,
   "metadata": {},
   "outputs": [],
   "source": [
    "from windrose import WindroseAxes\n",
    "\n",
    "def plot_wind_rose(wd, ws, title):\n",
    "    ax = WindroseAxes.from_ax()\n",
    "    ax.bar(wd, ws, normed=True, opening=0.8, edgecolor='white')\n",
    "    ax.set_legend()\n",
    "    plt.title(title)\n",
    "    plt.show()\n",
    "\n",
    "plot_wind_rose(df_interpol_height['wd6_150m'], df_interpol_height['ws6_150m'], 'Windrose Plot of Buoy 6 from 03-03-2022 to 03-03-2023' )\n"
   ]
  }
 ],
 "metadata": {
  "kernelspec": {
   "display_name": "geoplot_env",
   "language": "python",
   "name": "python3"
  },
  "language_info": {
   "codemirror_mode": {
    "name": "ipython",
    "version": 3
   },
   "file_extension": ".py",
   "mimetype": "text/x-python",
   "name": "python",
   "nbconvert_exporter": "python",
   "pygments_lexer": "ipython3",
   "version": "3.11.9"
  }
 },
 "nbformat": 4,
 "nbformat_minor": 2
}
