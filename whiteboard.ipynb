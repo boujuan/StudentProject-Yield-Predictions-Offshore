{
 "cells": [
  {
   "cell_type": "markdown",
   "metadata": {},
   "source": [
    "## Python Project WhiteBoard\n",
    "- [PDF Instructions](./PPES-SoSe2024_StudentProject.pdf)\n",
    "- [Github Repository](https://github.com/boujuan/StudentProject-Yield-Predictions-Offshore)\n",
    "---\n",
    "**DATA:**\n",
    "- Floating Lidar Measurements from two positions = *'data/measurements/*.nc'*\n",
    "- Long-term reference model data (ERA5): 1990-2023 = *'data/reanalysis/*.csv'*\n",
    "- Turbine coordinates of existing wind farms = *'data/turbine-info/coordinates/existing/*.csv'*\n",
    "- Turbine coordinates of planned wind farms = *'data/turbine-info/coordinates/planned_future/*.csv'*\n",
    "- Turbine coordinates in operation before 2023 = *'data/turbine-info/coordinates/planned_in_operation_before_2030/*.csv'*\n",
    "- Turbine coordinates planned in netherlands = *'data/turbine-info/coordinates/planned_netherlands/*.csv'*\n",
    "- Geometric turbine coordinates for the areas of interest N-9.1/N-9.2/N-9.3 (not optimized – see Task 12) = *'data/turbine-info/coordinates/area_of_interest/*.csv'*\n",
    "- Shapefiles of wind farm areas, the countries Denmark, Germany and the Netherlands = *'data/shapefiles/.../*'*\n",
    "- Thrust and power curves of wind turbines = *'data/turbine-info/power_curves/*.csv'*\n",
    "---\n",
    "**TASKS:**\n",
    "1. Organize all input data, filter, and read them in in a proper way\n",
    "2. Plot relevant quantities (e.g. histograms, windroses, spatial plots or maps, time series, scatterplots, etc.) of the input \n",
    "data and describe potential deficiencies (e.g. data gaps).\n",
    "3. Do a long-term referencing with lidar measurements and model data (ERA5) using different MCP methods \n"
   ]
  },
  {
   "cell_type": "code",
   "execution_count": 1,
   "metadata": {},
   "outputs": [
    {
     "name": "stdout",
     "output_type": "stream",
     "text": [
      "Python 3.11.9, Pkg manager: pip\n",
      "Env: not applicable\n",
      "\n",
      "numpy ✔, version: 1.26.4\n",
      "pandas ✔, version: 2.2.2\n",
      "netCDF4 ✔, version: 1.6.5\n",
      "matplotlib ✔, version: 3.8.4\n",
      "cartopy ✔, version: 0.23.0\n",
      "\n",
      "All packages are installed.😇\n"
     ]
    }
   ],
   "source": [
    "# Check environment packages\n",
    "from checkenv_requirements import check_and_install_packages\n",
    "packages_to_check = ['numpy', 'pandas', 'netCDF4', 'matplotlib', 'cartopy']\n",
    "check_and_install_packages(packages_to_check)"
   ]
  },
  {
   "cell_type": "code",
   "execution_count": 2,
   "metadata": {},
   "outputs": [],
   "source": [
    "import os\n",
    "import numpy as np\n",
    "import pandas as pd\n",
    "import netCDF4 as nc\n",
    "import matplotlib.pyplot as plt\n",
    "import cartopy.crs as ccrs"
   ]
  },
  {
   "cell_type": "code",
   "execution_count": 3,
   "metadata": {},
   "outputs": [],
   "source": [
    "# Function to read and extract data from netcdf files\n",
    "def read_netcdf(path):\n",
    "    data = nc.Dataset(path, 'r')\n",
    "    return data\n",
    "\n",
    "# Function to read and extract data from csv files\n",
    "def read_csv(path):\n",
    "    data = pd.read_csv(path)\n",
    "    return data"
   ]
  },
  {
   "cell_type": "code",
   "execution_count": 6,
   "metadata": {},
   "outputs": [],
   "source": [
    "# Data Paths\n",
    "lidar_path = 'data/measurements/'\n",
    "era5_path = 'data/reanalysis/'\n",
    "turbines_existing_path = 'data/turbine-info/coordinates/existing/'\n",
    "turbines_planned_future_path = 'data/turbine-info/coordinates/planned_future/'\n",
    "turbines_planned_in_operation_before_2030_path = 'data/turbine-info/coordinates/planned_in_operation_before_2030/'\n",
    "turbines_planned_netherlands_path = 'data/turbine-info/coordinates/planned_netherlands/'\n",
    "turbines_area_of_interest_path = 'data/turbine-info/coordinates/area_of_interest/'\n",
    "shapefiles_DEU_path = 'data/shapefiles/DEU/*'\n",
    "shapefiles_DNK_path = 'data/shapefiles/DNK/*'\n",
    "shapefiles_NLD_path = 'data/shapefiles/NLD/*'\n",
    "turbine_power_curves_path = 'data/turbine-info/power_curves/'"
   ]
  },
  {
   "cell_type": "code",
   "execution_count": 7,
   "metadata": {},
   "outputs": [],
   "source": [
    "# Read lidar data\n",
    "lidar_files = os.listdir(lidar_path)\n",
    "lidar_files = [read_netcdf(lidar_path + file) for file in lidar_files]"
   ]
  },
  {
   "cell_type": "code",
   "execution_count": 8,
   "metadata": {},
   "outputs": [
    {
     "name": "stdout",
     "output_type": "stream",
     "text": [
      "Subgroup: Vaisala Weather Station\n",
      "rain_accumulation\n",
      "rain_duration\n",
      "rain_intensity\n",
      "hail_accumulation\n",
      "hail_duration\n",
      "hail_intensity\n",
      "precipitation_count\n",
      "air_temperature\n",
      "relative_humidity\n",
      "air_pressure\n",
      "air_density\n",
      "air_density_moist\n",
      "PTH_count\n",
      "wind_speed_average\n",
      "wind_speed_min\n",
      "wind_speed_max\n",
      "wind_count\n",
      "Subgroup: Airmar Weather Station\n",
      "air_pressure\n",
      "air_temperature\n",
      "air_density\n",
      "wind_speed_min\n",
      "wind_speed_max\n",
      "wind_speed_average\n",
      "wind_from_direction\n",
      "count\n"
     ]
    }
   ],
   "source": [
    "# Print the variables of the subgroups of the groups\n",
    "for subgroup in lidar_files[0]['/METEO_WLBZ_6'].groups.values():\n",
    "    print(f\"Subgroup: {subgroup.name}\")\n",
    "    # print(subgroup)\n",
    "    # print(\"\\n< VARIABLES >\\n\")\n",
    "    for variable in subgroup.variables.values():\n",
    "        print(variable.name)"
   ]
  },
  {
   "cell_type": "markdown",
   "metadata": {},
   "source": [
    "### Testing the max wind speed data from the two lidar stations\n",
    "\n",
    "**From Buoy Meteo WLBZ 6:**\n",
    "Vaisala Weather Station VS Airmar Weather Station"
   ]
  },
  {
   "cell_type": "code",
   "execution_count": 9,
   "metadata": {},
   "outputs": [
    {
     "name": "stdout",
     "output_type": "stream",
     "text": [
      "Max Wind Speed Data: [ 7.22  7.03  7.01 ... 15.3  12.86 11.87]\n"
     ]
    },
    {
     "data": {
      "image/png": "[encoded data removed]",
      "text/plain": [
       "<Figure size 1000x600 with 1 Axes>"
      ]
     },
     "metadata": {},
     "output_type": "display_data"
    }
   ],
   "source": [
    "# Test extracting data from variables in groups of the netcdf file\n",
    "x = lidar_files[0]['/METEO_WLBZ_6']['Vaisala Weather Station']['wind_speed_max'][:]\n",
    "x2 = lidar_files[0]['/METEO_WLBZ_6']['Airmar Weather Station']['wind_speed_max'][:]\n",
    "\n",
    "# Convert to numpy array, flatten the array, and filter out NaN values\n",
    "x_clean = np.array(x).flatten()\n",
    "x_clean = x_clean[~np.isnan(x_clean)]\n",
    "x2_clean = np.array(x2).flatten()\n",
    "x2_clean = x2_clean[~np.isnan(x2_clean)]\n",
    "\n",
    "print(\"Max Wind Speed Data:\", x_clean)\n",
    "\n",
    "# Plot histogram of the max wind speed data frequency\n",
    "fig1 = plt.figure(figsize=(10, 6))\n",
    "plt.hist(x_clean, bins=100, color='blue', alpha=0.7, density=True)\n",
    "plt.hist(x2_clean, bins=100, color='red', alpha=0.7, density=True)\n",
    "plt.title(\"Histogram of Max Wind Speed Data\")\n",
    "plt.xlabel(\"Wind Speed (m/s)\")\n",
    "plt.ylabel(\"Frequency\")\n",
    "plt.grid(True)\n",
    "plt.show()"
   ]
  }
 ],
 "metadata": {
  "kernelspec": {
   "display_name": "pyproj",
   "language": "python",
   "name": "python3"
  },
  "language_info": {
   "codemirror_mode": {
    "name": "ipython",
    "version": 3
   },
   "file_extension": ".py",
   "mimetype": "text/x-python",
   "name": "python",
   "nbconvert_exporter": "python",
   "pygments_lexer": "ipython3",
   "version": "3.11.9"
  }
 },
 "nbformat": 4,
 "nbformat_minor": 2
}
